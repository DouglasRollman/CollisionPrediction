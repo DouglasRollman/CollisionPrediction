{
 "cells": [
  {
   "cell_type": "code",
   "execution_count": 18,
   "id": "62853a0d-9d74-4ab0-b307-2520edf1469d",
   "metadata": {},
   "outputs": [
    {
     "name": "stdout",
     "output_type": "stream",
     "text": [
      "   RequestID      Boro    Yr  M  D  HH  MM  Vol  SegmentID  \\\n",
      "0      34178  Brooklyn  2022  1  4  16   0  111     189074   \n",
      "1      34178  Brooklyn  2022  1  4  16  15   98     189074   \n",
      "2      34178  Brooklyn  2022  1  4  16  30  122     189074   \n",
      "3      34178  Brooklyn  2022  1  4  16  45  102     189074   \n",
      "4      34178  Brooklyn  2022  1  4  17   0  156     189074   \n",
      "\n",
      "                                        WktGeom         street    fromSt  \\\n",
      "0  POINT (993228.5264971782 150600.75237618468)  OCEAN PARKWAY  Dead End   \n",
      "1  POINT (993228.5264971782 150600.75237618468)  OCEAN PARKWAY  Dead End   \n",
      "2  POINT (993228.5264971782 150600.75237618468)  OCEAN PARKWAY  Dead End   \n",
      "3  POINT (993228.5264971782 150600.75237618468)  OCEAN PARKWAY  Dead End   \n",
      "4  POINT (993228.5264971782 150600.75237618468)  OCEAN PARKWAY  Dead End   \n",
      "\n",
      "                toSt Direction  \n",
      "0  Ocean View Avenue        NB  \n",
      "1  Ocean View Avenue        NB  \n",
      "2  Ocean View Avenue        NB  \n",
      "3  Ocean View Avenue        NB  \n",
      "4  Ocean View Avenue        NB  \n"
     ]
    }
   ],
   "source": [
    "import pandas as pd\n",
    "\n",
    "df = pd.read_csv('Automated_Traffic_Volume_Counts_.csv')\n",
    "\n",
    "print(df.head())"
   ]
  },
  {
   "cell_type": "code",
   "execution_count": 7,
   "id": "0eb828fc-0f2a-4446-a48a-2a98fc31ea31",
   "metadata": {},
   "outputs": [
    {
     "data": {
      "text/html": [
       "<div>\n",
       "<style scoped>\n",
       "    .dataframe tbody tr th:only-of-type {\n",
       "        vertical-align: middle;\n",
       "    }\n",
       "\n",
       "    .dataframe tbody tr th {\n",
       "        vertical-align: top;\n",
       "    }\n",
       "\n",
       "    .dataframe thead th {\n",
       "        text-align: right;\n",
       "    }\n",
       "</style>\n",
       "<table border=\"1\" class=\"dataframe\">\n",
       "  <thead>\n",
       "    <tr style=\"text-align: right;\">\n",
       "      <th></th>\n",
       "      <th>RequestID</th>\n",
       "      <th>Boro</th>\n",
       "      <th>Yr</th>\n",
       "      <th>M</th>\n",
       "      <th>D</th>\n",
       "      <th>HH</th>\n",
       "      <th>MM</th>\n",
       "      <th>Vol</th>\n",
       "      <th>SegmentID</th>\n",
       "      <th>WktGeom</th>\n",
       "      <th>street</th>\n",
       "      <th>fromSt</th>\n",
       "      <th>toSt</th>\n",
       "      <th>Direction</th>\n",
       "    </tr>\n",
       "  </thead>\n",
       "  <tbody>\n",
       "    <tr>\n",
       "      <th>1673720</th>\n",
       "      <td>28843</td>\n",
       "      <td>Queens</td>\n",
       "      <td>2019</td>\n",
       "      <td>1</td>\n",
       "      <td>16</td>\n",
       "      <td>23</td>\n",
       "      <td>0</td>\n",
       "      <td>69</td>\n",
       "      <td>48919</td>\n",
       "      <td>POINT (1012479.3578170447 197473.58983416858)</td>\n",
       "      <td>FRESH POND ROAD</td>\n",
       "      <td>Gates Avenue</td>\n",
       "      <td>Palmetto Street</td>\n",
       "      <td>SB</td>\n",
       "    </tr>\n",
       "    <tr>\n",
       "      <th>1673721</th>\n",
       "      <td>28843</td>\n",
       "      <td>Queens</td>\n",
       "      <td>2019</td>\n",
       "      <td>1</td>\n",
       "      <td>16</td>\n",
       "      <td>23</td>\n",
       "      <td>15</td>\n",
       "      <td>41</td>\n",
       "      <td>48919</td>\n",
       "      <td>POINT (1012479.3578170447 197473.58983416858)</td>\n",
       "      <td>FRESH POND ROAD</td>\n",
       "      <td>Gates Avenue</td>\n",
       "      <td>Palmetto Street</td>\n",
       "      <td>SB</td>\n",
       "    </tr>\n",
       "    <tr>\n",
       "      <th>1673722</th>\n",
       "      <td>28843</td>\n",
       "      <td>Queens</td>\n",
       "      <td>2019</td>\n",
       "      <td>1</td>\n",
       "      <td>16</td>\n",
       "      <td>23</td>\n",
       "      <td>30</td>\n",
       "      <td>47</td>\n",
       "      <td>48919</td>\n",
       "      <td>POINT (1012479.3578170447 197473.58983416858)</td>\n",
       "      <td>FRESH POND ROAD</td>\n",
       "      <td>Gates Avenue</td>\n",
       "      <td>Palmetto Street</td>\n",
       "      <td>SB</td>\n",
       "    </tr>\n",
       "    <tr>\n",
       "      <th>1673723</th>\n",
       "      <td>28843</td>\n",
       "      <td>Queens</td>\n",
       "      <td>2019</td>\n",
       "      <td>1</td>\n",
       "      <td>16</td>\n",
       "      <td>23</td>\n",
       "      <td>45</td>\n",
       "      <td>38</td>\n",
       "      <td>48919</td>\n",
       "      <td>POINT (1012479.3578170447 197473.58983416858)</td>\n",
       "      <td>FRESH POND ROAD</td>\n",
       "      <td>Gates Avenue</td>\n",
       "      <td>Palmetto Street</td>\n",
       "      <td>SB</td>\n",
       "    </tr>\n",
       "    <tr>\n",
       "      <th>1673724</th>\n",
       "      <td>28843</td>\n",
       "      <td>Queens</td>\n",
       "      <td>2019</td>\n",
       "      <td>1</td>\n",
       "      <td>17</td>\n",
       "      <td>0</td>\n",
       "      <td>0</td>\n",
       "      <td>40</td>\n",
       "      <td>48919</td>\n",
       "      <td>POINT (1012479.3578170447 197473.58983416858)</td>\n",
       "      <td>FRESH POND ROAD</td>\n",
       "      <td>Gates Avenue</td>\n",
       "      <td>Palmetto Street</td>\n",
       "      <td>SB</td>\n",
       "    </tr>\n",
       "  </tbody>\n",
       "</table>\n",
       "</div>"
      ],
      "text/plain": [
       "         RequestID    Boro    Yr  M   D  HH  MM  Vol  SegmentID  \\\n",
       "1673720      28843  Queens  2019  1  16  23   0   69      48919   \n",
       "1673721      28843  Queens  2019  1  16  23  15   41      48919   \n",
       "1673722      28843  Queens  2019  1  16  23  30   47      48919   \n",
       "1673723      28843  Queens  2019  1  16  23  45   38      48919   \n",
       "1673724      28843  Queens  2019  1  17   0   0   40      48919   \n",
       "\n",
       "                                               WktGeom           street  \\\n",
       "1673720  POINT (1012479.3578170447 197473.58983416858)  FRESH POND ROAD   \n",
       "1673721  POINT (1012479.3578170447 197473.58983416858)  FRESH POND ROAD   \n",
       "1673722  POINT (1012479.3578170447 197473.58983416858)  FRESH POND ROAD   \n",
       "1673723  POINT (1012479.3578170447 197473.58983416858)  FRESH POND ROAD   \n",
       "1673724  POINT (1012479.3578170447 197473.58983416858)  FRESH POND ROAD   \n",
       "\n",
       "               fromSt             toSt Direction  \n",
       "1673720  Gates Avenue  Palmetto Street        SB  \n",
       "1673721  Gates Avenue  Palmetto Street        SB  \n",
       "1673722  Gates Avenue  Palmetto Street        SB  \n",
       "1673723  Gates Avenue  Palmetto Street        SB  \n",
       "1673724  Gates Avenue  Palmetto Street        SB  "
      ]
     },
     "execution_count": 7,
     "metadata": {},
     "output_type": "execute_result"
    }
   ],
   "source": [
    "df.tail()"
   ]
  },
  {
   "cell_type": "code",
   "execution_count": 11,
   "id": "ca663cc6-c040-43a2-a70f-2988be042b42",
   "metadata": {},
   "outputs": [
    {
     "data": {
      "text/plain": [
       "(1673725, 14)"
      ]
     },
     "execution_count": 11,
     "metadata": {},
     "output_type": "execute_result"
    }
   ],
   "source": [
    "df.shape"
   ]
  },
  {
   "cell_type": "code",
   "execution_count": 13,
   "id": "a1031df0-1a0e-4892-86c6-4c4b3d9f7701",
   "metadata": {},
   "outputs": [
    {
     "data": {
      "text/html": [
       "<div>\n",
       "<style scoped>\n",
       "    .dataframe tbody tr th:only-of-type {\n",
       "        vertical-align: middle;\n",
       "    }\n",
       "\n",
       "    .dataframe tbody tr th {\n",
       "        vertical-align: top;\n",
       "    }\n",
       "\n",
       "    .dataframe thead th {\n",
       "        text-align: right;\n",
       "    }\n",
       "</style>\n",
       "<table border=\"1\" class=\"dataframe\">\n",
       "  <thead>\n",
       "    <tr style=\"text-align: right;\">\n",
       "      <th></th>\n",
       "      <th>RequestID</th>\n",
       "      <th>Yr</th>\n",
       "      <th>M</th>\n",
       "      <th>D</th>\n",
       "      <th>HH</th>\n",
       "      <th>MM</th>\n",
       "      <th>Vol</th>\n",
       "      <th>SegmentID</th>\n",
       "    </tr>\n",
       "  </thead>\n",
       "  <tbody>\n",
       "    <tr>\n",
       "      <th>count</th>\n",
       "      <td>1.673725e+06</td>\n",
       "      <td>1.673725e+06</td>\n",
       "      <td>1.673725e+06</td>\n",
       "      <td>1.673725e+06</td>\n",
       "      <td>1.673725e+06</td>\n",
       "      <td>1.673725e+06</td>\n",
       "      <td>1.673725e+06</td>\n",
       "      <td>1.673725e+06</td>\n",
       "    </tr>\n",
       "    <tr>\n",
       "      <th>mean</th>\n",
       "      <td>1.997611e+04</td>\n",
       "      <td>2.014993e+03</td>\n",
       "      <td>6.415632e+00</td>\n",
       "      <td>1.564396e+01</td>\n",
       "      <td>1.150032e+01</td>\n",
       "      <td>2.241263e+01</td>\n",
       "      <td>1.124797e+02</td>\n",
       "      <td>3.869981e+05</td>\n",
       "    </tr>\n",
       "    <tr>\n",
       "      <th>std</th>\n",
       "      <td>1.030913e+04</td>\n",
       "      <td>4.223844e+00</td>\n",
       "      <td>3.300526e+00</td>\n",
       "      <td>8.574917e+00</td>\n",
       "      <td>6.921353e+00</td>\n",
       "      <td>1.680135e+01</td>\n",
       "      <td>1.901564e+02</td>\n",
       "      <td>1.581920e+06</td>\n",
       "    </tr>\n",
       "    <tr>\n",
       "      <th>min</th>\n",
       "      <td>1.139000e+03</td>\n",
       "      <td>2.000000e+03</td>\n",
       "      <td>1.000000e+00</td>\n",
       "      <td>1.000000e+00</td>\n",
       "      <td>0.000000e+00</td>\n",
       "      <td>0.000000e+00</td>\n",
       "      <td>-1.000000e+00</td>\n",
       "      <td>4.400000e+01</td>\n",
       "    </tr>\n",
       "    <tr>\n",
       "      <th>25%</th>\n",
       "      <td>1.160500e+04</td>\n",
       "      <td>2.012000e+03</td>\n",
       "      <td>4.000000e+00</td>\n",
       "      <td>8.000000e+00</td>\n",
       "      <td>6.000000e+00</td>\n",
       "      <td>0.000000e+00</td>\n",
       "      <td>1.800000e+01</td>\n",
       "      <td>4.414800e+04</td>\n",
       "    </tr>\n",
       "    <tr>\n",
       "      <th>50%</th>\n",
       "      <td>1.964600e+04</td>\n",
       "      <td>2.015000e+03</td>\n",
       "      <td>6.000000e+00</td>\n",
       "      <td>1.600000e+01</td>\n",
       "      <td>1.100000e+01</td>\n",
       "      <td>1.500000e+01</td>\n",
       "      <td>5.900000e+01</td>\n",
       "      <td>8.885900e+04</td>\n",
       "    </tr>\n",
       "    <tr>\n",
       "      <th>75%</th>\n",
       "      <td>2.902300e+04</td>\n",
       "      <td>2.018000e+03</td>\n",
       "      <td>9.000000e+00</td>\n",
       "      <td>2.300000e+01</td>\n",
       "      <td>1.700000e+01</td>\n",
       "      <td>3.000000e+01</td>\n",
       "      <td>1.340000e+02</td>\n",
       "      <td>1.538740e+05</td>\n",
       "    </tr>\n",
       "    <tr>\n",
       "      <th>max</th>\n",
       "      <td>3.701900e+04</td>\n",
       "      <td>2.023000e+03</td>\n",
       "      <td>1.200000e+01</td>\n",
       "      <td>3.100000e+01</td>\n",
       "      <td>2.300000e+01</td>\n",
       "      <td>5.000000e+01</td>\n",
       "      <td>5.425000e+03</td>\n",
       "      <td>9.017010e+06</td>\n",
       "    </tr>\n",
       "  </tbody>\n",
       "</table>\n",
       "</div>"
      ],
      "text/plain": [
       "          RequestID            Yr             M             D            HH  \\\n",
       "count  1.673725e+06  1.673725e+06  1.673725e+06  1.673725e+06  1.673725e+06   \n",
       "mean   1.997611e+04  2.014993e+03  6.415632e+00  1.564396e+01  1.150032e+01   \n",
       "std    1.030913e+04  4.223844e+00  3.300526e+00  8.574917e+00  6.921353e+00   \n",
       "min    1.139000e+03  2.000000e+03  1.000000e+00  1.000000e+00  0.000000e+00   \n",
       "25%    1.160500e+04  2.012000e+03  4.000000e+00  8.000000e+00  6.000000e+00   \n",
       "50%    1.964600e+04  2.015000e+03  6.000000e+00  1.600000e+01  1.100000e+01   \n",
       "75%    2.902300e+04  2.018000e+03  9.000000e+00  2.300000e+01  1.700000e+01   \n",
       "max    3.701900e+04  2.023000e+03  1.200000e+01  3.100000e+01  2.300000e+01   \n",
       "\n",
       "                 MM           Vol     SegmentID  \n",
       "count  1.673725e+06  1.673725e+06  1.673725e+06  \n",
       "mean   2.241263e+01  1.124797e+02  3.869981e+05  \n",
       "std    1.680135e+01  1.901564e+02  1.581920e+06  \n",
       "min    0.000000e+00 -1.000000e+00  4.400000e+01  \n",
       "25%    0.000000e+00  1.800000e+01  4.414800e+04  \n",
       "50%    1.500000e+01  5.900000e+01  8.885900e+04  \n",
       "75%    3.000000e+01  1.340000e+02  1.538740e+05  \n",
       "max    5.000000e+01  5.425000e+03  9.017010e+06  "
      ]
     },
     "execution_count": 13,
     "metadata": {},
     "output_type": "execute_result"
    }
   ],
   "source": [
    "df.describe()"
   ]
  },
  {
   "cell_type": "code",
   "execution_count": 15,
   "id": "996a4d04-be8c-4804-97aa-1c4f2fa03823",
   "metadata": {},
   "outputs": [
    {
     "name": "stdout",
     "output_type": "stream",
     "text": [
      "<class 'pandas.core.frame.DataFrame'>\n",
      "RangeIndex: 1673725 entries, 0 to 1673724\n",
      "Data columns (total 14 columns):\n",
      " #   Column     Non-Null Count    Dtype \n",
      "---  ------     --------------    ----- \n",
      " 0   RequestID  1673725 non-null  int64 \n",
      " 1   Boro       1673725 non-null  object\n",
      " 2   Yr         1673725 non-null  int64 \n",
      " 3   M          1673725 non-null  int64 \n",
      " 4   D          1673725 non-null  int64 \n",
      " 5   HH         1673725 non-null  int64 \n",
      " 6   MM         1673725 non-null  int64 \n",
      " 7   Vol        1673725 non-null  int64 \n",
      " 8   SegmentID  1673725 non-null  int64 \n",
      " 9   WktGeom    1673725 non-null  object\n",
      " 10  street     1673725 non-null  object\n",
      " 11  fromSt     1673725 non-null  object\n",
      " 12  toSt       1672479 non-null  object\n",
      " 13  Direction  1673725 non-null  object\n",
      "dtypes: int64(8), object(6)\n",
      "memory usage: 178.8+ MB\n"
     ]
    }
   ],
   "source": [
    "df.info()"
   ]
  },
  {
   "cell_type": "code",
   "execution_count": 21,
   "id": "f56d077c-a023-4461-820d-1fe76b8a3236",
   "metadata": {},
   "outputs": [
    {
     "data": {
      "text/plain": [
       "Index(['RequestID', 'Boro', 'Yr', 'M', 'D', 'HH', 'MM', 'Vol', 'SegmentID',\n",
       "       'WktGeom', 'street', 'fromSt', 'toSt', 'Direction'],\n",
       "      dtype='object')"
      ]
     },
     "execution_count": 21,
     "metadata": {},
     "output_type": "execute_result"
    }
   ],
   "source": [
    "df.columns"
   ]
  },
  {
   "cell_type": "code",
   "execution_count": 28,
   "id": "f9cd4613-425c-4882-b275-fe203130dcb0",
   "metadata": {},
   "outputs": [
    {
     "data": {
      "text/plain": [
       "RequestID     int64\n",
       "Boro         object\n",
       "Yr            int64\n",
       "M             int64\n",
       "D             int64\n",
       "HH            int64\n",
       "MM            int64\n",
       "Vol           int64\n",
       "SegmentID     int64\n",
       "WktGeom      object\n",
       "street       object\n",
       "fromSt       object\n",
       "toSt         object\n",
       "Direction    object\n",
       "dtype: object"
      ]
     },
     "execution_count": 28,
     "metadata": {},
     "output_type": "execute_result"
    }
   ],
   "source": [
    "df.dtypes"
   ]
  },
  {
   "cell_type": "code",
   "execution_count": 31,
   "id": "72f3b4d0-44f1-4012-b4f8-9314ea458045",
   "metadata": {},
   "outputs": [
    {
     "data": {
      "text/plain": [
       "RequestID       0\n",
       "Boro            0\n",
       "Yr              0\n",
       "M               0\n",
       "D               0\n",
       "HH              0\n",
       "MM              0\n",
       "Vol             0\n",
       "SegmentID       0\n",
       "WktGeom         0\n",
       "street          0\n",
       "fromSt          0\n",
       "toSt         1246\n",
       "Direction       0\n",
       "dtype: int64"
      ]
     },
     "execution_count": 31,
     "metadata": {},
     "output_type": "execute_result"
    }
   ],
   "source": [
    "df.isnull().sum()"
   ]
  },
  {
   "cell_type": "code",
   "execution_count": 34,
   "id": "b5562c12-529b-46d1-8efa-b130daa6c287",
   "metadata": {},
   "outputs": [
    {
     "data": {
      "text/plain": [
       "Boro\n",
       "Queens           521477\n",
       "Brooklyn         464011\n",
       "Manhattan        293985\n",
       "Bronx            272500\n",
       "Staten Island    121752\n",
       "Name: count, dtype: int64"
      ]
     },
     "execution_count": 34,
     "metadata": {},
     "output_type": "execute_result"
    }
   ],
   "source": [
    "df['Boro'].value_counts()"
   ]
  },
  {
   "cell_type": "code",
   "execution_count": 36,
   "id": "14932270-aab8-4ee2-943e-c077bb1c0a97",
   "metadata": {},
   "outputs": [
    {
     "data": {
      "text/plain": [
       "Yr\n",
       "2010    132016\n",
       "2014    130754\n",
       "2016    129617\n",
       "2013    128762\n",
       "2012    128222\n",
       "2015    124428\n",
       "2017    123901\n",
       "2009    122851\n",
       "2011    120249\n",
       "2019    115730\n",
       "2018     98961\n",
       "2021     85810\n",
       "2022     78652\n",
       "2023     70368\n",
       "2020     40224\n",
       "2008     32482\n",
       "2007      8130\n",
       "2000      1904\n",
       "2006       664\n",
       "Name: count, dtype: int64"
      ]
     },
     "execution_count": 36,
     "metadata": {},
     "output_type": "execute_result"
    }
   ],
   "source": [
    "df['Yr'].value_counts()"
   ]
  },
  {
   "cell_type": "code",
   "execution_count": 38,
   "id": "dd560359-89b9-4a57-8465-86b05a3b767b",
   "metadata": {},
   "outputs": [
    {
     "data": {
      "text/plain": [
       "Direction\n",
       "NB    422540\n",
       "SB    420457\n",
       "EB    412517\n",
       "WB    411683\n",
       "EW      3564\n",
       "NS      2964\n",
       "Name: count, dtype: int64"
      ]
     },
     "execution_count": 38,
     "metadata": {},
     "output_type": "execute_result"
    }
   ],
   "source": [
    "df['Direction'].value_counts()"
   ]
  },
  {
   "cell_type": "code",
   "execution_count": null,
   "id": "bcdc0d20-7a1d-414b-b61d-cd24e777daa5",
   "metadata": {},
   "outputs": [],
   "source": [
    "print(f\"Date range: {date_range}\")"
   ]
  }
 ],
 "metadata": {
  "kernelspec": {
   "display_name": "Python 3 (ipykernel)",
   "language": "python",
   "name": "python3"
  },
  "language_info": {
   "codemirror_mode": {
    "name": "ipython",
    "version": 3
   },
   "file_extension": ".py",
   "mimetype": "text/x-python",
   "name": "python",
   "nbconvert_exporter": "python",
   "pygments_lexer": "ipython3",
   "version": "3.11.7"
  }
 },
 "nbformat": 4,
 "nbformat_minor": 5
}
