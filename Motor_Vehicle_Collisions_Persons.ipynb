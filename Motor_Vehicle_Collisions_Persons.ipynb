{
 "cells": [
  {
   "cell_type": "markdown",
   "metadata": {},
   "source": [
    "# Motor Vehicle Collsions - People"
   ]
  },
  {
   "cell_type": "markdown",
   "metadata": {},
   "source": [
    "This dataset, and the corresponding metadata is made publicly available at NYC Open Data (https://data.cityofnewyork.us/Public-Safety/Motor-Vehicle-Collisions-Person/f55k-p6yu/about_data)"
   ]
  },
  {
   "cell_type": "code",
   "execution_count": 1,
   "metadata": {},
   "outputs": [
    {
     "name": "stdout",
     "output_type": "stream",
     "text": [
      "<class 'pandas.core.frame.DataFrame'>\n",
      "RangeIndex: 5424907 entries, 0 to 5424906\n",
      "Data columns (total 21 columns):\n",
      " #   Column                 Dtype  \n",
      "---  ------                 -----  \n",
      " 0   UNIQUE_ID              int64  \n",
      " 1   COLLISION_ID           int64  \n",
      " 2   CRASH_DATE             object \n",
      " 3   CRASH_TIME             object \n",
      " 4   PERSON_ID              object \n",
      " 5   PERSON_TYPE            object \n",
      " 6   PERSON_INJURY          object \n",
      " 7   VEHICLE_ID             float64\n",
      " 8   PERSON_AGE             float64\n",
      " 9   EJECTION               object \n",
      " 10  EMOTIONAL_STATUS       object \n",
      " 11  BODILY_INJURY          object \n",
      " 12  POSITION_IN_VEHICLE    object \n",
      " 13  SAFETY_EQUIPMENT       object \n",
      " 14  PED_LOCATION           object \n",
      " 15  PED_ACTION             object \n",
      " 16  COMPLAINT              object \n",
      " 17  PED_ROLE               object \n",
      " 18  CONTRIBUTING_FACTOR_1  object \n",
      " 19  CONTRIBUTING_FACTOR_2  object \n",
      " 20  PERSON_SEX             object \n",
      "dtypes: float64(2), int64(2), object(17)\n",
      "memory usage: 869.2+ MB\n"
     ]
    }
   ],
   "source": [
    "import pandas as pd\n",
    "\n",
    "df = pd.read_csv('Motor_Vehicle_Collisions_-_Person.csv')\n",
    "df.info()\n"
   ]
  }
 ],
 "metadata": {
  "kernelspec": {
   "display_name": "Python 3",
   "language": "python",
   "name": "python3"
  },
  "language_info": {
   "codemirror_mode": {
    "name": "ipython",
    "version": 3
   },
   "file_extension": ".py",
   "mimetype": "text/x-python",
   "name": "python",
   "nbconvert_exporter": "python",
   "pygments_lexer": "ipython3",
   "version": "3.9.13"
  }
 },
 "nbformat": 4,
 "nbformat_minor": 2
}
