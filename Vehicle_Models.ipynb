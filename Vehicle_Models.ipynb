{
 "cells": [
  {
   "cell_type": "code",
   "execution_count": 24,
   "metadata": {},
   "outputs": [
    {
     "data": {
      "text/plain": [
       "Index(['CRASH DATE', 'CRASH TIME', 'CRASH DAY', 'LATITUDE', 'LONGITUDE',\n",
       "       'is_holiday', 'NUMBER OF PERSONS INJURED', 'NUMBER OF PERSONS KILLED',\n",
       "       'num_vehicles_involved', 'avg_temp', 'snow_depth', 'precip',\n",
       "       'max_wind_spd', 'percent_licensed', 'percent_unlicensed',\n",
       "       'percent_permit'],\n",
       "      dtype='object')"
      ]
     },
     "execution_count": 24,
     "metadata": {},
     "output_type": "execute_result"
    }
   ],
   "source": [
    "import pandas as pd\n",
    "import numpy as np\n",
    "import datetime\n",
    "\n",
    "\n",
    "df = pd.read_csv('Supervised_Learning_Dataset_2.csv')\n",
    "df['CRASH DATE'] = pd.to_datetime(df['CRASH DATE'])\n",
    "df['CRASH DAY'] = df['CRASH DAY'].astype('category')\n",
    "# Function to convert weekday to number (?)\n",
    "def day_to_num(day):\n",
    "    if day == 'Monday':\n",
    "        return 0\n",
    "    elif day == 'Tuesday':\n",
    "        return 1\n",
    "    elif day == 'Wednesday':\n",
    "        return 2\n",
    "    elif day == 'Thursday':\n",
    "        return 3\n",
    "    elif day == 'Friday':\n",
    "        return 4\n",
    "    elif day == 'Saturday':\n",
    "        return 5\n",
    "    elif day == 'Sunday':\n",
    "        return 6\n",
    "df['CRASH DAY'] = df['CRASH DAY'].apply(day_to_num)\n",
    "\n",
    "df['CRASH TIME'] = pd.to_datetime(df['CRASH TIME'], format='%H:%M').dt.time\n",
    "# Function to convert time to seconds\n",
    "def time_to_seconds(t):\n",
    "    return t.hour * 3600 + t.minute * 60 + t.second\n",
    "\n",
    "# Apply the function to the DataFrame\n",
    "df['CRASH TIME'] = df['CRASH TIME'].apply(time_to_seconds)\n",
    "# df['holiday_name'] = df['holiday_name'].astype('category')\n",
    "df = df.drop(columns='holiday_name')\n",
    "df['is_holiday'] = df['is_holiday'].map({'TRUE': 1, 'FALSE': 0})\n",
    "#rest of features are already numeric\n",
    "\n",
    "\n",
    "df.columns\n",
    "\n",
    "\n"
   ]
  },
  {
   "cell_type": "code",
   "execution_count": 25,
   "metadata": {},
   "outputs": [],
   "source": [
    "from sklearn.model_selection import train_test_split\n",
    "\n",
    "#creating features\n",
    "X = df.drop('num_vehicles_involved', axis = 1)\n",
    "\n",
    "#creating target numpy array\n",
    "y = np.array(df['num_vehicles_involved'])\n",
    "\n",
    "#Create respective variables? Idk really \n",
    "X_train, X_test, y_train, y_test = train_test_split(\n",
    "    X, y, test_size=0.2, random_state=42)"
   ]
  },
  {
   "cell_type": "code",
   "execution_count": 26,
   "metadata": {},
   "outputs": [
    {
     "name": "stdout",
     "output_type": "stream",
     "text": [
      "percent_licensed\n"
     ]
    }
   ],
   "source": [
    "#Find more correlated feature for OneR model\n",
    "\n",
    "best_feature = 'CRASH DATE'\n",
    "\n",
    "for str in X.columns:\n",
    "    if X[str].corr(df['num_vehicles_involved']) > X[best_feature].corr(df['num_vehicles_involved']):\n",
    "        best_feature = str \n",
    "\n",
    "print(best_feature)"
   ]
  }
 ],
 "metadata": {
  "kernelspec": {
   "display_name": "base",
   "language": "python",
   "name": "python3"
  },
  "language_info": {
   "codemirror_mode": {
    "name": "ipython",
    "version": 3
   },
   "file_extension": ".py",
   "mimetype": "text/x-python",
   "name": "python",
   "nbconvert_exporter": "python",
   "pygments_lexer": "ipython3",
   "version": "3.12.4"
  }
 },
 "nbformat": 4,
 "nbformat_minor": 2
}
