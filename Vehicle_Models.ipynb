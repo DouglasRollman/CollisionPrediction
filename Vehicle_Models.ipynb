{
 "cells": [
  {
   "cell_type": "markdown",
   "metadata": {},
   "source": [
    "# Models created to predict # of vehicles involved\n",
    "\n",
    "Below are the efforts made to predict the number of vehicles involved in a collision given the data we've accumulated. We weren't sure if this would be a good target or if there would be any correlation, but we were able to come up with models that are decently accurate. The algorithms we used are the following:\n",
    "1. OneR (Baseline)\n",
    "2. Naive Bayes\n",
    "3. Logistic Regression\n",
    "4. Random Forest\n",
    "5. K Nearest Neighbors"
   ]
  },
  {
   "cell_type": "code",
   "execution_count": 16,
   "metadata": {},
   "outputs": [],
   "source": [
    "import pandas as pd\n",
    "import numpy as np\n",
    "from sklearn.preprocessing import LabelEncoder\n",
    "from sklearn.metrics import accuracy_score\n",
    "\n",
    "le= LabelEncoder()\n",
    "df = pd.read_csv('Supervised_Learning_Dataset_2.csv')\n",
    "\n",
    "#Turning Crash Date into separate numeric columns\n",
    "df['CRASH DATE'] = pd.to_datetime(df['CRASH DATE'])\n",
    "df['year'] = df['CRASH DATE'].dt.year\n",
    "df['month'] = df['CRASH DATE'].dt.month\n",
    "df['day'] = df['CRASH DATE'].dt.day\n",
    "df = df.drop(columns='CRASH DATE')\n",
    "\n",
    "#Deal with encoding categorical weekdays\n",
    "df['CRASH DAY'] = df['CRASH DAY'].astype('category')\n",
    "def day_to_num(day):\n",
    "    if day == 'Monday':\n",
    "        return 0\n",
    "    elif day == 'Tuesday':\n",
    "        return 1\n",
    "    elif day == 'Wednesday':\n",
    "        return 2\n",
    "    elif day == 'Thursday':\n",
    "        return 3\n",
    "    elif day == 'Friday':\n",
    "        return 4\n",
    "    elif day == 'Saturday':\n",
    "        return 5\n",
    "    elif day == 'Sunday':\n",
    "        return 6\n",
    "df['CRASH DAY'] = df['CRASH DAY'].apply(day_to_num)\n",
    "\n",
    "# df['percent_unknown'] = 100 - df['percent_licensed'] - df['percent_unlicensed'] - df['percent_permit']\n",
    "\n",
    "#Turning time into numeric data (amount of seconds since midnight)\n",
    "df['CRASH TIME'] = pd.to_datetime(df['CRASH TIME'], format='%H:%M').dt.time\n",
    "# Function to convert time to seconds\n",
    "def time_to_seconds(t):\n",
    "    return t.hour * 3600 + t.minute * 60 + t.second\n",
    "df['CRASH TIME'] = df['CRASH TIME'].apply(time_to_seconds)\n",
    "\n",
    "#Encoding holiday names\n",
    "df['holiday_name'] = df['holiday_name'].fillna('N/A')\n",
    "df['holiday_name'] = df['holiday_name'].astype('category')\n",
    "df['holiday_name'] = le.fit_transform(df['holiday_name'])\n",
    "\n",
    "df['is_holiday'] = df['is_holiday'].astype('category')\n",
    "\n",
    "#filling missing data\n",
    "df['snow_depth'] = df['snow_depth'].fillna(df['snow_depth'].mean())\n",
    "\n",
    "#making target categorical (Only 5 posisble options)\n",
    "df['num_vehicles_involved'] = df['num_vehicles_involved'].astype('category')\n",
    "\n",
    "#Filling missing values for %'s\n",
    "df['percent_licensed'] = df['percent_licensed'].fillna(0)\n",
    "df['percent_unlicensed'] = df['percent_unlicensed'].fillna(0)\n",
    "df['percent_permit'] = df['percent_permit'].fillna(0)\n",
    "df['percent_unknown'] = 100 - df['percent_licensed'] - df['percent_unlicensed'] - df['percent_permit']"
   ]
  },
  {
   "cell_type": "code",
   "execution_count": 17,
   "metadata": {},
   "outputs": [],
   "source": [
    "from sklearn.model_selection import train_test_split\n",
    "\n",
    "#creating features\n",
    "X = df.drop('num_vehicles_involved', axis = 1)\n",
    "\n",
    "#creating target numpy array\n",
    "y = np.array(df['num_vehicles_involved'])\n",
    "\n",
    "#Create respective variables? Idk really \n",
    "X_train, X_test, y_train, y_test = train_test_split(\n",
    "    X, y, test_size=0.2, random_state=42)"
   ]
  },
  {
   "cell_type": "code",
   "execution_count": 18,
   "metadata": {},
   "outputs": [],
   "source": [
    "from sklearn.tree import DecisionTreeClassifier\n",
    "from sklearn.metrics import mean_squared_error\n",
    "\n",
    "decision_tree = DecisionTreeClassifier(max_depth=1)\n",
    "decision_tree.fit(X_train, y_train)\n",
    "\n",
    "# train_pred = decision_tree.predict(X_train)\n",
    "test_pred = decision_tree.predict(X_test)\n",
    "\n"
   ]
  },
  {
   "cell_type": "code",
   "execution_count": 19,
   "metadata": {},
   "outputs": [
    {
     "name": "stdout",
     "output_type": "stream",
     "text": [
      "RMSE for Test Sample:  0.6520821066920548\n",
      "MSE for Test Sample:  0.4252110738679484\n",
      "Python accuracy score:  0.7249715406020744\n"
     ]
    },
    {
     "name": "stderr",
     "output_type": "stream",
     "text": [
      "c:\\Users\\cp2986\\AppData\\Local\\anaconda3\\Lib\\site-packages\\sklearn\\metrics\\_regression.py:483: FutureWarning: 'squared' is deprecated in version 1.4 and will be removed in 1.6. To calculate the root mean squared error, use the function'root_mean_squared_error'.\n",
      "  warnings.warn(\n",
      "c:\\Users\\cp2986\\AppData\\Local\\anaconda3\\Lib\\site-packages\\sklearn\\metrics\\_regression.py:483: FutureWarning: 'squared' is deprecated in version 1.4 and will be removed in 1.6. To calculate the root mean squared error, use the function'root_mean_squared_error'.\n",
      "  warnings.warn(\n"
     ]
    }
   ],
   "source": [
    "# print(\"MSE for Train Sample: \", mean_squared_error(y_train, train_pred, squared=False))\n",
    "print(\"RMSE for Test Sample: \", mean_squared_error(y_test, test_pred, squared=False))\n",
    "print(\"MSE for Test Sample: \", mean_squared_error(y_test, test_pred, squared=True))\n",
    "print(\"Python accuracy score: \", accuracy_score(y_test, test_pred))\n"
   ]
  },
  {
   "cell_type": "code",
   "execution_count": 25,
   "metadata": {},
   "outputs": [
    {
     "name": "stdout",
     "output_type": "stream",
     "text": [
      "MSE for Test Sample:  0.8775553557919464\n"
     ]
    },
    {
     "name": "stderr",
     "output_type": "stream",
     "text": [
      "c:\\Users\\cp2986\\AppData\\Local\\anaconda3\\Lib\\site-packages\\sklearn\\metrics\\_regression.py:483: FutureWarning: 'squared' is deprecated in version 1.4 and will be removed in 1.6. To calculate the root mean squared error, use the function'root_mean_squared_error'.\n",
      "  warnings.warn(\n"
     ]
    }
   ],
   "source": [
    "from sklearn.naive_bayes import GaussianNB\n",
    "from sklearn.metrics import mean_squared_error\n",
    "\n",
    "naive_bayes = GaussianNB()\n",
    "naive_bayes.fit(X_train, y_train)\n",
    "\n",
    "# Make predictions on the test set\n",
    "\n",
    "# train_pred = naive_bayes.predict(X_train)\n",
    "test_pred = naive_bayes.predict(X_test)\n",
    "\n",
    "# print(\"MSE for Train Sample: \", mean_squared_error(y_train, train_pred, squared=False))\n",
    "print(\"MSE for Test Sample: \", mean_squared_error(y_test, test_pred, squared=False))"
   ]
  },
  {
   "cell_type": "code",
   "execution_count": 26,
   "metadata": {},
   "outputs": [
    {
     "name": "stdout",
     "output_type": "stream",
     "text": [
      "RMSE for Test Sample:  0.8775553557919464\n",
      "MSE for Test Sample:  0.7701034024791298\n",
      "Python accuracy score:  0.5849196812547433\n"
     ]
    },
    {
     "name": "stderr",
     "output_type": "stream",
     "text": [
      "c:\\Users\\cp2986\\AppData\\Local\\anaconda3\\Lib\\site-packages\\sklearn\\metrics\\_regression.py:483: FutureWarning: 'squared' is deprecated in version 1.4 and will be removed in 1.6. To calculate the root mean squared error, use the function'root_mean_squared_error'.\n",
      "  warnings.warn(\n",
      "c:\\Users\\cp2986\\AppData\\Local\\anaconda3\\Lib\\site-packages\\sklearn\\metrics\\_regression.py:483: FutureWarning: 'squared' is deprecated in version 1.4 and will be removed in 1.6. To calculate the root mean squared error, use the function'root_mean_squared_error'.\n",
      "  warnings.warn(\n"
     ]
    }
   ],
   "source": [
    "print(\"RMSE for Test Sample: \", mean_squared_error(y_test, test_pred, squared=False))\n",
    "print(\"MSE for Test Sample: \", mean_squared_error(y_test, test_pred, squared=True))\n",
    "print(\"Python accuracy score: \", accuracy_score(y_test, test_pred))"
   ]
  },
  {
   "cell_type": "code",
   "execution_count": 27,
   "metadata": {},
   "outputs": [
    {
     "name": "stdout",
     "output_type": "stream",
     "text": [
      "MSE for Test Sample:  0.6068708907310485\n"
     ]
    },
    {
     "name": "stderr",
     "output_type": "stream",
     "text": [
      "c:\\Users\\cp2986\\AppData\\Local\\anaconda3\\Lib\\site-packages\\sklearn\\linear_model\\_logistic.py:469: ConvergenceWarning: lbfgs failed to converge (status=1):\n",
      "STOP: TOTAL NO. of ITERATIONS REACHED LIMIT.\n",
      "\n",
      "Increase the number of iterations (max_iter) or scale the data as shown in:\n",
      "    https://scikit-learn.org/stable/modules/preprocessing.html\n",
      "Please also refer to the documentation for alternative solver options:\n",
      "    https://scikit-learn.org/stable/modules/linear_model.html#logistic-regression\n",
      "  n_iter_i = _check_optimize_result(\n",
      "c:\\Users\\cp2986\\AppData\\Local\\anaconda3\\Lib\\site-packages\\sklearn\\metrics\\_regression.py:483: FutureWarning: 'squared' is deprecated in version 1.4 and will be removed in 1.6. To calculate the root mean squared error, use the function'root_mean_squared_error'.\n",
      "  warnings.warn(\n"
     ]
    }
   ],
   "source": [
    "from sklearn.linear_model import LogisticRegression\n",
    "\n",
    "# Initialize the Logistic Regression model\n",
    "log_reg = LogisticRegression()\n",
    "log_reg.fit(X_train, y_train)\n",
    "\n",
    "# train_pred = log_reg.predict(X_train)\n",
    "test_pred = log_reg.predict(X_test)"
   ]
  },
  {
   "cell_type": "code",
   "execution_count": 29,
   "metadata": {},
   "outputs": [
    {
     "name": "stdout",
     "output_type": "stream",
     "text": [
      "MSE for Test Sample:  0.5213132328254747\n"
     ]
    },
    {
     "name": "stderr",
     "output_type": "stream",
     "text": [
      "c:\\Users\\cp2986\\AppData\\Local\\anaconda3\\Lib\\site-packages\\sklearn\\metrics\\_regression.py:483: FutureWarning: 'squared' is deprecated in version 1.4 and will be removed in 1.6. To calculate the root mean squared error, use the function'root_mean_squared_error'.\n",
      "  warnings.warn(\n"
     ]
    }
   ],
   "source": [
    "from sklearn.ensemble import RandomForestClassifier\n",
    "\n",
    "rand_for = classifier = RandomForestClassifier(n_estimators=100, random_state=42)\n",
    "\n",
    "rand_for.fit(X_train, y_train)\n",
    "# train_pred = rand_for.predict(X_train)\n",
    "test_pred = rand_for.predict(X_test)\n",
    "\n",
    "# print(\"MSE for Train Sample: \", mean_squared_error(y_train, train_pred, squared=False))\n",
    "print(\"MSE for Test Sample: \", mean_squared_error(y_test, test_pred, squared=False))"
   ]
  },
  {
   "cell_type": "markdown",
   "metadata": {},
   "source": [
    "# K Nearest Neighbors Model\n",
    "\n",
    "Below is the code used to create the model using KNN."
   ]
  },
  {
   "cell_type": "code",
   "execution_count": 31,
   "metadata": {},
   "outputs": [
    {
     "name": "stdout",
     "output_type": "stream",
     "text": [
      "MSE for Test Sample:  0.5960338016330088\n"
     ]
    },
    {
     "name": "stderr",
     "output_type": "stream",
     "text": [
      "c:\\Users\\cp2986\\AppData\\Local\\anaconda3\\Lib\\site-packages\\sklearn\\metrics\\_regression.py:483: FutureWarning: 'squared' is deprecated in version 1.4 and will be removed in 1.6. To calculate the root mean squared error, use the function'root_mean_squared_error'.\n",
      "  warnings.warn(\n"
     ]
    }
   ],
   "source": [
    "from sklearn.neighbors import KNeighborsClassifier\n",
    "\n",
    "knn = KNeighborsClassifier(n_neighbors=10)\n",
    "\n",
    "knn.fit(X_train, y_train)\n",
    "# train_pred = knn.predict(X_train)\n",
    "test_pred = knn.predict(X_test)\n",
    "\n",
    "# print(\"MSE for Train Sample: \", mean_squared_error(y_train, train_pred, squared=False))\n",
    "print(\"MSE for Test Sample: \", mean_squared_error(y_test, test_pred, squared=False))"
   ]
  },
  {
   "cell_type": "markdown",
   "metadata": {},
   "source": [
    "ff"
   ]
  },
  {
   "cell_type": "code",
   "execution_count": 32,
   "metadata": {},
   "outputs": [
    {
     "name": "stdout",
     "output_type": "stream",
     "text": [
      "RMSE for Test Sample:  0.5960338016330088\n",
      "MSE for Test Sample:  0.35525629268909686\n",
      "Python accuracy score:  0.7338927713129269\n"
     ]
    },
    {
     "name": "stderr",
     "output_type": "stream",
     "text": [
      "c:\\Users\\cp2986\\AppData\\Local\\anaconda3\\Lib\\site-packages\\sklearn\\metrics\\_regression.py:483: FutureWarning: 'squared' is deprecated in version 1.4 and will be removed in 1.6. To calculate the root mean squared error, use the function'root_mean_squared_error'.\n",
      "  warnings.warn(\n",
      "c:\\Users\\cp2986\\AppData\\Local\\anaconda3\\Lib\\site-packages\\sklearn\\metrics\\_regression.py:483: FutureWarning: 'squared' is deprecated in version 1.4 and will be removed in 1.6. To calculate the root mean squared error, use the function'root_mean_squared_error'.\n",
      "  warnings.warn(\n"
     ]
    }
   ],
   "source": [
    "print(\"RMSE for Test Sample: \", mean_squared_error(y_test, test_pred, squared=False))\n",
    "print(\"MSE for Test Sample: \", mean_squared_error(y_test, test_pred, squared=True))\n",
    "print(\"Python accuracy score: \", accuracy_score(y_test, test_pred))"
   ]
  }
 ],
 "metadata": {
  "kernelspec": {
   "display_name": "base",
   "language": "python",
   "name": "python3"
  },
  "language_info": {
   "codemirror_mode": {
    "name": "ipython",
    "version": 3
   },
   "file_extension": ".py",
   "mimetype": "text/x-python",
   "name": "python",
   "nbconvert_exporter": "python",
   "pygments_lexer": "ipython3",
   "version": "3.12.4"
  }
 },
 "nbformat": 4,
 "nbformat_minor": 2
}
