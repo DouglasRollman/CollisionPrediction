{
 "cells": [
  {
   "cell_type": "code",
   "execution_count": 24,
   "metadata": {},
   "outputs": [
    {
     "name": "stdout",
     "output_type": "stream",
     "text": [
      "Columns with NaN values: []\n"
     ]
    }
   ],
   "source": [
    "import pandas as pd\n",
    "import numpy as np\n",
    "from sklearn.preprocessing import LabelEncoder\n",
    "\n",
    "le= LabelEncoder()\n",
    "df = pd.read_csv('Supervised_Learning_Dataset_2.csv')\n",
    "\n",
    "#Turning Crash Date into separate numeric columns\n",
    "df['CRASH DATE'] = pd.to_datetime(df['CRASH DATE'])\n",
    "df['year'] = df['CRASH DATE'].dt.year\n",
    "df['month'] = df['CRASH DATE'].dt.month\n",
    "df['day'] = df['CRASH DATE'].dt.day\n",
    "df = df.drop(columns='CRASH DATE')\n",
    "\n",
    "#Deal with encoding categorical weekdays\n",
    "df['CRASH DAY'] = df['CRASH DAY'].astype('category')\n",
    "def day_to_num(day):\n",
    "    if day == 'Monday':\n",
    "        return 0\n",
    "    elif day == 'Tuesday':\n",
    "        return 1\n",
    "    elif day == 'Wednesday':\n",
    "        return 2\n",
    "    elif day == 'Thursday':\n",
    "        return 3\n",
    "    elif day == 'Friday':\n",
    "        return 4\n",
    "    elif day == 'Saturday':\n",
    "        return 5\n",
    "    elif day == 'Sunday':\n",
    "        return 6\n",
    "df['CRASH DAY'] = df['CRASH DAY'].apply(day_to_num)\n",
    "\n",
    "# df['percent_unknown'] = 100 - df['percent_licensed'] - df['percent_unlicensed'] - df['percent_permit']\n",
    "\n",
    "#Turning time into numeric data (amount of seconds since midnight)\n",
    "df['CRASH TIME'] = pd.to_datetime(df['CRASH TIME'], format='%H:%M').dt.time\n",
    "# Function to convert time to seconds\n",
    "def time_to_seconds(t):\n",
    "    return t.hour * 3600 + t.minute * 60 + t.second\n",
    "df['CRASH TIME'] = df['CRASH TIME'].apply(time_to_seconds)\n",
    "\n",
    "#Encoding holiday names\n",
    "df['holiday_name'] = df['holiday_name'].fillna('N/A')\n",
    "df['holiday_name'] = df['holiday_name'].astype('category')\n",
    "df['holiday_name'] = le.fit_transform(df['holiday_name'])\n",
    "\n",
    "df['is_holiday'] = df['is_holiday'].astype('category')\n",
    "\n",
    "#filling missing data\n",
    "df['snow_depth'] = df['snow_depth'].fillna(df['snow_depth'].mean())\n",
    "\n",
    "#making target categorical (Only 5 posisble options)\n",
    "df['num_vehicles_involved'] = df['num_vehicles_involved'].astype('category')\n",
    "\n",
    "#Filling missing values for %'s\n",
    "df['percent_licensed'] = df['percent_licensed'].fillna(0)\n",
    "df['percent_unlicensed'] = df['percent_unlicensed'].fillna(0)\n",
    "df['percent_permit'] = df['percent_permit'].fillna(0)\n",
    "df['percent_unknown'] = 100 - df['percent_licensed'] - df['percent_unlicensed'] - df['percent_permit']"
   ]
  },
  {
   "cell_type": "code",
   "execution_count": 25,
   "metadata": {},
   "outputs": [],
   "source": [
    "from sklearn.model_selection import train_test_split\n",
    "\n",
    "#creating features\n",
    "X = df.drop('num_vehicles_involved', axis = 1)\n",
    "\n",
    "#creating target numpy array\n",
    "y = np.array(df['num_vehicles_involved'])\n",
    "\n",
    "#Create respective variables? Idk really \n",
    "X_train, X_test, y_train, y_test = train_test_split(\n",
    "    X, y, test_size=0.2, random_state=42)"
   ]
  },
  {
   "cell_type": "code",
   "execution_count": 27,
   "metadata": {},
   "outputs": [
    {
     "name": "stderr",
     "output_type": "stream",
     "text": [
      "c:\\Users\\cp2986\\AppData\\Local\\anaconda3\\Lib\\site-packages\\sklearn\\metrics\\_regression.py:483: FutureWarning: 'squared' is deprecated in version 1.4 and will be removed in 1.6. To calculate the root mean squared error, use the function'root_mean_squared_error'.\n",
      "  warnings.warn(\n",
      "c:\\Users\\cp2986\\AppData\\Local\\anaconda3\\Lib\\site-packages\\sklearn\\metrics\\_regression.py:483: FutureWarning: 'squared' is deprecated in version 1.4 and will be removed in 1.6. To calculate the root mean squared error, use the function'root_mean_squared_error'.\n",
      "  warnings.warn(\n"
     ]
    },
    {
     "data": {
      "text/plain": [
       "0.011264904676681616"
      ]
     },
     "execution_count": 27,
     "metadata": {},
     "output_type": "execute_result"
    }
   ],
   "source": [
    "from sklearn.tree import DecisionTreeClassifier, DecisionTreeRegressor\n",
    "from sklearn.metrics import mean_squared_error\n",
    "\n",
    "decision_tree = DecisionTreeRegressor()\n",
    "decision_tree.fit(X_train, y_train)\n",
    "\n",
    "train_pred = decision_tree.predict(X_train)\n",
    "test_pred = decision_tree.predict(X_test)\n",
    "regressor = DecisionTreeRegressor()\n",
    "\n",
    "mean_squared_error(y_test, test_pred, squared=False)\n",
    "\n",
    "\n",
    "mean_squared_error(y_train, train_pred, squared=False)"
   ]
  },
  {
   "cell_type": "code",
   "execution_count": 29,
   "metadata": {},
   "outputs": [
    {
     "name": "stderr",
     "output_type": "stream",
     "text": [
      "c:\\Users\\cp2986\\AppData\\Local\\anaconda3\\Lib\\site-packages\\sklearn\\metrics\\_regression.py:483: FutureWarning: 'squared' is deprecated in version 1.4 and will be removed in 1.6. To calculate the root mean squared error, use the function'root_mean_squared_error'.\n",
      "  warnings.warn(\n",
      "c:\\Users\\cp2986\\AppData\\Local\\anaconda3\\Lib\\site-packages\\sklearn\\metrics\\_regression.py:483: FutureWarning: 'squared' is deprecated in version 1.4 and will be removed in 1.6. To calculate the root mean squared error, use the function'root_mean_squared_error'.\n",
      "  warnings.warn(\n"
     ]
    },
    {
     "data": {
      "text/plain": [
       "0.8754689836990448"
      ]
     },
     "execution_count": 29,
     "metadata": {},
     "output_type": "execute_result"
    }
   ],
   "source": [
    "from sklearn.naive_bayes import GaussianNB\n",
    "from sklearn.metrics import mean_squared_error\n",
    "\n",
    "naive_bayes = GaussianNB()\n",
    "naive_bayes.fit(X_train, y_train)\n",
    "\n",
    "# Make predictions on the test set\n",
    "\n",
    "train_pred = naive_bayes.predict(X_train)\n",
    "test_pred = naive_bayes.predict(X_test)\n",
    "\n",
    "\n",
    "mean_squared_error(y_test, test_pred, squared=False)\n",
    "\n",
    "\n",
    "mean_squared_error(y_train, train_pred, squared=False)"
   ]
  },
  {
   "cell_type": "code",
   "execution_count": 31,
   "metadata": {},
   "outputs": [
    {
     "name": "stderr",
     "output_type": "stream",
     "text": [
      "c:\\Users\\cp2986\\AppData\\Local\\anaconda3\\Lib\\site-packages\\sklearn\\metrics\\_regression.py:483: FutureWarning: 'squared' is deprecated in version 1.4 and will be removed in 1.6. To calculate the root mean squared error, use the function'root_mean_squared_error'.\n",
      "  warnings.warn(\n",
      "c:\\Users\\cp2986\\AppData\\Local\\anaconda3\\Lib\\site-packages\\sklearn\\metrics\\_regression.py:483: FutureWarning: 'squared' is deprecated in version 1.4 and will be removed in 1.6. To calculate the root mean squared error, use the function'root_mean_squared_error'.\n",
      "  warnings.warn(\n"
     ]
    },
    {
     "data": {
      "text/plain": [
       "0.6218557868318726"
      ]
     },
     "execution_count": 31,
     "metadata": {},
     "output_type": "execute_result"
    }
   ],
   "source": [
    "from sklearn.linear_model import LinearRegression\n",
    "\n",
    "# Initialize the Logistic Regression model\n",
    "log_reg = LinearRegression()\n",
    "\n",
    "# Fit the model to the training data\n",
    "log_reg.fit(X_train, y_train)\n",
    "\n",
    "train_pred = log_reg.predict(X_train)\n",
    "test_pred = log_reg.predict(X_test)\n",
    "\n",
    "\n",
    "mean_squared_error(y_test, test_pred, squared=False)\n",
    "\n",
    "\n",
    "mean_squared_error(y_train, train_pred, squared=False)"
   ]
  },
  {
   "cell_type": "code",
   "execution_count": null,
   "metadata": {},
   "outputs": [],
   "source": []
  }
 ],
 "metadata": {
  "kernelspec": {
   "display_name": "base",
   "language": "python",
   "name": "python3"
  },
  "language_info": {
   "codemirror_mode": {
    "name": "ipython",
    "version": 3
   },
   "file_extension": ".py",
   "mimetype": "text/x-python",
   "name": "python",
   "nbconvert_exporter": "python",
   "pygments_lexer": "ipython3",
   "version": "3.12.4"
  }
 },
 "nbformat": 4,
 "nbformat_minor": 2
}
