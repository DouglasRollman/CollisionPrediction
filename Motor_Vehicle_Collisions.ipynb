{
 "cells": [
  {
   "cell_type": "code",
   "execution_count": 15,
   "id": "f885c044-c6ed-4923-bd56-10d0698a1b9e",
   "metadata": {},
   "outputs": [
    {
     "name": "stderr",
     "output_type": "stream",
     "text": [
<<<<<<< HEAD
      "C:\\Users\\dougl\\AppData\\Local\\Temp\\ipykernel_25744\\1737497691.py:3: DtypeWarning: Columns (3) have mixed types. Specify dtype option on import or set low_memory=False.\n",
=======
      "C:\\Users\\dougl\\AppData\\Local\\Temp\\ipykernel_30888\\1737497691.py:3: DtypeWarning: Columns (3) have mixed types. Specify dtype option on import or set low_memory=False.\n",
>>>>>>> 1e50cf15b1c8b83d44b50870cda09a07106bc23e
      "  df = pd.read_csv('Motor_Vehicle_Collisions_.csv')\n"
     ]
    },
    {
     "name": "stdout",
     "output_type": "stream",
     "text": [
      "   CRASH DATE CRASH TIME   BOROUGH ZIP CODE   LATITUDE  LONGITUDE  \\\n",
      "0  09/11/2021       2:39       NaN      NaN        NaN        NaN   \n",
      "1  03/26/2022      11:45       NaN      NaN        NaN        NaN   \n",
      "2  06/29/2022       6:55       NaN      NaN        NaN        NaN   \n",
      "3  09/11/2021       9:35  BROOKLYN  11208.0  40.667202 -73.866500   \n",
      "4  12/14/2021       8:13  BROOKLYN  11233.0  40.683304 -73.917274   \n",
      "\n",
      "                  LOCATION           ON STREET NAME CROSS STREET NAME  \\\n",
      "0                      NaN    WHITESTONE EXPRESSWAY         20 AVENUE   \n",
      "1                      NaN  QUEENSBORO BRIDGE UPPER               NaN   \n",
      "2                      NaN       THROGS NECK BRIDGE               NaN   \n",
      "3    (40.667202, -73.8665)                      NaN               NaN   \n",
      "4  (40.683304, -73.917274)          SARATOGA AVENUE    DECATUR STREET   \n",
      "\n",
      "           OFF STREET NAME  ...  CONTRIBUTING FACTOR VEHICLE 2  \\\n",
      "0                      NaN  ...                    Unspecified   \n",
      "1                      NaN  ...                            NaN   \n",
      "2                      NaN  ...                    Unspecified   \n",
      "3  1211      LORING AVENUE  ...                            NaN   \n",
      "4                      NaN  ...                            NaN   \n",
      "\n",
      "   CONTRIBUTING FACTOR VEHICLE 3  CONTRIBUTING FACTOR VEHICLE 4  \\\n",
      "0                            NaN                            NaN   \n",
      "1                            NaN                            NaN   \n",
      "2                            NaN                            NaN   \n",
      "3                            NaN                            NaN   \n",
      "4                            NaN                            NaN   \n",
      "\n",
      "   CONTRIBUTING FACTOR VEHICLE 5  COLLISION_ID  VEHICLE TYPE CODE 1  \\\n",
      "0                            NaN       4455765                Sedan   \n",
      "1                            NaN       4513547                Sedan   \n",
      "2                            NaN       4541903                Sedan   \n",
      "3                            NaN       4456314                Sedan   \n",
      "4                            NaN       4486609                  NaN   \n",
      "\n",
      "   VEHICLE TYPE CODE 2  VEHICLE TYPE CODE 3 VEHICLE TYPE CODE 4  \\\n",
      "0                Sedan                  NaN                 NaN   \n",
      "1                  NaN                  NaN                 NaN   \n",
      "2        Pick-up Truck                  NaN                 NaN   \n",
      "3                  NaN                  NaN                 NaN   \n",
      "4                  NaN                  NaN                 NaN   \n",
      "\n",
      "  VEHICLE TYPE CODE 5  \n",
      "0                 NaN  \n",
      "1                 NaN  \n",
      "2                 NaN  \n",
      "3                 NaN  \n",
      "4                 NaN  \n",
      "\n",
      "[5 rows x 29 columns]\n"
     ]
    }
   ],
   "source": [
    "import pandas as pd\n",
    "\n",
    "df = pd.read_csv('Motor_Vehicle_Collisions_.csv')\n",
    "\n",
    "print(df.head())"
   ]
  },
  {
   "cell_type": "code",
<<<<<<< HEAD
   "execution_count": 2,
=======
   "execution_count": 16,
>>>>>>> 1e50cf15b1c8b83d44b50870cda09a07106bc23e
   "id": "d7e7da73-8a6a-4f41-a0c7-7cad9973310e",
   "metadata": {},
   "outputs": [
    {
     "data": {
      "text/html": [
       "<div>\n",
       "<style scoped>\n",
       "    .dataframe tbody tr th:only-of-type {\n",
       "        vertical-align: middle;\n",
       "    }\n",
       "\n",
       "    .dataframe tbody tr th {\n",
       "        vertical-align: top;\n",
       "    }\n",
       "\n",
       "    .dataframe thead th {\n",
       "        text-align: right;\n",
       "    }\n",
       "</style>\n",
       "<table border=\"1\" class=\"dataframe\">\n",
       "  <thead>\n",
       "    <tr style=\"text-align: right;\">\n",
       "      <th></th>\n",
       "      <th>CRASH DATE</th>\n",
       "      <th>CRASH TIME</th>\n",
       "      <th>BOROUGH</th>\n",
       "      <th>ZIP CODE</th>\n",
       "      <th>LATITUDE</th>\n",
       "      <th>LONGITUDE</th>\n",
       "      <th>LOCATION</th>\n",
       "      <th>ON STREET NAME</th>\n",
       "      <th>CROSS STREET NAME</th>\n",
       "      <th>OFF STREET NAME</th>\n",
       "      <th>...</th>\n",
       "      <th>CONTRIBUTING FACTOR VEHICLE 2</th>\n",
       "      <th>CONTRIBUTING FACTOR VEHICLE 3</th>\n",
       "      <th>CONTRIBUTING FACTOR VEHICLE 4</th>\n",
       "      <th>CONTRIBUTING FACTOR VEHICLE 5</th>\n",
       "      <th>COLLISION_ID</th>\n",
       "      <th>VEHICLE TYPE CODE 1</th>\n",
       "      <th>VEHICLE TYPE CODE 2</th>\n",
       "      <th>VEHICLE TYPE CODE 3</th>\n",
       "      <th>VEHICLE TYPE CODE 4</th>\n",
       "      <th>VEHICLE TYPE CODE 5</th>\n",
       "    </tr>\n",
       "  </thead>\n",
       "  <tbody>\n",
       "    <tr>\n",
       "      <th>0</th>\n",
       "      <td>09/11/2021</td>\n",
       "      <td>2:39</td>\n",
       "      <td>NaN</td>\n",
       "      <td>NaN</td>\n",
       "      <td>NaN</td>\n",
       "      <td>NaN</td>\n",
       "      <td>NaN</td>\n",
       "      <td>WHITESTONE EXPRESSWAY</td>\n",
       "      <td>20 AVENUE</td>\n",
       "      <td>NaN</td>\n",
       "      <td>...</td>\n",
       "      <td>Unspecified</td>\n",
       "      <td>NaN</td>\n",
       "      <td>NaN</td>\n",
       "      <td>NaN</td>\n",
       "      <td>4455765</td>\n",
       "      <td>Sedan</td>\n",
       "      <td>Sedan</td>\n",
       "      <td>NaN</td>\n",
       "      <td>NaN</td>\n",
       "      <td>NaN</td>\n",
       "    </tr>\n",
       "    <tr>\n",
       "      <th>1</th>\n",
       "      <td>03/26/2022</td>\n",
       "      <td>11:45</td>\n",
       "      <td>NaN</td>\n",
       "      <td>NaN</td>\n",
       "      <td>NaN</td>\n",
       "      <td>NaN</td>\n",
       "      <td>NaN</td>\n",
       "      <td>QUEENSBORO BRIDGE UPPER</td>\n",
       "      <td>NaN</td>\n",
       "      <td>NaN</td>\n",
       "      <td>...</td>\n",
       "      <td>NaN</td>\n",
       "      <td>NaN</td>\n",
       "      <td>NaN</td>\n",
       "      <td>NaN</td>\n",
       "      <td>4513547</td>\n",
       "      <td>Sedan</td>\n",
       "      <td>NaN</td>\n",
       "      <td>NaN</td>\n",
       "      <td>NaN</td>\n",
       "      <td>NaN</td>\n",
       "    </tr>\n",
       "    <tr>\n",
       "      <th>2</th>\n",
       "      <td>06/29/2022</td>\n",
       "      <td>6:55</td>\n",
       "      <td>NaN</td>\n",
       "      <td>NaN</td>\n",
       "      <td>NaN</td>\n",
       "      <td>NaN</td>\n",
       "      <td>NaN</td>\n",
       "      <td>THROGS NECK BRIDGE</td>\n",
       "      <td>NaN</td>\n",
       "      <td>NaN</td>\n",
       "      <td>...</td>\n",
       "      <td>Unspecified</td>\n",
       "      <td>NaN</td>\n",
       "      <td>NaN</td>\n",
       "      <td>NaN</td>\n",
       "      <td>4541903</td>\n",
       "      <td>Sedan</td>\n",
       "      <td>Pick-up Truck</td>\n",
       "      <td>NaN</td>\n",
       "      <td>NaN</td>\n",
       "      <td>NaN</td>\n",
       "    </tr>\n",
       "    <tr>\n",
       "      <th>3</th>\n",
       "      <td>09/11/2021</td>\n",
       "      <td>9:35</td>\n",
       "      <td>BROOKLYN</td>\n",
       "      <td>11208.0</td>\n",
       "      <td>40.667202</td>\n",
       "      <td>-73.866500</td>\n",
       "      <td>(40.667202, -73.8665)</td>\n",
       "      <td>NaN</td>\n",
       "      <td>NaN</td>\n",
       "      <td>1211      LORING AVENUE</td>\n",
       "      <td>...</td>\n",
       "      <td>NaN</td>\n",
       "      <td>NaN</td>\n",
       "      <td>NaN</td>\n",
       "      <td>NaN</td>\n",
       "      <td>4456314</td>\n",
       "      <td>Sedan</td>\n",
       "      <td>NaN</td>\n",
       "      <td>NaN</td>\n",
       "      <td>NaN</td>\n",
       "      <td>NaN</td>\n",
       "    </tr>\n",
       "    <tr>\n",
       "      <th>4</th>\n",
       "      <td>12/14/2021</td>\n",
       "      <td>8:13</td>\n",
       "      <td>BROOKLYN</td>\n",
       "      <td>11233.0</td>\n",
       "      <td>40.683304</td>\n",
       "      <td>-73.917274</td>\n",
       "      <td>(40.683304, -73.917274)</td>\n",
       "      <td>SARATOGA AVENUE</td>\n",
       "      <td>DECATUR STREET</td>\n",
       "      <td>NaN</td>\n",
       "      <td>...</td>\n",
       "      <td>NaN</td>\n",
       "      <td>NaN</td>\n",
       "      <td>NaN</td>\n",
       "      <td>NaN</td>\n",
       "      <td>4486609</td>\n",
       "      <td>NaN</td>\n",
       "      <td>NaN</td>\n",
       "      <td>NaN</td>\n",
       "      <td>NaN</td>\n",
       "      <td>NaN</td>\n",
       "    </tr>\n",
       "  </tbody>\n",
       "</table>\n",
       "<p>5 rows × 29 columns</p>\n",
       "</div>"
      ],
      "text/plain": [
       "   CRASH DATE CRASH TIME   BOROUGH ZIP CODE   LATITUDE  LONGITUDE  \\\n",
       "0  09/11/2021       2:39       NaN      NaN        NaN        NaN   \n",
       "1  03/26/2022      11:45       NaN      NaN        NaN        NaN   \n",
       "2  06/29/2022       6:55       NaN      NaN        NaN        NaN   \n",
       "3  09/11/2021       9:35  BROOKLYN  11208.0  40.667202 -73.866500   \n",
       "4  12/14/2021       8:13  BROOKLYN  11233.0  40.683304 -73.917274   \n",
       "\n",
       "                  LOCATION           ON STREET NAME CROSS STREET NAME  \\\n",
       "0                      NaN    WHITESTONE EXPRESSWAY         20 AVENUE   \n",
       "1                      NaN  QUEENSBORO BRIDGE UPPER               NaN   \n",
       "2                      NaN       THROGS NECK BRIDGE               NaN   \n",
       "3    (40.667202, -73.8665)                      NaN               NaN   \n",
       "4  (40.683304, -73.917274)          SARATOGA AVENUE    DECATUR STREET   \n",
       "\n",
       "           OFF STREET NAME  ...  CONTRIBUTING FACTOR VEHICLE 2  \\\n",
       "0                      NaN  ...                    Unspecified   \n",
       "1                      NaN  ...                            NaN   \n",
       "2                      NaN  ...                    Unspecified   \n",
       "3  1211      LORING AVENUE  ...                            NaN   \n",
       "4                      NaN  ...                            NaN   \n",
       "\n",
       "   CONTRIBUTING FACTOR VEHICLE 3  CONTRIBUTING FACTOR VEHICLE 4  \\\n",
       "0                            NaN                            NaN   \n",
       "1                            NaN                            NaN   \n",
       "2                            NaN                            NaN   \n",
       "3                            NaN                            NaN   \n",
       "4                            NaN                            NaN   \n",
       "\n",
       "   CONTRIBUTING FACTOR VEHICLE 5  COLLISION_ID  VEHICLE TYPE CODE 1  \\\n",
       "0                            NaN       4455765                Sedan   \n",
       "1                            NaN       4513547                Sedan   \n",
       "2                            NaN       4541903                Sedan   \n",
       "3                            NaN       4456314                Sedan   \n",
       "4                            NaN       4486609                  NaN   \n",
       "\n",
       "   VEHICLE TYPE CODE 2  VEHICLE TYPE CODE 3 VEHICLE TYPE CODE 4  \\\n",
       "0                Sedan                  NaN                 NaN   \n",
       "1                  NaN                  NaN                 NaN   \n",
       "2        Pick-up Truck                  NaN                 NaN   \n",
       "3                  NaN                  NaN                 NaN   \n",
       "4                  NaN                  NaN                 NaN   \n",
       "\n",
       "  VEHICLE TYPE CODE 5  \n",
       "0                 NaN  \n",
       "1                 NaN  \n",
       "2                 NaN  \n",
       "3                 NaN  \n",
       "4                 NaN  \n",
       "\n",
       "[5 rows x 29 columns]"
      ]
     },
<<<<<<< HEAD
     "execution_count": 2,
=======
     "execution_count": 16,
>>>>>>> 1e50cf15b1c8b83d44b50870cda09a07106bc23e
     "metadata": {},
     "output_type": "execute_result"
    }
   ],
   "source": [
    "df.head()"
   ]
  },
  {
   "cell_type": "code",
<<<<<<< HEAD
   "execution_count": 3,
=======
   "execution_count": 17,
>>>>>>> 1e50cf15b1c8b83d44b50870cda09a07106bc23e
   "id": "e42f2187-725f-448e-a9f4-49b0248ff7b5",
   "metadata": {},
   "outputs": [
    {
     "data": {
      "text/html": [
       "<div>\n",
       "<style scoped>\n",
       "    .dataframe tbody tr th:only-of-type {\n",
       "        vertical-align: middle;\n",
       "    }\n",
       "\n",
       "    .dataframe tbody tr th {\n",
       "        vertical-align: top;\n",
       "    }\n",
       "\n",
       "    .dataframe thead th {\n",
       "        text-align: right;\n",
       "    }\n",
       "</style>\n",
       "<table border=\"1\" class=\"dataframe\">\n",
       "  <thead>\n",
       "    <tr style=\"text-align: right;\">\n",
       "      <th></th>\n",
       "      <th>CRASH DATE</th>\n",
       "      <th>CRASH TIME</th>\n",
       "      <th>BOROUGH</th>\n",
       "      <th>ZIP CODE</th>\n",
       "      <th>LATITUDE</th>\n",
       "      <th>LONGITUDE</th>\n",
       "      <th>LOCATION</th>\n",
       "      <th>ON STREET NAME</th>\n",
       "      <th>CROSS STREET NAME</th>\n",
       "      <th>OFF STREET NAME</th>\n",
       "      <th>...</th>\n",
       "      <th>CONTRIBUTING FACTOR VEHICLE 2</th>\n",
       "      <th>CONTRIBUTING FACTOR VEHICLE 3</th>\n",
       "      <th>CONTRIBUTING FACTOR VEHICLE 4</th>\n",
       "      <th>CONTRIBUTING FACTOR VEHICLE 5</th>\n",
       "      <th>COLLISION_ID</th>\n",
       "      <th>VEHICLE TYPE CODE 1</th>\n",
       "      <th>VEHICLE TYPE CODE 2</th>\n",
       "      <th>VEHICLE TYPE CODE 3</th>\n",
       "      <th>VEHICLE TYPE CODE 4</th>\n",
       "      <th>VEHICLE TYPE CODE 5</th>\n",
       "    </tr>\n",
       "  </thead>\n",
       "  <tbody>\n",
       "    <tr>\n",
       "      <th>2104704</th>\n",
       "      <td>07/16/2024</td>\n",
       "      <td>9:50</td>\n",
       "      <td>QUEENS</td>\n",
       "      <td>11377.0</td>\n",
       "      <td>40.73954</td>\n",
       "      <td>-73.899605</td>\n",
       "      <td>(40.73954, -73.899605)</td>\n",
       "      <td>NaN</td>\n",
       "      <td>NaN</td>\n",
       "      <td>65-38     LAUREL HILL BOULEVARD</td>\n",
       "      <td>...</td>\n",
       "      <td>Unspecified</td>\n",
       "      <td>NaN</td>\n",
       "      <td>NaN</td>\n",
       "      <td>NaN</td>\n",
       "      <td>4740962</td>\n",
       "      <td>Station Wagon/Sport Utility Vehicle</td>\n",
       "      <td>Sedan</td>\n",
       "      <td>NaN</td>\n",
       "      <td>NaN</td>\n",
       "      <td>NaN</td>\n",
       "    </tr>\n",
       "    <tr>\n",
       "      <th>2104705</th>\n",
       "      <td>07/14/2024</td>\n",
       "      <td>14:40</td>\n",
       "      <td>NaN</td>\n",
       "      <td>NaN</td>\n",
       "      <td>NaN</td>\n",
       "      <td>NaN</td>\n",
       "      <td>NaN</td>\n",
       "      <td>VERRAZANO BRIDGE UPPER</td>\n",
       "      <td>NaN</td>\n",
       "      <td>NaN</td>\n",
       "      <td>...</td>\n",
       "      <td>Unspecified</td>\n",
       "      <td>NaN</td>\n",
       "      <td>NaN</td>\n",
       "      <td>NaN</td>\n",
       "      <td>4741320</td>\n",
       "      <td>Sedan</td>\n",
       "      <td>Station Wagon/Sport Utility Vehicle</td>\n",
       "      <td>NaN</td>\n",
       "      <td>NaN</td>\n",
       "      <td>NaN</td>\n",
       "    </tr>\n",
       "    <tr>\n",
       "      <th>2104706</th>\n",
       "      <td>07/15/2024</td>\n",
       "      <td>12:40</td>\n",
       "      <td>BROOKLYN</td>\n",
       "      <td>11230.0</td>\n",
       "      <td>40.63038</td>\n",
       "      <td>-73.958510</td>\n",
       "      <td>(40.63038, -73.95851)</td>\n",
       "      <td>EAST 19 STREET</td>\n",
       "      <td>AVENUE H</td>\n",
       "      <td>NaN</td>\n",
       "      <td>...</td>\n",
       "      <td>Unspecified</td>\n",
       "      <td>NaN</td>\n",
       "      <td>NaN</td>\n",
       "      <td>NaN</td>\n",
       "      <td>4741334</td>\n",
       "      <td>Station Wagon/Sport Utility Vehicle</td>\n",
       "      <td>Sedan</td>\n",
       "      <td>NaN</td>\n",
       "      <td>NaN</td>\n",
       "      <td>NaN</td>\n",
       "    </tr>\n",
       "    <tr>\n",
       "      <th>2104707</th>\n",
       "      <td>06/17/2024</td>\n",
       "      <td>9:50</td>\n",
       "      <td>NaN</td>\n",
       "      <td>NaN</td>\n",
       "      <td>40.73447</td>\n",
       "      <td>-73.863160</td>\n",
       "      <td>(40.73447, -73.86316)</td>\n",
       "      <td>LONG ISLAND EXPRESSWAY</td>\n",
       "      <td>NaN</td>\n",
       "      <td>NaN</td>\n",
       "      <td>...</td>\n",
       "      <td>NaN</td>\n",
       "      <td>NaN</td>\n",
       "      <td>NaN</td>\n",
       "      <td>NaN</td>\n",
       "      <td>4741349</td>\n",
       "      <td>Sedan</td>\n",
       "      <td>NaN</td>\n",
       "      <td>NaN</td>\n",
       "      <td>NaN</td>\n",
       "      <td>NaN</td>\n",
       "    </tr>\n",
       "    <tr>\n",
       "      <th>2104708</th>\n",
       "      <td>07/16/2024</td>\n",
       "      <td>2:00</td>\n",
       "      <td>QUEENS</td>\n",
       "      <td>11372.0</td>\n",
       "      <td>40.75160</td>\n",
       "      <td>-73.882750</td>\n",
       "      <td>(40.7516, -73.88275)</td>\n",
       "      <td>NaN</td>\n",
       "      <td>NaN</td>\n",
       "      <td>35-59     84 STREET</td>\n",
       "      <td>...</td>\n",
       "      <td>Unspecified</td>\n",
       "      <td>Unspecified</td>\n",
       "      <td>NaN</td>\n",
       "      <td>NaN</td>\n",
       "      <td>4741016</td>\n",
       "      <td>Station Wagon/Sport Utility Vehicle</td>\n",
       "      <td>Station Wagon/Sport Utility Vehicle</td>\n",
       "      <td>Pick-up Truck</td>\n",
       "      <td>NaN</td>\n",
       "      <td>NaN</td>\n",
       "    </tr>\n",
       "  </tbody>\n",
       "</table>\n",
       "<p>5 rows × 29 columns</p>\n",
       "</div>"
      ],
      "text/plain": [
       "         CRASH DATE CRASH TIME   BOROUGH ZIP CODE  LATITUDE  LONGITUDE  \\\n",
       "2104704  07/16/2024       9:50    QUEENS  11377.0  40.73954 -73.899605   \n",
       "2104705  07/14/2024      14:40       NaN      NaN       NaN        NaN   \n",
       "2104706  07/15/2024      12:40  BROOKLYN  11230.0  40.63038 -73.958510   \n",
       "2104707  06/17/2024       9:50       NaN      NaN  40.73447 -73.863160   \n",
       "2104708  07/16/2024       2:00    QUEENS  11372.0  40.75160 -73.882750   \n",
       "\n",
       "                       LOCATION          ON STREET NAME CROSS STREET NAME  \\\n",
       "2104704  (40.73954, -73.899605)                     NaN               NaN   \n",
       "2104705                     NaN  VERRAZANO BRIDGE UPPER               NaN   \n",
       "2104706   (40.63038, -73.95851)          EAST 19 STREET          AVENUE H   \n",
       "2104707   (40.73447, -73.86316)  LONG ISLAND EXPRESSWAY               NaN   \n",
       "2104708    (40.7516, -73.88275)                     NaN               NaN   \n",
       "\n",
       "                         OFF STREET NAME  ...  CONTRIBUTING FACTOR VEHICLE 2  \\\n",
       "2104704  65-38     LAUREL HILL BOULEVARD  ...                    Unspecified   \n",
       "2104705                              NaN  ...                    Unspecified   \n",
       "2104706                              NaN  ...                    Unspecified   \n",
       "2104707                              NaN  ...                            NaN   \n",
       "2104708              35-59     84 STREET  ...                    Unspecified   \n",
       "\n",
       "         CONTRIBUTING FACTOR VEHICLE 3  CONTRIBUTING FACTOR VEHICLE 4  \\\n",
       "2104704                            NaN                            NaN   \n",
       "2104705                            NaN                            NaN   \n",
       "2104706                            NaN                            NaN   \n",
       "2104707                            NaN                            NaN   \n",
       "2104708                    Unspecified                            NaN   \n",
       "\n",
       "         CONTRIBUTING FACTOR VEHICLE 5  COLLISION_ID  \\\n",
       "2104704                            NaN       4740962   \n",
       "2104705                            NaN       4741320   \n",
       "2104706                            NaN       4741334   \n",
       "2104707                            NaN       4741349   \n",
       "2104708                            NaN       4741016   \n",
       "\n",
       "                         VEHICLE TYPE CODE 1  \\\n",
       "2104704  Station Wagon/Sport Utility Vehicle   \n",
       "2104705                                Sedan   \n",
       "2104706  Station Wagon/Sport Utility Vehicle   \n",
       "2104707                                Sedan   \n",
       "2104708  Station Wagon/Sport Utility Vehicle   \n",
       "\n",
       "                         VEHICLE TYPE CODE 2  VEHICLE TYPE CODE 3  \\\n",
       "2104704                                Sedan                  NaN   \n",
       "2104705  Station Wagon/Sport Utility Vehicle                  NaN   \n",
       "2104706                                Sedan                  NaN   \n",
       "2104707                                  NaN                  NaN   \n",
       "2104708  Station Wagon/Sport Utility Vehicle        Pick-up Truck   \n",
       "\n",
       "        VEHICLE TYPE CODE 4 VEHICLE TYPE CODE 5  \n",
       "2104704                 NaN                 NaN  \n",
       "2104705                 NaN                 NaN  \n",
       "2104706                 NaN                 NaN  \n",
       "2104707                 NaN                 NaN  \n",
       "2104708                 NaN                 NaN  \n",
       "\n",
       "[5 rows x 29 columns]"
      ]
     },
<<<<<<< HEAD
     "execution_count": 3,
=======
     "execution_count": 17,
>>>>>>> 1e50cf15b1c8b83d44b50870cda09a07106bc23e
     "metadata": {},
     "output_type": "execute_result"
    }
   ],
   "source": [
    "df.tail()"
   ]
  },
  {
   "cell_type": "code",
<<<<<<< HEAD
   "execution_count": 4,
=======
   "execution_count": 18,
>>>>>>> 1e50cf15b1c8b83d44b50870cda09a07106bc23e
   "id": "229ea0e8-d754-4d59-a5fd-10bcb34841e2",
   "metadata": {},
   "outputs": [
    {
     "name": "stdout",
     "output_type": "stream",
     "text": [
      "<class 'pandas.core.frame.DataFrame'>\n",
      "RangeIndex: 2104709 entries, 0 to 2104708\n",
      "Data columns (total 29 columns):\n",
      " #   Column                         Dtype  \n",
      "---  ------                         -----  \n",
      " 0   CRASH DATE                     object \n",
      " 1   CRASH TIME                     object \n",
      " 2   BOROUGH                        object \n",
      " 3   ZIP CODE                       object \n",
      " 4   LATITUDE                       float64\n",
      " 5   LONGITUDE                      float64\n",
      " 6   LOCATION                       object \n",
      " 7   ON STREET NAME                 object \n",
      " 8   CROSS STREET NAME              object \n",
      " 9   OFF STREET NAME                object \n",
      " 10  NUMBER OF PERSONS INJURED      float64\n",
      " 11  NUMBER OF PERSONS KILLED       float64\n",
      " 12  NUMBER OF PEDESTRIANS INJURED  int64  \n",
      " 13  NUMBER OF PEDESTRIANS KILLED   int64  \n",
      " 14  NUMBER OF CYCLIST INJURED      int64  \n",
      " 15  NUMBER OF CYCLIST KILLED       int64  \n",
      " 16  NUMBER OF MOTORIST INJURED     int64  \n",
      " 17  NUMBER OF MOTORIST KILLED      int64  \n",
      " 18  CONTRIBUTING FACTOR VEHICLE 1  object \n",
      " 19  CONTRIBUTING FACTOR VEHICLE 2  object \n",
      " 20  CONTRIBUTING FACTOR VEHICLE 3  object \n",
      " 21  CONTRIBUTING FACTOR VEHICLE 4  object \n",
      " 22  CONTRIBUTING FACTOR VEHICLE 5  object \n",
      " 23  COLLISION_ID                   int64  \n",
      " 24  VEHICLE TYPE CODE 1            object \n",
      " 25  VEHICLE TYPE CODE 2            object \n",
      " 26  VEHICLE TYPE CODE 3            object \n",
      " 27  VEHICLE TYPE CODE 4            object \n",
      " 28  VEHICLE TYPE CODE 5            object \n",
      "dtypes: float64(4), int64(7), object(18)\n",
      "memory usage: 465.7+ MB\n"
     ]
    }
   ],
   "source": [
    "df.info()"
   ]
  },
  {
   "cell_type": "code",
<<<<<<< HEAD
   "execution_count": 5,
=======
   "execution_count": 19,
>>>>>>> 1e50cf15b1c8b83d44b50870cda09a07106bc23e
   "id": "b0a841ed-852c-4851-bfb3-2933097113e1",
   "metadata": {},
   "outputs": [
    {
     "data": {
      "text/html": [
       "<div>\n",
       "<style scoped>\n",
       "    .dataframe tbody tr th:only-of-type {\n",
       "        vertical-align: middle;\n",
       "    }\n",
       "\n",
       "    .dataframe tbody tr th {\n",
       "        vertical-align: top;\n",
       "    }\n",
       "\n",
       "    .dataframe thead th {\n",
       "        text-align: right;\n",
       "    }\n",
       "</style>\n",
       "<table border=\"1\" class=\"dataframe\">\n",
       "  <thead>\n",
       "    <tr style=\"text-align: right;\">\n",
       "      <th></th>\n",
       "      <th>LATITUDE</th>\n",
       "      <th>LONGITUDE</th>\n",
       "      <th>NUMBER OF PERSONS INJURED</th>\n",
       "      <th>NUMBER OF PERSONS KILLED</th>\n",
       "      <th>NUMBER OF PEDESTRIANS INJURED</th>\n",
       "      <th>NUMBER OF PEDESTRIANS KILLED</th>\n",
       "      <th>NUMBER OF CYCLIST INJURED</th>\n",
       "      <th>NUMBER OF CYCLIST KILLED</th>\n",
       "      <th>NUMBER OF MOTORIST INJURED</th>\n",
       "      <th>NUMBER OF MOTORIST KILLED</th>\n",
       "      <th>COLLISION_ID</th>\n",
       "    </tr>\n",
       "  </thead>\n",
       "  <tbody>\n",
       "    <tr>\n",
       "      <th>count</th>\n",
       "      <td>1.869111e+06</td>\n",
       "      <td>1.869111e+06</td>\n",
       "      <td>2.104691e+06</td>\n",
       "      <td>2.104678e+06</td>\n",
       "      <td>2.104709e+06</td>\n",
       "      <td>2.104709e+06</td>\n",
       "      <td>2.104709e+06</td>\n",
       "      <td>2.104709e+06</td>\n",
       "      <td>2.104709e+06</td>\n",
       "      <td>2.104709e+06</td>\n",
       "      <td>2.104709e+06</td>\n",
       "    </tr>\n",
       "    <tr>\n",
       "      <th>mean</th>\n",
       "      <td>4.062450e+01</td>\n",
       "      <td>-7.374632e+01</td>\n",
       "      <td>3.137487e-01</td>\n",
       "      <td>1.514721e-03</td>\n",
       "      <td>5.703021e-02</td>\n",
       "      <td>7.506976e-04</td>\n",
       "      <td>2.724557e-02</td>\n",
       "      <td>1.173559e-04</td>\n",
       "      <td>2.255979e-01</td>\n",
       "      <td>6.228890e-04</td>\n",
       "      <td>3.181428e+06</td>\n",
       "    </tr>\n",
       "    <tr>\n",
       "      <th>std</th>\n",
       "      <td>2.012576e+00</td>\n",
       "      <td>3.777492e+00</td>\n",
       "      <td>7.034423e-01</td>\n",
       "      <td>4.108803e-02</td>\n",
       "      <td>2.450227e-01</td>\n",
       "      <td>2.797218e-02</td>\n",
       "      <td>1.648487e-01</td>\n",
       "      <td>1.087623e-02</td>\n",
       "      <td>6.646518e-01</td>\n",
       "      <td>2.727881e-02</td>\n",
       "      <td>1.505870e+06</td>\n",
       "    </tr>\n",
       "    <tr>\n",
       "      <th>min</th>\n",
       "      <td>0.000000e+00</td>\n",
       "      <td>-2.013600e+02</td>\n",
       "      <td>0.000000e+00</td>\n",
       "      <td>0.000000e+00</td>\n",
       "      <td>0.000000e+00</td>\n",
       "      <td>0.000000e+00</td>\n",
       "      <td>0.000000e+00</td>\n",
       "      <td>0.000000e+00</td>\n",
       "      <td>0.000000e+00</td>\n",
       "      <td>0.000000e+00</td>\n",
       "      <td>2.200000e+01</td>\n",
       "    </tr>\n",
       "    <tr>\n",
       "      <th>25%</th>\n",
       "      <td>4.066768e+01</td>\n",
       "      <td>-7.397481e+01</td>\n",
       "      <td>0.000000e+00</td>\n",
       "      <td>0.000000e+00</td>\n",
       "      <td>0.000000e+00</td>\n",
       "      <td>0.000000e+00</td>\n",
       "      <td>0.000000e+00</td>\n",
       "      <td>0.000000e+00</td>\n",
       "      <td>0.000000e+00</td>\n",
       "      <td>0.000000e+00</td>\n",
       "      <td>3.162297e+06</td>\n",
       "    </tr>\n",
       "    <tr>\n",
       "      <th>50%</th>\n",
       "      <td>4.072065e+01</td>\n",
       "      <td>-7.392723e+01</td>\n",
       "      <td>0.000000e+00</td>\n",
       "      <td>0.000000e+00</td>\n",
       "      <td>0.000000e+00</td>\n",
       "      <td>0.000000e+00</td>\n",
       "      <td>0.000000e+00</td>\n",
       "      <td>0.000000e+00</td>\n",
       "      <td>0.000000e+00</td>\n",
       "      <td>0.000000e+00</td>\n",
       "      <td>3.688606e+06</td>\n",
       "    </tr>\n",
       "    <tr>\n",
       "      <th>75%</th>\n",
       "      <td>4.076961e+01</td>\n",
       "      <td>-7.386674e+01</td>\n",
       "      <td>0.000000e+00</td>\n",
       "      <td>0.000000e+00</td>\n",
       "      <td>0.000000e+00</td>\n",
       "      <td>0.000000e+00</td>\n",
       "      <td>0.000000e+00</td>\n",
       "      <td>0.000000e+00</td>\n",
       "      <td>0.000000e+00</td>\n",
       "      <td>0.000000e+00</td>\n",
       "      <td>4.215021e+06</td>\n",
       "    </tr>\n",
       "    <tr>\n",
       "      <th>max</th>\n",
       "      <td>4.334444e+01</td>\n",
       "      <td>0.000000e+00</td>\n",
       "      <td>4.300000e+01</td>\n",
       "      <td>8.000000e+00</td>\n",
       "      <td>2.700000e+01</td>\n",
       "      <td>6.000000e+00</td>\n",
       "      <td>4.000000e+00</td>\n",
       "      <td>2.000000e+00</td>\n",
       "      <td>4.300000e+01</td>\n",
       "      <td>5.000000e+00</td>\n",
       "      <td>4.741471e+06</td>\n",
       "    </tr>\n",
       "  </tbody>\n",
       "</table>\n",
       "</div>"
      ],
      "text/plain": [
       "           LATITUDE     LONGITUDE  NUMBER OF PERSONS INJURED  \\\n",
       "count  1.869111e+06  1.869111e+06               2.104691e+06   \n",
       "mean   4.062450e+01 -7.374632e+01               3.137487e-01   \n",
       "std    2.012576e+00  3.777492e+00               7.034423e-01   \n",
       "min    0.000000e+00 -2.013600e+02               0.000000e+00   \n",
       "25%    4.066768e+01 -7.397481e+01               0.000000e+00   \n",
       "50%    4.072065e+01 -7.392723e+01               0.000000e+00   \n",
       "75%    4.076961e+01 -7.386674e+01               0.000000e+00   \n",
       "max    4.334444e+01  0.000000e+00               4.300000e+01   \n",
       "\n",
       "       NUMBER OF PERSONS KILLED  NUMBER OF PEDESTRIANS INJURED  \\\n",
       "count              2.104678e+06                   2.104709e+06   \n",
       "mean               1.514721e-03                   5.703021e-02   \n",
       "std                4.108803e-02                   2.450227e-01   \n",
       "min                0.000000e+00                   0.000000e+00   \n",
       "25%                0.000000e+00                   0.000000e+00   \n",
       "50%                0.000000e+00                   0.000000e+00   \n",
       "75%                0.000000e+00                   0.000000e+00   \n",
       "max                8.000000e+00                   2.700000e+01   \n",
       "\n",
       "       NUMBER OF PEDESTRIANS KILLED  NUMBER OF CYCLIST INJURED  \\\n",
       "count                  2.104709e+06               2.104709e+06   \n",
       "mean                   7.506976e-04               2.724557e-02   \n",
       "std                    2.797218e-02               1.648487e-01   \n",
       "min                    0.000000e+00               0.000000e+00   \n",
       "25%                    0.000000e+00               0.000000e+00   \n",
       "50%                    0.000000e+00               0.000000e+00   \n",
       "75%                    0.000000e+00               0.000000e+00   \n",
       "max                    6.000000e+00               4.000000e+00   \n",
       "\n",
       "       NUMBER OF CYCLIST KILLED  NUMBER OF MOTORIST INJURED  \\\n",
       "count              2.104709e+06                2.104709e+06   \n",
       "mean               1.173559e-04                2.255979e-01   \n",
       "std                1.087623e-02                6.646518e-01   \n",
       "min                0.000000e+00                0.000000e+00   \n",
       "25%                0.000000e+00                0.000000e+00   \n",
       "50%                0.000000e+00                0.000000e+00   \n",
       "75%                0.000000e+00                0.000000e+00   \n",
       "max                2.000000e+00                4.300000e+01   \n",
       "\n",
       "       NUMBER OF MOTORIST KILLED  COLLISION_ID  \n",
       "count               2.104709e+06  2.104709e+06  \n",
       "mean                6.228890e-04  3.181428e+06  \n",
       "std                 2.727881e-02  1.505870e+06  \n",
       "min                 0.000000e+00  2.200000e+01  \n",
       "25%                 0.000000e+00  3.162297e+06  \n",
       "50%                 0.000000e+00  3.688606e+06  \n",
       "75%                 0.000000e+00  4.215021e+06  \n",
       "max                 5.000000e+00  4.741471e+06  "
      ]
     },
<<<<<<< HEAD
     "execution_count": 5,
=======
     "execution_count": 19,
>>>>>>> 1e50cf15b1c8b83d44b50870cda09a07106bc23e
     "metadata": {},
     "output_type": "execute_result"
    }
   ],
   "source": [
    "df.describe()"
   ]
  },
  {
   "cell_type": "code",
<<<<<<< HEAD
   "execution_count": 6,
=======
   "execution_count": 20,
>>>>>>> 1e50cf15b1c8b83d44b50870cda09a07106bc23e
   "id": "48ffd5f1-729d-4d14-8837-14e44ff5339f",
   "metadata": {},
   "outputs": [
    {
     "data": {
      "text/plain": [
       "Index(['CRASH DATE', 'CRASH TIME', 'BOROUGH', 'ZIP CODE', 'LATITUDE',\n",
       "       'LONGITUDE', 'LOCATION', 'ON STREET NAME', 'CROSS STREET NAME',\n",
       "       'OFF STREET NAME', 'NUMBER OF PERSONS INJURED',\n",
       "       'NUMBER OF PERSONS KILLED', 'NUMBER OF PEDESTRIANS INJURED',\n",
       "       'NUMBER OF PEDESTRIANS KILLED', 'NUMBER OF CYCLIST INJURED',\n",
       "       'NUMBER OF CYCLIST KILLED', 'NUMBER OF MOTORIST INJURED',\n",
       "       'NUMBER OF MOTORIST KILLED', 'CONTRIBUTING FACTOR VEHICLE 1',\n",
       "       'CONTRIBUTING FACTOR VEHICLE 2', 'CONTRIBUTING FACTOR VEHICLE 3',\n",
       "       'CONTRIBUTING FACTOR VEHICLE 4', 'CONTRIBUTING FACTOR VEHICLE 5',\n",
       "       'COLLISION_ID', 'VEHICLE TYPE CODE 1', 'VEHICLE TYPE CODE 2',\n",
       "       'VEHICLE TYPE CODE 3', 'VEHICLE TYPE CODE 4', 'VEHICLE TYPE CODE 5'],\n",
       "      dtype='object')"
      ]
     },
<<<<<<< HEAD
     "execution_count": 6,
=======
     "execution_count": 20,
>>>>>>> 1e50cf15b1c8b83d44b50870cda09a07106bc23e
     "metadata": {},
     "output_type": "execute_result"
    }
   ],
   "source": [
    "df.columns"
   ]
  },
  {
   "cell_type": "code",
<<<<<<< HEAD
   "execution_count": 7,
=======
   "execution_count": 21,
>>>>>>> 1e50cf15b1c8b83d44b50870cda09a07106bc23e
   "id": "ad3893dc-17be-4998-a7f8-a173ffa0b984",
   "metadata": {},
   "outputs": [
    {
     "data": {
      "text/plain": [
       "CRASH DATE                        object\n",
       "CRASH TIME                        object\n",
       "BOROUGH                           object\n",
       "ZIP CODE                          object\n",
       "LATITUDE                         float64\n",
       "LONGITUDE                        float64\n",
       "LOCATION                          object\n",
       "ON STREET NAME                    object\n",
       "CROSS STREET NAME                 object\n",
       "OFF STREET NAME                   object\n",
       "NUMBER OF PERSONS INJURED        float64\n",
       "NUMBER OF PERSONS KILLED         float64\n",
       "NUMBER OF PEDESTRIANS INJURED      int64\n",
       "NUMBER OF PEDESTRIANS KILLED       int64\n",
       "NUMBER OF CYCLIST INJURED          int64\n",
       "NUMBER OF CYCLIST KILLED           int64\n",
       "NUMBER OF MOTORIST INJURED         int64\n",
       "NUMBER OF MOTORIST KILLED          int64\n",
       "CONTRIBUTING FACTOR VEHICLE 1     object\n",
       "CONTRIBUTING FACTOR VEHICLE 2     object\n",
       "CONTRIBUTING FACTOR VEHICLE 3     object\n",
       "CONTRIBUTING FACTOR VEHICLE 4     object\n",
       "CONTRIBUTING FACTOR VEHICLE 5     object\n",
       "COLLISION_ID                       int64\n",
       "VEHICLE TYPE CODE 1               object\n",
       "VEHICLE TYPE CODE 2               object\n",
       "VEHICLE TYPE CODE 3               object\n",
       "VEHICLE TYPE CODE 4               object\n",
       "VEHICLE TYPE CODE 5               object\n",
       "dtype: object"
      ]
     },
<<<<<<< HEAD
     "execution_count": 7,
=======
     "execution_count": 21,
>>>>>>> 1e50cf15b1c8b83d44b50870cda09a07106bc23e
     "metadata": {},
     "output_type": "execute_result"
    }
   ],
   "source": [
    "df.dtypes"
   ]
  },
  {
   "cell_type": "code",
<<<<<<< HEAD
   "execution_count": 8,
=======
   "execution_count": 22,
>>>>>>> 1e50cf15b1c8b83d44b50870cda09a07106bc23e
   "id": "75d97633-d5f8-4541-b05d-bead3c068c4b",
   "metadata": {},
   "outputs": [
    {
     "data": {
      "text/plain": [
       "(2104709, 29)"
      ]
     },
<<<<<<< HEAD
     "execution_count": 8,
=======
     "execution_count": 22,
>>>>>>> 1e50cf15b1c8b83d44b50870cda09a07106bc23e
     "metadata": {},
     "output_type": "execute_result"
    }
   ],
   "source": [
    "df.shape"
   ]
  },
  {
   "cell_type": "code",
<<<<<<< HEAD
   "execution_count": 9,
=======
   "execution_count": 23,
>>>>>>> 1e50cf15b1c8b83d44b50870cda09a07106bc23e
   "id": "d6d85636-2f0d-4235-b59c-7d725a53c946",
   "metadata": {
    "editable": true,
    "slideshow": {
     "slide_type": ""
    },
    "tags": []
   },
   "outputs": [
    {
     "data": {
      "text/plain": [
       "CRASH DATE                             0\n",
       "CRASH TIME                             0\n",
       "BOROUGH                           654682\n",
       "ZIP CODE                          654941\n",
       "LATITUDE                          235598\n",
       "LONGITUDE                         235598\n",
       "LOCATION                          235598\n",
       "ON STREET NAME                    449043\n",
       "CROSS STREET NAME                 799411\n",
       "OFF STREET NAME                  1748039\n",
       "NUMBER OF PERSONS INJURED             18\n",
       "NUMBER OF PERSONS KILLED              31\n",
       "NUMBER OF PEDESTRIANS INJURED          0\n",
       "NUMBER OF PEDESTRIANS KILLED           0\n",
       "NUMBER OF CYCLIST INJURED              0\n",
       "NUMBER OF CYCLIST KILLED               0\n",
       "NUMBER OF MOTORIST INJURED             0\n",
       "NUMBER OF MOTORIST KILLED              0\n",
       "CONTRIBUTING FACTOR VEHICLE 1       6995\n",
       "CONTRIBUTING FACTOR VEHICLE 2     328336\n",
       "CONTRIBUTING FACTOR VEHICLE 3    1953796\n",
       "CONTRIBUTING FACTOR VEHICLE 4    2070527\n",
       "CONTRIBUTING FACTOR VEHICLE 5    2095429\n",
       "COLLISION_ID                           0\n",
       "VEHICLE TYPE CODE 1                14145\n",
       "VEHICLE TYPE CODE 2               406204\n",
       "VEHICLE TYPE CODE 3              1959372\n",
       "VEHICLE TYPE CODE 4              2071727\n",
       "VEHICLE TYPE CODE 5              2095712\n",
       "dtype: int64"
      ]
     },
     "execution_count": 9,
     "metadata": {},
     "output_type": "execute_result"
    }
   ],
   "source": [
    "df.isnull().sum()"
   ]
  },
  {
   "cell_type": "code",
<<<<<<< HEAD
   "execution_count": 10,
=======
   "execution_count": 24,
>>>>>>> 1e50cf15b1c8b83d44b50870cda09a07106bc23e
   "id": "08b81da7-a1d0-43a3-82c4-bd80e15e9b8b",
   "metadata": {},
   "outputs": [
    {
     "data": {
      "text/plain": [
       "BOROUGH\n",
       "BROOKLYN         461892\n",
       "QUEENS           388890\n",
       "MANHATTAN        323886\n",
       "BRONX            214506\n",
       "STATEN ISLAND     60853\n",
       "Name: count, dtype: int64"
      ]
     },
<<<<<<< HEAD
     "execution_count": 10,
=======
     "execution_count": 24,
>>>>>>> 1e50cf15b1c8b83d44b50870cda09a07106bc23e
     "metadata": {},
     "output_type": "execute_result"
    }
   ],
   "source": [
    "df['BOROUGH'].value_counts()"
   ]
  },
  {
   "cell_type": "code",
<<<<<<< HEAD
   "execution_count": 11,
=======
   "execution_count": 25,
>>>>>>> 1e50cf15b1c8b83d44b50870cda09a07106bc23e
   "id": "cd23e68c-bba8-4f15-89c5-707f55323af4",
   "metadata": {},
   "outputs": [
    {
     "data": {
      "text/plain": [
       "ZIP CODE\n",
       "11207.0    21259\n",
       "11236.0    15214\n",
       "11234.0    13869\n",
       "11203.0    13826\n",
       "11385.0    13778\n",
       "           ...  \n",
<<<<<<< HEAD
       "10153          1\n",
       "11241.0        1\n",
=======
       "11241.0        1\n",
       "10153          1\n",
>>>>>>> 1e50cf15b1c8b83d44b50870cda09a07106bc23e
       "10120          1\n",
       "10162.0        1\n",
       "11371.0        1\n",
       "Name: count, Length: 427, dtype: int64"
      ]
     },
<<<<<<< HEAD
     "execution_count": 11,
=======
     "execution_count": 25,
>>>>>>> 1e50cf15b1c8b83d44b50870cda09a07106bc23e
     "metadata": {},
     "output_type": "execute_result"
    }
   ],
   "source": [
    "df['ZIP CODE'].value_counts()"
   ]
  },
  {
   "cell_type": "code",
<<<<<<< HEAD
   "execution_count": 12,
=======
   "execution_count": 26,
>>>>>>> 1e50cf15b1c8b83d44b50870cda09a07106bc23e
   "id": "dba85811-67c9-47e3-a786-269b1be669ee",
   "metadata": {},
   "outputs": [
    {
     "data": {
      "text/plain": [
       "CONTRIBUTING FACTOR VEHICLE 1\n",
       "Unspecified                       713911\n",
       "Driver Inattention/Distraction    422473\n",
       "Failure to Yield Right-of-Way     125222\n",
       "Following Too Closely             112805\n",
       "Backing Unsafely                   77612\n",
       "                                   ...  \n",
       "Windshield Inadequate                 82\n",
       "Cell Phone (hand-held)                79\n",
       "Texting                               53\n",
       "Listening/Using Headphones            26\n",
       "1                                     10\n",
       "Name: count, Length: 61, dtype: int64"
      ]
     },
<<<<<<< HEAD
     "execution_count": 12,
=======
     "execution_count": 26,
>>>>>>> 1e50cf15b1c8b83d44b50870cda09a07106bc23e
     "metadata": {},
     "output_type": "execute_result"
    }
   ],
   "source": [
    "df['CONTRIBUTING FACTOR VEHICLE 1'].value_counts()"
   ]
  },
  {
   "cell_type": "code",
<<<<<<< HEAD
   "execution_count": 13,
=======
   "execution_count": 27,
>>>>>>> 1e50cf15b1c8b83d44b50870cda09a07106bc23e
   "id": "057c163e-229b-401b-b725-06ebce308773",
   "metadata": {},
   "outputs": [
    {
     "data": {
      "text/plain": [
       "VEHICLE TYPE CODE 1\n",
       "Sedan                                  589599\n",
       "Station Wagon/Sport Utility Vehicle    463770\n",
       "PASSENGER VEHICLE                      416206\n",
       "SPORT UTILITY / STATION WAGON          180291\n",
       "Taxi                                    52360\n",
       "                                        ...  \n",
<<<<<<< HEAD
       "range                                       1\n",
       "LMB                                         1\n",
       "horse                                       1\n",
       "Van (                                       1\n",
       "U-HAUL                                      1\n",
       "Name: count, Length: 1678, dtype: int64"
      ]
     },
     "execution_count": 13,
=======
       "SWEEPER TR                                  1\n",
       "Nova                                        1\n",
       "Gas dirt b                                  1\n",
       "Dot                                         1\n",
       "U-HAUL TRU                                  1\n",
       "Name: count, Length: 1678, dtype: int64"
      ]
     },
     "execution_count": 27,
>>>>>>> 1e50cf15b1c8b83d44b50870cda09a07106bc23e
     "metadata": {},
     "output_type": "execute_result"
    }
   ],
   "source": [
    "df['VEHICLE TYPE CODE 1'].value_counts()"
   ]
  },
  {
   "cell_type": "code",
   "execution_count": null,
   "id": "37faa79b-63e0-428d-8675-6c498cfa3a27",
   "metadata": {},
   "outputs": [],
   "source": []
  }
 ],
 "metadata": {
  "kernelspec": {
   "display_name": "Python 3 (ipykernel)",
   "language": "python",
   "name": "python3"
  },
  "language_info": {
   "codemirror_mode": {
    "name": "ipython",
    "version": 3
   },
   "file_extension": ".py",
   "mimetype": "text/x-python",
   "name": "python",
   "nbconvert_exporter": "python",
   "pygments_lexer": "ipython3",
   "version": "3.11.7"
  }
 },
 "nbformat": 4,
 "nbformat_minor": 5
}
