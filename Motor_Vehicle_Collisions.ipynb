{
 "cells": [
  {
   "cell_type": "markdown",
   "id": "bf0daa0b",
   "metadata": {},
   "source": [
    "# Table of Contents\n",
    "1. [Introduction](#introduction)\n",
    "2. [Data Overview](#data-overview)\n",
    "3. [Data Cleaning](#data-cleaning)\n",
    "4. [Exploratory Data Analysis (EDA)](#exploratory-data-analysis-eda)\n",
    "5. [Modeling](#modeling)\n",
    "6. [Results](#results)\n",
    "7. [Conclusion](#conclusion)\n",
    "8. [References](#references)"
   ]
  },
  {
   "cell_type": "markdown",
   "id": "006ad7cc",
   "metadata": {},
   "source": [
    "## Introduction"
   ]
  },
  {
   "cell_type": "markdown",
   "id": "cef842ae",
   "metadata": {},
   "source": [
    "For this project we used a dataset containing recorded vehicle collisions in New York City, that spanned from 2012 to present day. This notebook serves as the primary record of all of the steps taken in order to produce the final dataset and accompanying Machine Learning Models."
   ]
  },
  {
   "cell_type": "markdown",
   "id": "23477481",
   "metadata": {},
   "source": [
    "## Data Overview"
   ]
  },
  {
   "cell_type": "code",
   "execution_count": 5,
   "id": "1f54caa8",
   "metadata": {},
   "outputs": [],
   "source": [
    "import pandas as pd"
   ]
  },
  {
   "cell_type": "markdown",
   "id": "f94c51db",
   "metadata": {},
   "source": [
    "This project makes use of two datasets found on NYC Open Data, one that contains a record of every motorvehicle collision in NYC that resulted in injury and/or at least $1000 in damage and on that contains a record of every vehicle involved in those collisions.\n",
    "\n",
    "Both Data Sets required extensive cleaning as they contained a large number of missing values and manually input text that often contained abbreviations and mispellings. "
   ]
  },
  {
   "cell_type": "markdown",
   "id": "8d88c63a",
   "metadata": {},
   "source": [
    "### Data Set"
   ]
  },
  {
   "cell_type": "markdown",
   "id": "7c7f6bae",
   "metadata": {},
   "source": [
    "This dataset and its corresponding metadata is made publicly available at NYC Open Data (https://data.cityofnewyork.us/Public-Safety/Motor-Vehicle-Collisions-Crashes/h9gi-nx95/about_data)"
   ]
  },
  {
   "cell_type": "code",
   "execution_count": 9,
   "id": "8ac21dd9",
   "metadata": {},
   "outputs": [
    {
     "name": "stderr",
     "output_type": "stream",
     "text": [
      "C:\\Users\\dougl\\AppData\\Local\\Temp\\ipykernel_4436\\2640988846.py:1: DtypeWarning: Columns (4,40) have mixed types. Specify dtype option on import or set low_memory=False.\n",
      "  df = pd.read_csv('Motor_Vehicle_Collisions_cpy2.csv')\n"
     ]
    }
   ],
   "source": [
    "df = pd.read_csv('Motor_Vehicle_Collisions_cpy2.csv')"
   ]
  },
  {
   "cell_type": "markdown",
   "id": "79572949",
   "metadata": {},
   "source": [
    "### Data Characteristics"
   ]
  },
  {
   "cell_type": "code",
   "execution_count": 11,
   "id": "400d9f3a",
   "metadata": {},
   "outputs": [
    {
     "data": {
      "text/plain": [
       "(2055607, 41)"
      ]
     },
     "execution_count": 11,
     "metadata": {},
     "output_type": "execute_result"
    }
   ],
   "source": [
    "df.shape"
   ]
  },
  {
   "cell_type": "code",
   "execution_count": 12,
   "id": "d7e7da73-8a6a-4f41-a0c7-7cad9973310e",
   "metadata": {},
   "outputs": [
    {
     "name": "stdout",
     "output_type": "stream",
     "text": [
      "<class 'pandas.core.frame.DataFrame'>\n",
      "RangeIndex: 2055607 entries, 0 to 2055606\n",
      "Data columns (total 41 columns):\n",
      " #   Column                         Dtype  \n",
      "---  ------                         -----  \n",
      " 0   Unnamed: 0                     int64  \n",
      " 1   CRASH DATE                     object \n",
      " 2   CRASH TIME                     object \n",
      " 3   BOROUGH                        object \n",
      " 4   ZIP CODE                       object \n",
      " 5   LATITUDE                       float64\n",
      " 6   LONGITUDE                      float64\n",
      " 7   LOCATION                       object \n",
      " 8   ON STREET NAME                 object \n",
      " 9   CROSS STREET NAME              object \n",
      " 10  OFF STREET NAME                object \n",
      " 11  NUMBER OF PERSONS INJURED      float64\n",
      " 12  NUMBER OF PERSONS KILLED       float64\n",
      " 13  NUMBER OF PEDESTRIANS INJURED  int64  \n",
      " 14  NUMBER OF PEDESTRIANS KILLED   int64  \n",
      " 15  NUMBER OF CYCLIST INJURED      int64  \n",
      " 16  NUMBER OF CYCLIST KILLED       int64  \n",
      " 17  NUMBER OF MOTORIST INJURED     int64  \n",
      " 18  NUMBER OF MOTORIST KILLED      int64  \n",
      " 19  CONTRIBUTING FACTOR VEHICLE 1  object \n",
      " 20  CONTRIBUTING FACTOR VEHICLE 2  object \n",
      " 21  CONTRIBUTING FACTOR VEHICLE 3  object \n",
      " 22  CONTRIBUTING FACTOR VEHICLE 4  object \n",
      " 23  CONTRIBUTING FACTOR VEHICLE 5  object \n",
      " 24  COLLISION_ID                   int64  \n",
      " 25  VEHICLE TYPE CODE 1            object \n",
      " 26  VEHICLE TYPE CODE 2            object \n",
      " 27  VEHICLE TYPE CODE 3            object \n",
      " 28  VEHICLE TYPE CODE 4            object \n",
      " 29  VEHICLE TYPE CODE 5            object \n",
      " 30  FULL ADDRESS                   object \n",
      " 31  HOUSE NUMBER                   object \n",
      " 32  ROAD                           object \n",
      " 33  NEIGHBOURHOOD                  object \n",
      " 34  SUBURB                         object \n",
      " 35  POSTCODE                       object \n",
      " 36  day_of_week                    object \n",
      " 37  is_weekend                     bool   \n",
      " 38  CRASH HOUR                     int64  \n",
      " 39  is_holiday                     bool   \n",
      " 40  holiday_name                   object \n",
      "dtypes: bool(2), float64(4), int64(9), object(26)\n",
      "memory usage: 615.6+ MB\n"
     ]
    }
   ],
   "source": [
    "df.info()"
   ]
  },
  {
   "cell_type": "code",
   "execution_count": 13,
   "id": "48ffd5f1-729d-4d14-8837-14e44ff5339f",
   "metadata": {},
   "outputs": [
    {
     "data": {
      "text/plain": [
       "Index(['Unnamed: 0', 'CRASH DATE', 'CRASH TIME', 'BOROUGH', 'ZIP CODE',\n",
       "       'LATITUDE', 'LONGITUDE', 'LOCATION', 'ON STREET NAME',\n",
       "       'CROSS STREET NAME', 'OFF STREET NAME', 'NUMBER OF PERSONS INJURED',\n",
       "       'NUMBER OF PERSONS KILLED', 'NUMBER OF PEDESTRIANS INJURED',\n",
       "       'NUMBER OF PEDESTRIANS KILLED', 'NUMBER OF CYCLIST INJURED',\n",
       "       'NUMBER OF CYCLIST KILLED', 'NUMBER OF MOTORIST INJURED',\n",
       "       'NUMBER OF MOTORIST KILLED', 'CONTRIBUTING FACTOR VEHICLE 1',\n",
       "       'CONTRIBUTING FACTOR VEHICLE 2', 'CONTRIBUTING FACTOR VEHICLE 3',\n",
       "       'CONTRIBUTING FACTOR VEHICLE 4', 'CONTRIBUTING FACTOR VEHICLE 5',\n",
       "       'COLLISION_ID', 'VEHICLE TYPE CODE 1', 'VEHICLE TYPE CODE 2',\n",
       "       'VEHICLE TYPE CODE 3', 'VEHICLE TYPE CODE 4', 'VEHICLE TYPE CODE 5',\n",
       "       'FULL ADDRESS', 'HOUSE NUMBER', 'ROAD', 'NEIGHBOURHOOD', 'SUBURB',\n",
       "       'POSTCODE', 'day_of_week', 'is_weekend', 'CRASH HOUR', 'is_holiday',\n",
       "       'holiday_name'],\n",
       "      dtype='object')"
      ]
     },
     "execution_count": 13,
     "metadata": {},
     "output_type": "execute_result"
    }
   ],
   "source": [
    "df.columns"
   ]
  },
  {
   "cell_type": "markdown",
   "id": "97dd01f1",
   "metadata": {},
   "source": [
    "The original raw dataset contains over 2.1 million values and has 29 different features. \n",
    "\n",
    "Of the 29 features there are 4 floats, 7 integers and 18 objects or strictly categorical features. \n",
    "\n",
    "At first glance it appears that 2 of the float columns are incorrectly representing what should be a discrete numeric value as continous numeric. Notice how the NUMBER OF PERSONS INJURED as well as the NUMBER OF PERSONS KILLED columns are of the float64 type. "
   ]
  },
  {
   "cell_type": "markdown",
   "id": "9b824217",
   "metadata": {},
   "source": [
    "## Data Cleaning"
   ]
  },
  {
   "cell_type": "markdown",
   "id": "c9b95ca3",
   "metadata": {},
   "source": [
    "### Missing Values"
   ]
  },
  {
   "cell_type": "code",
   "execution_count": 17,
   "id": "95c87117",
   "metadata": {},
   "outputs": [],
   "source": [
    "df = df.dropna(subset=['LATITUDE', 'LONGITUDE'])"
   ]
  },
  {
   "cell_type": "markdown",
   "id": "83b1a66d",
   "metadata": {},
   "source": [
    "The features in our dataset essentially fall into 5 distinct categories; temporal, spatial, severity, contributing factors and vehicle. "
   ]
  },
  {
   "cell_type": "code",
   "execution_count": 19,
   "id": "1882e793",
   "metadata": {},
   "outputs": [
    {
     "name": "stdout",
     "output_type": "stream",
     "text": [
      "Unnamed: 0                             0\n",
      "CRASH DATE                             0\n",
      "CRASH TIME                             0\n",
      "BOROUGH                           491837\n",
      "ZIP CODE                          492089\n",
      "LATITUDE                               0\n",
      "LONGITUDE                              0\n",
      "LOCATION                           54768\n",
      "ON STREET NAME                    404926\n",
      "CROSS STREET NAME                 711186\n",
      "OFF STREET NAME                  1573672\n",
      "NUMBER OF PERSONS INJURED              0\n",
      "NUMBER OF PERSONS KILLED               0\n",
      "NUMBER OF PEDESTRIANS INJURED          0\n",
      "NUMBER OF PEDESTRIANS KILLED           0\n",
      "NUMBER OF CYCLIST INJURED              0\n",
      "NUMBER OF CYCLIST KILLED               0\n",
      "NUMBER OF MOTORIST INJURED             0\n",
      "NUMBER OF MOTORIST KILLED              0\n",
      "CONTRIBUTING FACTOR VEHICLE 1       6553\n",
      "CONTRIBUTING FACTOR VEHICLE 2     305200\n",
      "CONTRIBUTING FACTOR VEHICLE 3    1781385\n",
      "CONTRIBUTING FACTOR VEHICLE 4    1885697\n",
      "CONTRIBUTING FACTOR VEHICLE 5    1908032\n",
      "COLLISION_ID                           0\n",
      "VEHICLE TYPE CODE 1                13256\n",
      "VEHICLE TYPE CODE 2               379441\n",
      "VEHICLE TYPE CODE 3              1786440\n",
      "VEHICLE TYPE CODE 4              1886778\n",
      "VEHICLE TYPE CODE 5              1908283\n",
      "FULL ADDRESS                          20\n",
      "HOUSE NUMBER                      554790\n",
      "ROAD                                8127\n",
      "NEIGHBOURHOOD                     660347\n",
      "SUBURB                             14020\n",
      "POSTCODE                            4990\n",
      "day_of_week                            0\n",
      "is_weekend                             0\n",
      "CRASH HOUR                             0\n",
      "is_holiday                             0\n",
      "holiday_name                     1870297\n",
      "dtype: int64\n"
     ]
    }
   ],
   "source": [
    "print(df.isnull().sum())"
   ]
  },
  {
   "cell_type": "code",
   "execution_count": 20,
   "id": "ddd04edc",
   "metadata": {},
   "outputs": [
    {
     "name": "stdout",
     "output_type": "stream",
     "text": [
      "Percentage of missing values in each column:\n",
      "Unnamed: 0                        0.000000\n",
      "CRASH DATE                        0.000000\n",
      "CRASH TIME                        0.000000\n",
      "BOROUGH                          25.663025\n",
      "ZIP CODE                         25.676173\n",
      "LATITUDE                          0.000000\n",
      "LONGITUDE                         0.000000\n",
      "LOCATION                          2.857680\n",
      "ON STREET NAME                   21.128191\n",
      "CROSS STREET NAME                37.108196\n",
      "OFF STREET NAME                  82.110909\n",
      "NUMBER OF PERSONS INJURED         0.000000\n",
      "NUMBER OF PERSONS KILLED          0.000000\n",
      "NUMBER OF PEDESTRIANS INJURED     0.000000\n",
      "NUMBER OF PEDESTRIANS KILLED      0.000000\n",
      "NUMBER OF CYCLIST INJURED         0.000000\n",
      "NUMBER OF CYCLIST KILLED          0.000000\n",
      "NUMBER OF MOTORIST INJURED        0.000000\n",
      "NUMBER OF MOTORIST KILLED         0.000000\n",
      "CONTRIBUTING FACTOR VEHICLE 1     0.341922\n",
      "CONTRIBUTING FACTOR VEHICLE 2    15.924697\n",
      "CONTRIBUTING FACTOR VEHICLE 3    92.948939\n",
      "CONTRIBUTING FACTOR VEHICLE 4    98.391720\n",
      "CONTRIBUTING FACTOR VEHICLE 5    99.557114\n",
      "COLLISION_ID                      0.000000\n",
      "VEHICLE TYPE CODE 1               0.691670\n",
      "VEHICLE TYPE CODE 2              19.798437\n",
      "VEHICLE TYPE CODE 3              93.212698\n",
      "VEHICLE TYPE CODE 4              98.448125\n",
      "VEHICLE TYPE CODE 5              99.570211\n",
      "FULL ADDRESS                      0.001044\n",
      "HOUSE NUMBER                     28.947780\n",
      "ROAD                              0.424050\n",
      "NEIGHBOURHOOD                    34.455524\n",
      "SUBURB                            0.731534\n",
      "POSTCODE                          0.260368\n",
      "day_of_week                       0.000000\n",
      "is_weekend                        0.000000\n",
      "CRASH HOUR                        0.000000\n",
      "is_holiday                        0.000000\n",
      "holiday_name                     97.588181\n",
      "dtype: float64\n"
     ]
    }
   ],
   "source": [
    "missing_percentage = df.isnull().mean() * 100\n",
    "print(\"Percentage of missing values in each column:\")\n",
    "print(missing_percentage)"
   ]
  },
  {
   "cell_type": "markdown",
   "id": "fd970d79",
   "metadata": {},
   "source": [
    "#### What We Have"
   ]
  },
  {
   "cell_type": "markdown",
   "id": "8a213f4f",
   "metadata": {},
   "source": [
    "Fortunately the temporal data such as date and time are complete for the dataset as those values would be impossible to replace with confidence. "
   ]
  },
  {
   "cell_type": "markdown",
   "id": "307d2cb7",
   "metadata": {},
   "source": [
    "Theres also minimal data missing from the Severity type columns (Number of killed/injured) with 18 values missing from Number of persons killed and 31 values missing (out of over 2.1million) from NUMBER OF PERSONS INJURED and NUMBER OF PERSONS KILLED respectively.  "
   ]
  },
  {
   "cell_type": "markdown",
   "id": "52a749a8",
   "metadata": {},
   "source": [
    "#### What We Are Missing"
   ]
  },
  {
   "cell_type": "markdown",
   "id": "336679f0",
   "metadata": {},
   "source": [
    "We are missing a great deal of spatial type data (BOROUGH, ZIP CODE, LONGITUDE/LATITUDE, ON/OFF/CROSS STREET NAMES).\n",
    "\n",
    "We are missing a great deal of Contributing Factor data (CONTRIBUTING FACTOR 2-5)\n",
    "\n",
    "and we are also missing a great deal of Vehicle data (Vehicle Type 2-5)"
   ]
  },
  {
   "cell_type": "markdown",
   "id": "81cf96e8",
   "metadata": {},
   "source": [
    "#### Persons Injured and Persons Killed"
   ]
  },
  {
   "cell_type": "code",
   "execution_count": 27,
   "id": "79e208a1",
   "metadata": {},
   "outputs": [
    {
     "name": "stdout",
     "output_type": "stream",
     "text": [
      "NUMBER OF PERSONS INJURED\n",
      "0.0     1469238\n",
      "1.0      349386\n",
      "2.0       64166\n",
      "3.0       20842\n",
      "4.0        7686\n",
      "5.0        2893\n",
      "6.0        1222\n",
      "7.0         511\n",
      "8.0         229\n",
      "9.0         111\n",
      "10.0         79\n",
      "11.0         45\n",
      "12.0         29\n",
      "13.0         25\n",
      "15.0         15\n",
      "14.0          7\n",
      "17.0          6\n",
      "16.0          6\n",
      "18.0          6\n",
      "22.0          3\n",
      "19.0          3\n",
      "24.0          3\n",
      "20.0          2\n",
      "27.0          1\n",
      "32.0          1\n",
      "43.0          1\n",
      "21.0          1\n",
      "23.0          1\n",
      "34.0          1\n",
      "25.0          1\n",
      "Name: count, dtype: int64\n",
      "NUMBER OF PERSONS KILLED\n",
      "0.0    1913773\n",
      "1.0       2662\n",
      "2.0         67\n",
      "3.0         12\n",
      "4.0          4\n",
      "8.0          1\n",
      "5.0          1\n",
      "Name: count, dtype: int64\n"
     ]
    }
   ],
   "source": [
    "print(df['NUMBER OF PERSONS INJURED'].value_counts())\n",
    "print(df['NUMBER OF PERSONS KILLED'].value_counts())"
   ]
  },
  {
   "cell_type": "markdown",
   "id": "44c29ba2",
   "metadata": {},
   "source": [
    "##### Persons Killed"
   ]
  },
  {
   "cell_type": "code",
   "execution_count": 29,
   "id": "118e21b1",
   "metadata": {},
   "outputs": [
    {
     "data": {
      "text/html": [
       "<div>\n",
       "<style scoped>\n",
       "    .dataframe tbody tr th:only-of-type {\n",
       "        vertical-align: middle;\n",
       "    }\n",
       "\n",
       "    .dataframe tbody tr th {\n",
       "        vertical-align: top;\n",
       "    }\n",
       "\n",
       "    .dataframe thead th {\n",
       "        text-align: right;\n",
       "    }\n",
       "</style>\n",
       "<table border=\"1\" class=\"dataframe\">\n",
       "  <thead>\n",
       "    <tr style=\"text-align: right;\">\n",
       "      <th></th>\n",
       "      <th>Unnamed: 0</th>\n",
       "      <th>CRASH DATE</th>\n",
       "      <th>CRASH TIME</th>\n",
       "      <th>BOROUGH</th>\n",
       "      <th>ZIP CODE</th>\n",
       "      <th>LATITUDE</th>\n",
       "      <th>LONGITUDE</th>\n",
       "      <th>LOCATION</th>\n",
       "      <th>ON STREET NAME</th>\n",
       "      <th>CROSS STREET NAME</th>\n",
       "      <th>...</th>\n",
       "      <th>HOUSE NUMBER</th>\n",
       "      <th>ROAD</th>\n",
       "      <th>NEIGHBOURHOOD</th>\n",
       "      <th>SUBURB</th>\n",
       "      <th>POSTCODE</th>\n",
       "      <th>day_of_week</th>\n",
       "      <th>is_weekend</th>\n",
       "      <th>CRASH HOUR</th>\n",
       "      <th>is_holiday</th>\n",
       "      <th>holiday_name</th>\n",
       "    </tr>\n",
       "  </thead>\n",
       "  <tbody>\n",
       "  </tbody>\n",
       "</table>\n",
       "<p>0 rows × 41 columns</p>\n",
       "</div>"
      ],
      "text/plain": [
       "Empty DataFrame\n",
       "Columns: [Unnamed: 0, CRASH DATE, CRASH TIME, BOROUGH, ZIP CODE, LATITUDE, LONGITUDE, LOCATION, ON STREET NAME, CROSS STREET NAME, OFF STREET NAME, NUMBER OF PERSONS INJURED, NUMBER OF PERSONS KILLED, NUMBER OF PEDESTRIANS INJURED, NUMBER OF PEDESTRIANS KILLED, NUMBER OF CYCLIST INJURED, NUMBER OF CYCLIST KILLED, NUMBER OF MOTORIST INJURED, NUMBER OF MOTORIST KILLED, CONTRIBUTING FACTOR VEHICLE 1, CONTRIBUTING FACTOR VEHICLE 2, CONTRIBUTING FACTOR VEHICLE 3, CONTRIBUTING FACTOR VEHICLE 4, CONTRIBUTING FACTOR VEHICLE 5, COLLISION_ID, VEHICLE TYPE CODE 1, VEHICLE TYPE CODE 2, VEHICLE TYPE CODE 3, VEHICLE TYPE CODE 4, VEHICLE TYPE CODE 5, FULL ADDRESS, HOUSE NUMBER, ROAD, NEIGHBOURHOOD, SUBURB, POSTCODE, day_of_week, is_weekend, CRASH HOUR, is_holiday, holiday_name]\n",
       "Index: []\n",
       "\n",
       "[0 rows x 41 columns]"
      ]
     },
     "execution_count": 29,
     "metadata": {},
     "output_type": "execute_result"
    }
   ],
   "source": [
    "nan_killed = df[df['NUMBER OF PERSONS KILLED'].isna()]\n",
    "nan_killed.head()"
   ]
  },
  {
   "cell_type": "code",
   "execution_count": 30,
   "id": "31d28475",
   "metadata": {},
   "outputs": [
    {
     "data": {
      "text/html": [
       "<div>\n",
       "<style scoped>\n",
       "    .dataframe tbody tr th:only-of-type {\n",
       "        vertical-align: middle;\n",
       "    }\n",
       "\n",
       "    .dataframe tbody tr th {\n",
       "        vertical-align: top;\n",
       "    }\n",
       "\n",
       "    .dataframe thead th {\n",
       "        text-align: right;\n",
       "    }\n",
       "</style>\n",
       "<table border=\"1\" class=\"dataframe\">\n",
       "  <thead>\n",
       "    <tr style=\"text-align: right;\">\n",
       "      <th></th>\n",
       "      <th>NUMBER OF PEDESTRIANS KILLED</th>\n",
       "      <th>NUMBER OF CYCLIST KILLED</th>\n",
       "      <th>NUMBER OF MOTORIST KILLED</th>\n",
       "      <th>NUMBER OF PERSONS KILLED</th>\n",
       "    </tr>\n",
       "  </thead>\n",
       "  <tbody>\n",
       "  </tbody>\n",
       "</table>\n",
       "</div>"
      ],
      "text/plain": [
       "Empty DataFrame\n",
       "Columns: [NUMBER OF PEDESTRIANS KILLED, NUMBER OF CYCLIST KILLED, NUMBER OF MOTORIST KILLED, NUMBER OF PERSONS KILLED]\n",
       "Index: []"
      ]
     },
     "execution_count": 30,
     "metadata": {},
     "output_type": "execute_result"
    }
   ],
   "source": [
    "kill_cols = ['NUMBER OF PEDESTRIANS KILLED','NUMBER OF CYCLIST KILLED','NUMBER OF MOTORIST KILLED','NUMBER OF PERSONS KILLED']\n",
    "nan_killed = nan_killed[kill_cols]\n",
    "nan_killed\n",
    "    "
   ]
  },
  {
   "cell_type": "markdown",
   "id": "f78e7be4",
   "metadata": {},
   "source": [
    "The NUMBER OF PERSONS KILLED column appears to be the result of adding the NUMBER OF PEDESTRIANS KILLED,\tNUMBER OF CYCLIST KILLED and NUMBER OF MOTORIST KILLED columns so given that there are no missing values for the supporting columns it is relatively safe to assume that the missing values for the NUMBER OF PERSONS KILLED column can simply be replaced with 0."
   ]
  },
  {
   "cell_type": "code",
   "execution_count": 32,
   "id": "005109b1",
   "metadata": {},
   "outputs": [
    {
     "name": "stdout",
     "output_type": "stream",
     "text": [
      "NUMBER OF PERSONS KILLED values that are null: 0\n"
     ]
    }
   ],
   "source": [
    "# Replace NaN values with 0 in specific columns\n",
    "columns_to_fill = ['NUMBER OF PERSONS KILLED']\n",
    "df[columns_to_fill] = df[columns_to_fill].fillna(0)\n",
    "print(\"NUMBER OF PERSONS KILLED values that are null:\", df['NUMBER OF PERSONS KILLED'].isnull().sum())"
   ]
  },
  {
   "cell_type": "markdown",
   "id": "c494889a",
   "metadata": {},
   "source": [
    "##### Persons Injured"
   ]
  },
  {
   "cell_type": "code",
   "execution_count": 34,
   "id": "1382413c",
   "metadata": {},
   "outputs": [
    {
     "data": {
      "text/html": [
       "<div>\n",
       "<style scoped>\n",
       "    .dataframe tbody tr th:only-of-type {\n",
       "        vertical-align: middle;\n",
       "    }\n",
       "\n",
       "    .dataframe tbody tr th {\n",
       "        vertical-align: top;\n",
       "    }\n",
       "\n",
       "    .dataframe thead th {\n",
       "        text-align: right;\n",
       "    }\n",
       "</style>\n",
       "<table border=\"1\" class=\"dataframe\">\n",
       "  <thead>\n",
       "    <tr style=\"text-align: right;\">\n",
       "      <th></th>\n",
       "      <th>Unnamed: 0</th>\n",
       "      <th>CRASH DATE</th>\n",
       "      <th>CRASH TIME</th>\n",
       "      <th>BOROUGH</th>\n",
       "      <th>ZIP CODE</th>\n",
       "      <th>LATITUDE</th>\n",
       "      <th>LONGITUDE</th>\n",
       "      <th>LOCATION</th>\n",
       "      <th>ON STREET NAME</th>\n",
       "      <th>CROSS STREET NAME</th>\n",
       "      <th>...</th>\n",
       "      <th>HOUSE NUMBER</th>\n",
       "      <th>ROAD</th>\n",
       "      <th>NEIGHBOURHOOD</th>\n",
       "      <th>SUBURB</th>\n",
       "      <th>POSTCODE</th>\n",
       "      <th>day_of_week</th>\n",
       "      <th>is_weekend</th>\n",
       "      <th>CRASH HOUR</th>\n",
       "      <th>is_holiday</th>\n",
       "      <th>holiday_name</th>\n",
       "    </tr>\n",
       "  </thead>\n",
       "  <tbody>\n",
       "  </tbody>\n",
       "</table>\n",
       "<p>0 rows × 41 columns</p>\n",
       "</div>"
      ],
      "text/plain": [
       "Empty DataFrame\n",
       "Columns: [Unnamed: 0, CRASH DATE, CRASH TIME, BOROUGH, ZIP CODE, LATITUDE, LONGITUDE, LOCATION, ON STREET NAME, CROSS STREET NAME, OFF STREET NAME, NUMBER OF PERSONS INJURED, NUMBER OF PERSONS KILLED, NUMBER OF PEDESTRIANS INJURED, NUMBER OF PEDESTRIANS KILLED, NUMBER OF CYCLIST INJURED, NUMBER OF CYCLIST KILLED, NUMBER OF MOTORIST INJURED, NUMBER OF MOTORIST KILLED, CONTRIBUTING FACTOR VEHICLE 1, CONTRIBUTING FACTOR VEHICLE 2, CONTRIBUTING FACTOR VEHICLE 3, CONTRIBUTING FACTOR VEHICLE 4, CONTRIBUTING FACTOR VEHICLE 5, COLLISION_ID, VEHICLE TYPE CODE 1, VEHICLE TYPE CODE 2, VEHICLE TYPE CODE 3, VEHICLE TYPE CODE 4, VEHICLE TYPE CODE 5, FULL ADDRESS, HOUSE NUMBER, ROAD, NEIGHBOURHOOD, SUBURB, POSTCODE, day_of_week, is_weekend, CRASH HOUR, is_holiday, holiday_name]\n",
       "Index: []\n",
       "\n",
       "[0 rows x 41 columns]"
      ]
     },
     "execution_count": 34,
     "metadata": {},
     "output_type": "execute_result"
    }
   ],
   "source": [
    "nan_injured = df[df['NUMBER OF PERSONS INJURED'].isna()]\n",
    "nan_injured"
   ]
  },
  {
   "cell_type": "code",
   "execution_count": 35,
   "id": "3bc82ff8",
   "metadata": {},
   "outputs": [
    {
     "data": {
      "text/html": [
       "<div>\n",
       "<style scoped>\n",
       "    .dataframe tbody tr th:only-of-type {\n",
       "        vertical-align: middle;\n",
       "    }\n",
       "\n",
       "    .dataframe tbody tr th {\n",
       "        vertical-align: top;\n",
       "    }\n",
       "\n",
       "    .dataframe thead th {\n",
       "        text-align: right;\n",
       "    }\n",
       "</style>\n",
       "<table border=\"1\" class=\"dataframe\">\n",
       "  <thead>\n",
       "    <tr style=\"text-align: right;\">\n",
       "      <th></th>\n",
       "      <th>COLLISION_ID</th>\n",
       "      <th>NUMBER OF PEDESTRIANS INJURED</th>\n",
       "      <th>NUMBER OF CYCLIST INJURED</th>\n",
       "      <th>NUMBER OF MOTORIST INJURED</th>\n",
       "      <th>NUMBER OF PERSONS INJURED</th>\n",
       "    </tr>\n",
       "  </thead>\n",
       "  <tbody>\n",
       "  </tbody>\n",
       "</table>\n",
       "</div>"
      ],
      "text/plain": [
       "Empty DataFrame\n",
       "Columns: [COLLISION_ID, NUMBER OF PEDESTRIANS INJURED, NUMBER OF CYCLIST INJURED, NUMBER OF MOTORIST INJURED, NUMBER OF PERSONS INJURED]\n",
       "Index: []"
      ]
     },
     "execution_count": 35,
     "metadata": {},
     "output_type": "execute_result"
    }
   ],
   "source": [
    "injured_cols = ['COLLISION_ID', 'NUMBER OF PEDESTRIANS INJURED','NUMBER OF CYCLIST INJURED','NUMBER OF MOTORIST INJURED','NUMBER OF PERSONS INJURED']\n",
    "nan_injured = nan_injured[injured_cols] \n",
    "nan_injured"
   ]
  },
  {
   "cell_type": "markdown",
   "id": "2c51fcd3",
   "metadata": {},
   "source": [
    "In contrast to the NUMBER OF PERSONS KILLED nan values, where the resulting tally for all of the missing values appeared to have been zero, we are not as lucky with NUMBER OF PERSONS INJURED. While there are indeed a few values that should be zero, there are also several that containg CYCLYSTS INJURED and MOTORISTS INJURED. Therefore we should correct these values. \n",
    "\n",
    "To aid in correcting these values we have included the relevant COLLISION_ID column, since this is a relatively small correction we shall be doing this manually. "
   ]
  },
  {
   "cell_type": "code",
   "execution_count": 37,
   "id": "e7a6dd77",
   "metadata": {},
   "outputs": [
    {
     "name": "stdout",
     "output_type": "stream",
     "text": [
      "NUMBER OF PERSONS INJURED values that are null: 0\n"
     ]
    }
   ],
   "source": [
    "# COLLISION_ID as keys and NUMBER OF PERSONS INJURED as values\n",
    "corrections = {\n",
    "    4387369: 1,  # Example COLLISION_ID with the new value for NUMBER OF PERSONS INJURED\n",
    "    4026403: 1,\n",
    "    4026185: 1,\n",
    "    4025523: 1,\n",
    "    4024624: 2,\n",
    "    4024290: 1\n",
    "}\n",
    "\n",
    "# Update the NUMBER OF PERSONS INJURED based on COLLISION_ID\n",
    "for collision_id, injured_count in corrections.items():\n",
    "    df.loc[df['COLLISION_ID'] == collision_id, 'NUMBER OF PERSONS INJURED'] = injured_count\n",
    "    \n",
    "print(\"NUMBER OF PERSONS INJURED values that are null:\", df['NUMBER OF PERSONS INJURED'].isnull().sum())"
   ]
  },
  {
   "cell_type": "code",
   "execution_count": 38,
   "id": "664837dd",
   "metadata": {},
   "outputs": [
    {
     "data": {
      "text/html": [
       "<div>\n",
       "<style scoped>\n",
       "    .dataframe tbody tr th:only-of-type {\n",
       "        vertical-align: middle;\n",
       "    }\n",
       "\n",
       "    .dataframe tbody tr th {\n",
       "        vertical-align: top;\n",
       "    }\n",
       "\n",
       "    .dataframe thead th {\n",
       "        text-align: right;\n",
       "    }\n",
       "</style>\n",
       "<table border=\"1\" class=\"dataframe\">\n",
       "  <thead>\n",
       "    <tr style=\"text-align: right;\">\n",
       "      <th></th>\n",
       "      <th>COLLISION_ID</th>\n",
       "      <th>NUMBER OF PEDESTRIANS INJURED</th>\n",
       "      <th>NUMBER OF CYCLIST INJURED</th>\n",
       "      <th>NUMBER OF MOTORIST INJURED</th>\n",
       "      <th>NUMBER OF PERSONS INJURED</th>\n",
       "    </tr>\n",
       "  </thead>\n",
       "  <tbody>\n",
       "    <tr>\n",
       "      <th>179491</th>\n",
       "      <td>4387369</td>\n",
       "      <td>0</td>\n",
       "      <td>1</td>\n",
       "      <td>0</td>\n",
       "      <td>1.0</td>\n",
       "    </tr>\n",
       "    <tr>\n",
       "      <th>561370</th>\n",
       "      <td>4026403</td>\n",
       "      <td>0</td>\n",
       "      <td>0</td>\n",
       "      <td>1</td>\n",
       "      <td>1.0</td>\n",
       "    </tr>\n",
       "    <tr>\n",
       "      <th>609987</th>\n",
       "      <td>4026185</td>\n",
       "      <td>0</td>\n",
       "      <td>0</td>\n",
       "      <td>1</td>\n",
       "      <td>1.0</td>\n",
       "    </tr>\n",
       "    <tr>\n",
       "      <th>701656</th>\n",
       "      <td>4025523</td>\n",
       "      <td>0</td>\n",
       "      <td>0</td>\n",
       "      <td>1</td>\n",
       "      <td>1.0</td>\n",
       "    </tr>\n",
       "    <tr>\n",
       "      <th>820434</th>\n",
       "      <td>4024624</td>\n",
       "      <td>0</td>\n",
       "      <td>0</td>\n",
       "      <td>2</td>\n",
       "      <td>2.0</td>\n",
       "    </tr>\n",
       "    <tr>\n",
       "      <th>882407</th>\n",
       "      <td>4024290</td>\n",
       "      <td>0</td>\n",
       "      <td>1</td>\n",
       "      <td>0</td>\n",
       "      <td>1.0</td>\n",
       "    </tr>\n",
       "  </tbody>\n",
       "</table>\n",
       "</div>"
      ],
      "text/plain": [
       "        COLLISION_ID  NUMBER OF PEDESTRIANS INJURED  \\\n",
       "179491       4387369                              0   \n",
       "561370       4026403                              0   \n",
       "609987       4026185                              0   \n",
       "701656       4025523                              0   \n",
       "820434       4024624                              0   \n",
       "882407       4024290                              0   \n",
       "\n",
       "        NUMBER OF CYCLIST INJURED  NUMBER OF MOTORIST INJURED  \\\n",
       "179491                          1                           0   \n",
       "561370                          0                           1   \n",
       "609987                          0                           1   \n",
       "701656                          0                           1   \n",
       "820434                          0                           2   \n",
       "882407                          1                           0   \n",
       "\n",
       "        NUMBER OF PERSONS INJURED  \n",
       "179491                        1.0  \n",
       "561370                        1.0  \n",
       "609987                        1.0  \n",
       "701656                        1.0  \n",
       "820434                        2.0  \n",
       "882407                        1.0  "
      ]
     },
     "execution_count": 38,
     "metadata": {},
     "output_type": "execute_result"
    }
   ],
   "source": [
    "cols = injured_cols = ['COLLISION_ID', 'NUMBER OF PEDESTRIANS INJURED','NUMBER OF CYCLIST INJURED','NUMBER OF MOTORIST INJURED','NUMBER OF PERSONS INJURED']\n",
    "orig = df[df['COLLISION_ID'].isin(corrections.keys())]\n",
    "orig[cols]\n"
   ]
  },
  {
   "cell_type": "markdown",
   "id": "4bb07b8a",
   "metadata": {},
   "source": [
    "As you can see it is verified that the values were corrected to reflect the individual tallies"
   ]
  },
  {
   "cell_type": "markdown",
   "id": "9e325b2e",
   "metadata": {},
   "source": [
    "#### Location Values"
   ]
  },
  {
   "cell_type": "markdown",
   "id": "681b9b5e",
   "metadata": {},
   "source": [
    "##### Street Names"
   ]
  },
  {
   "cell_type": "code",
   "execution_count": 42,
   "id": "fd4478c8",
   "metadata": {},
   "outputs": [
    {
     "data": {
      "text/plain": [
       "ON STREET NAME\n",
       "broadway                            19128\n",
       "atlantic avenue                     17180\n",
       "belt parkway                        17178\n",
       "3 avenue                            13741\n",
       "long island expressway              12463\n",
       "                                    ...  \n",
       "14 east 125 street                      1\n",
       "south.portland avenue                   1\n",
       "marine parkway gil hodges memori        1\n",
       "37th avenue                             1\n",
       "beach 144 street                        1\n",
       "Name: count, Length: 7766, dtype: int64"
      ]
     },
     "execution_count": 42,
     "metadata": {},
     "output_type": "execute_result"
    }
   ],
   "source": [
    "df['ON STREET NAME'].value_counts()"
   ]
  },
  {
   "cell_type": "markdown",
   "id": "a295c5ab",
   "metadata": {},
   "source": [
    "The original dataset contains 18552 unique values. On closer observation however it becomes apparent that there are a great number of typos "
   ]
  },
  {
   "cell_type": "markdown",
   "id": "301d5718-15b6-40d5-b5fe-2e9f18be2b60",
   "metadata": {},
   "source": [
    "### Handling Categorical Data\n",
    "#### Contributing Factor Vehicles\n",
    "There are many contributing factors as to why a vehicle was involved in a collision. The goal is to standardize/correct spelling of factors (e.g. 'Illnes'), remove any possibly mistakenly entered values (e.g. '80', '1'), and group together various ways of referring to the same factor (e.g. multiple versions of what boils down to electronic use)"
   ]
  },
  {
   "cell_type": "code",
   "execution_count": null,
   "id": "8797c3b1-66b6-490a-9d36-d65f66972cb1",
   "metadata": {},
   "outputs": [],
   "source": [
    "df = pd.read_csv('Motor_Vehicle_Collisions_cpy2.csv')\n",
    "\n",
    "#Print all possible contributing factors for vehicles involved in collisions\n",
    "contributing_factors_cols = ['CONTRIBUTING FACTOR VEHICLE 1', 'CONTRIBUTING FACTOR VEHICLE 2', 'CONTRIBUTING FACTOR VEHICLE 3', 'CONTRIBUTING FACTOR VEHICLE 4', 'CONTRIBUTING FACTOR VEHICLE 5'] \n",
    "unique_contributing_factors = pd.concat(df[col] for col in contributing_factors_cols).unique()\n",
    "print(unique_contributing_factors)"
   ]
  },
  {
   "cell_type": "code",
   "execution_count": null,
   "id": "6dead51e-6c5c-465b-9613-677e5e43fa62",
   "metadata": {},
   "outputs": [],
   "source": [
    "#Standardize spelling, remove incorrectly entered values, and group together similar values.\n",
    "factors_mapping = {\n",
    "    #IMPROPER DRIVING TECHNIQUE\n",
    "    #General poor etiquette on the road--not in violation of any particular rule/law--that causes an accident\n",
    "    'Following Too Closely': 'Improper Driving Technique',\n",
    "    'Passing Too Closely': 'Improper Driving Technique',\n",
    "    'Driver Inexperience': 'Improper Driving Technique',\n",
    "    'Passing or Lane Usage Improper': 'Improper Driving Technique',\n",
    "    'Turning Improperly': 'Improper Driving Technique',\n",
    "    'Unsafe Lane Changing': 'Improper Driving Technique',\n",
    "    'Backing Unsafely': 'Improper Driving Technique',\n",
    "    'Aggressive Driving/Road Rage': 'Improper Driving Technique',\n",
    "\n",
    "    #TRAFFIC RULE VIOLATION\n",
    "    #Violation of a particular rule/law on the road that leads to an accident\n",
    "    'Traffic Control Disregarded': 'Traffic Rule Violation',\n",
    "    'Failure to Yield Right-of-Way': 'Traffic Rule Violation',\n",
    "    'Failure to Keep Right': 'Traffic Rule Violation',\n",
    "    'Unsafe Speed': 'Traffic Rule Violation',\n",
    "\n",
    "    #POOR ROAD CONDITIONS\n",
    "    #Any road condition that makes driving difficult and causes an accident\n",
    "    'Pavement Slippery': 'Poor Road Conditions',\n",
    "    'View Obstructed/Limited': 'Poor Road Conditions',\n",
    "    'Glare': 'Poor Road Conditions',\n",
    "    'Obstruction/Debris': 'Poor Road Conditions',\n",
    "    'Pavement Defective': 'Poor Road Conditions',\n",
    "    'Lane Marking Improper/Inadequate': 'Poor Road Conditions',\n",
    "    'Traffic Control Device Improper/Non-Working': 'Poor Road Conditions',\n",
    "    'Shoulders Defective/Improper': 'Poor Road Conditions',\n",
    "\n",
    "    #EXTERNAL DISTRACTION/OBSTACLE\n",
    "    #Any outside car/bike/pedestrian/animal that causes an accident\n",
    "    'Reaction to Uninvolved Vehicle': 'External Distraction/Obstacle',\n",
    "    'Reaction to Other Uninvolved Vehicle': 'External Distraction/Obstacle',\n",
    "    'Other Vehicular': 'External Distraction/Obstacle',\n",
    "    'Oversized Vehicle': 'External Distraction/Obstacle',\n",
    "    'Pedestrian/Bicyclist/Other Pedestrian Error/Confusion': 'External Distraction/Obstacle',\n",
    "    'Animals Action': 'External Distraction/Obstacle',\n",
    "    'Outside Car Distraction': 'External Distraction/Obstacle',\n",
    "    'Vehicle Vandalism': 'External Distraction/Obstacle',\n",
    "\n",
    "    #VEHICLE DEFECT\n",
    "    #A malfunction/breakdown of a vehicle that causes it to be involved in an accident\n",
    "    'Steering Failure': 'Vehicle Defect',\n",
    "    'Brakes Defective': 'Vehicle Defect',\n",
    "    'Tinted Windows': 'Vehicle Defect',\n",
    "    'Other Lighting Defects': 'Vehicle Defect',\n",
    "    'Driverless/Runaway Vehicle': 'Vehicle Defect',\n",
    "    'Tire Failure/Inadequate': 'Vehicle Defect',\n",
    "    'Headlights Defective': 'Vehicle Defect',\n",
    "    'Accelerator Defective': 'Vehicle Defect',\n",
    "    'Tow Hitch Defective': 'Vehicle Defect',\n",
    "    'Windshield Inadequate': 'Vehicle Defect',\n",
    "\n",
    "    #ALCOHOL/DRUG USE\n",
    "    #Any substance use (legal or illegal) that causes an accident\n",
    "    'Alcohol Involvement': 'Alcohol/Drug Use',\n",
    "    'Drugs (illegal)': 'Alcohol/Drug Use',\n",
    "    'Drugs (Illegal)': 'Alcohol/Drug Use',\n",
    "    'Prescription Medication': 'Alcohol/Drug Use',\n",
    "\n",
    "    #ELECTRONICS USE\n",
    "    #The use of an electronic device (cellphone, GPS, headphones, etc.) that leads to an accident\n",
    "    'Cell Phone (hands-free)': 'Electronics Use',\n",
    "    'Cell Phone (hand-Held)': 'Electronics Use',\n",
    "    'Cell Phone (hand-held)': 'Electronics Use',\n",
    "    'Using On Board Navigation Device': 'Electronics Use',\n",
    "    'Other Electronic Device': 'Electronics Use',\n",
    "    'Listening/Using Headphones': 'Electronics Use',\n",
    "    'Texting': 'Electronics Use',\n",
    "\n",
    "    #DRIVER DISTRACTION/IMPAIRMENT\n",
    "    #The involvement of factors not related to substances/electronics that distract a driver or make them unable to drive\n",
    "    'Driver Inattention/Distraction': 'Driver Distraction/Impairment',\n",
    "    'Lost Consciousness': 'Driver Distraction/Impairment',\n",
    "    'Passenger Distraction': 'Driver Distraction/Impairment',\n",
    "    'Fell Asleep': 'Driver Distraction/Impairment',\n",
    "    'Fatigued/Drowsy': 'Driver Distraction/Impairment',\n",
    "    'Physical Disability': 'Driver Distraction/Impairment',\n",
    "    'Eating or Drinking': 'Driver Distraction/Impairment',\n",
    "    'Illnes': 'Driver Distraction/Impairment',\n",
    "    'Illness': 'Driver Distraction/Impairment',\n",
    "    \n",
    "    #It may be that unspecified means a car was involved but they do not know what caused it to be involved--not NaN then?\n",
    "    'Unspecified': 'Unspecified',\n",
    "    '80': 'Police Chase',\n",
    "    '1': 'Unspecified',\n",
    "}\n",
    "\n",
    "for col in contributing_factors_cols:\n",
    "    df[col] = df[col].map(factors_mapping).fillna(df[col])\n",
    "\n",
    "print(df)"
   ]
  },
  {
   "cell_type": "code",
   "execution_count": null,
   "id": "a595bfcc-73a1-479d-8e04-4fee0ff8d2ed",
   "metadata": {},
   "outputs": [],
   "source": [
    "#Print new possible values for contributing factors\n",
    "unique_contributing_factors = pd.concat(df[col] for col in contributing_factors_cols).unique()\n",
    "print(unique_contributing_factors)"
   ]
  },
  {
   "cell_type": "markdown",
   "id": "6271282e-31e9-4017-be13-349728f52a8c",
   "metadata": {},
   "source": [
    "#### Vehicle Types\n",
    "There are many vehicle types like there are contributing factors, so they will need to be handled in a similar way as well. Many are truncated beyond easy recognition, so there may be a challenge with handling them."
   ]
  },
  {
   "cell_type": "code",
   "execution_count": null,
   "id": "e26ec3f5-9c6f-4264-a1fc-4774edaf9f01",
   "metadata": {},
   "outputs": [],
   "source": [
    "#Print all possible vehicle types for vehicles involved in collisions\n",
    "#vehicle_type_cols = ['VEHICLE TYPE CODE 1', 'VEHICLE TYPE CODE 2', 'VEHICLE TYPE CODE 3', 'VEHICLE TYPE CODE 4', 'VEHICLE TYPE CODE 5'] \n",
    "#unique_vehicle_types = pd.concat(df[col] for col in vehicle_type_cols).unique()\n",
    "#for vehicle_type in unique_vehicle_types:\n",
    "    #print(vehicle_type)"
   ]
  },
  {
   "cell_type": "markdown",
   "id": "86708289",
   "metadata": {},
   "source": [
    "### Feature Engineering"
   ]
  },
  {
   "cell_type": "markdown",
   "id": "5ecd7e22",
   "metadata": {},
   "source": [
    "#### Temporal Features"
   ]
  },
  {
   "cell_type": "markdown",
   "id": "640cff60",
   "metadata": {},
   "source": [
    "The vanilla dataset comes with a number of temporal features pre-included. There are seperate 'Crash Date' and 'Crash Time' fields making temporal analysis possible. With just those two fields we are able to create several potentially useful features.\n",
    "\n",
    "By converting the date into date-time format we are able to extract the day of the week, month, week of the year, and even holidays to give the data more dimensionality. We can further break down the hourly data into catagories to appropriately handle and recognize traffic patterns such as rush hour."
   ]
  },
  {
   "cell_type": "code",
   "execution_count": null,
   "id": "df5f126c",
   "metadata": {},
   "outputs": [],
   "source": [
    "# Convert 'CRASH DATE' to datetime\n",
    "df['CRASH DATE'] = pd.to_datetime(df['CRASH DATE'], errors='coerce')"
   ]
  },
  {
   "cell_type": "markdown",
   "id": "c695c254",
   "metadata": {},
   "source": [
    "##### Day of the Week"
   ]
  },
  {
   "cell_type": "code",
   "execution_count": null,
   "id": "4bef1fcc",
   "metadata": {},
   "outputs": [],
   "source": [
    "# Add 'day_of_week' feature\n",
    "df['day_of_week'] = df['CRASH DATE'].dt.day_name()\n",
    "df['day_of_week'].value_counts()"
   ]
  },
  {
   "cell_type": "markdown",
   "id": "f2c978a2",
   "metadata": {},
   "source": [
    "By adding a feature for the day of the week we are able to capture and represent weekly trends in traffic and collision patterns, by looking at the value count for the newly created feature, 'day_of_week', there are noticeably less accidents on weekends."
   ]
  },
  {
   "cell_type": "markdown",
   "id": "9e834f6a",
   "metadata": {},
   "source": [
    "##### Weekday/Weekend"
   ]
  },
  {
   "cell_type": "code",
   "execution_count": null,
   "id": "3c664708",
   "metadata": {},
   "outputs": [],
   "source": [
    "# Add 'is_weekend' feature\n",
    "df['is_weekend'] = df['CRASH DATE'].dt.weekday >= 5\n",
    "df['is_weekend'].value_counts()"
   ]
  },
  {
   "cell_type": "markdown",
   "id": "b2cf69ab",
   "metadata": {},
   "source": [
    "Since there are significantly less accidents on the weekend as opposed to a weekday, the addition of a binary feature to represent whether any given day is a weekend makes sense. "
   ]
  },
  {
   "cell_type": "markdown",
   "id": "f306b626",
   "metadata": {},
   "source": [
    "##### Hour of the Day"
   ]
  },
  {
   "cell_type": "code",
   "execution_count": null,
   "id": "54ab019b",
   "metadata": {},
   "outputs": [],
   "source": [
    "df['CRASH HOUR'] = pd.to_datetime(df['CRASH TIME']).dt.hour"
   ]
  },
  {
   "cell_type": "markdown",
   "id": "98779099",
   "metadata": {},
   "source": [
    "By adding a feature for the crash hour we are essentially discretizing the time fields which may better represent daily trends in the data set"
   ]
  },
  {
   "cell_type": "markdown",
   "id": "f7917202",
   "metadata": {},
   "source": [
    "##### Holidays"
   ]
  },
  {
   "cell_type": "code",
   "execution_count": null,
   "id": "2db8b86f",
   "metadata": {},
   "outputs": [],
   "source": [
    "import holidays\n",
    "\n",
    "min_date = df['CRASH DATE'].min()\n",
    "max_date = df['CRASH DATE'].max()\n",
    "\n",
    "# Initialize US holidays for relevant years\n",
    "years = range(min_date.year, max_date.year + 1)\n",
    "us_holidays = holidays.US(years=years, observed=True)\n",
    "\n",
    "# Add 'is_holiday' feature\n",
    "df['is_holiday'] = df['CRASH DATE'].isin(us_holidays.keys()).astype(bool)\n",
    "\n",
    "# Add 'holiday_name' feature\n",
    "df['holiday_name'] = df['CRASH DATE'].apply(lambda x: us_holidays.get(x, None))\n"
   ]
  },
  {
   "cell_type": "code",
   "execution_count": null,
   "id": "53d50beb",
   "metadata": {},
   "outputs": [],
   "source": [
    "df['holiday_name'].value_counts()"
   ]
  },
  {
   "cell_type": "code",
   "execution_count": null,
   "id": "f883c5bd",
   "metadata": {},
   "outputs": [],
   "source": [
    "df.head()"
   ]
  },
  {
   "cell_type": "code",
   "execution_count": null,
   "id": "3e16577c",
   "metadata": {},
   "outputs": [],
   "source": [
    "df['is_holiday'].value_counts()"
   ]
  },
  {
   "cell_type": "markdown",
   "id": "d368d983",
   "metadata": {},
   "source": [
    "It is known that certain holidays correlate with spikes in travel and one could reasonably hypothesize that this would be reflected by statistics.\n",
    "\n",
    "Using the holidays library (https://pypi.org/project/holidays/) we are easily able to recognize and label objects, in date-time format, to their respective holiday. This quite effectively labels our data with the appropriate holiday. However, this comes with several new considerations in and of itself. There are noticeably fewer values counted for several of the holidays.\n",
    "\n",
    "Juneteenth for instance is a relatively newly recognized holiday and may not be recognized as holiday in the earlier dates of the dataset, given that there are datapoints from as early as 2012. \n",
    "\n",
    "A seperate boolean feature, is_holiday, has been added to binarize the holiday feature."
   ]
  },
  {
   "cell_type": "markdown",
   "id": "ed823bf2",
   "metadata": {},
   "source": [
    "##### Rush Hour"
   ]
  },
  {
   "cell_type": "code",
   "execution_count": null,
   "id": "b86f35c8",
   "metadata": {},
   "outputs": [],
   "source": [
    "df['IS_RUSH_HOUR'] =  df['CRASH HOUR'].between(7, 9) | df['CRASH HOUR'].between(16, 18)\n",
    "df['IS_MORNING_RUSH'] = df['CRASH HOUR'].between(7, 9) \n",
    "df['IS_EVENING_RUSH'] = df['CRASH HOUR'].between(16, 18)"
   ]
  },
  {
   "cell_type": "markdown",
   "id": "2793c51c",
   "metadata": {},
   "source": [
    "There is a clear spike in traffic during rush hour, which encompasses several hours during the morning and afternoon, were people are typically traveling too or from work. We can easily encompass a boolean feature is_rush_hour to capture this trend.\n"
   ]
  },
  {
   "cell_type": "code",
   "execution_count": null,
   "id": "735b94c6",
   "metadata": {},
   "outputs": [],
   "source": [
    "df.head()"
   ]
  },
  {
   "cell_type": "markdown",
   "id": "5baf1c21",
   "metadata": {},
   "source": [
    "#### Geographical Features"
   ]
  },
  {
   "cell_type": "markdown",
   "id": "2e694739",
   "metadata": {},
   "source": [
    "##### Weather"
   ]
  },
  {
   "cell_type": "markdown",
   "id": "8c4238e4",
   "metadata": {},
   "source": [
    "Adverse weather conditions pose a serious hazard for drivers. Since our dataset contains fairly detailed information in regards to the time and location of accidents, integrating historical weather data is entirely possible and would likely benefit the model greatly. "
   ]
  },
  {
   "cell_type": "markdown",
   "id": "f0bf4217",
   "metadata": {},
   "source": [
    "#### Collision Specific Features"
   ]
  },
  {
   "cell_type": "markdown",
   "id": "78bda631",
   "metadata": {},
   "source": [
    "There is a great deal of information in the dataset that pertains to how severe an accident is, such as the number or people killed and vehicles involved. This affords us an oppurtunity to account for more severe incidents which may impact traffic conditions for longer periods of time opposed to minor fender benders. "
   ]
  },
  {
   "cell_type": "markdown",
   "id": "5f3aacaa",
   "metadata": {},
   "source": [
    "##### Number of Vehicles Involved"
   ]
  },
  {
   "cell_type": "markdown",
   "id": "18492c69",
   "metadata": {},
   "source": [
    "Since there are already features for vehicle types 1 through vehicle types 5, we can essentially binarize each of those features to get a tally of the total number of vehicles involved. This may make it possible to remove the vehicle type columns entirely from the dataset without losing the value from the data. \n",
    "\n",
    "As noted in the Data Overview there are a large number of missing values for vehicle type 3 through vehicle type 5 which is likely a result of the vast majority of accidents involving 2 or fewer vehicles."
   ]
  },
  {
   "cell_type": "code",
   "execution_count": null,
   "id": "66afef84-b24c-4609-a493-97e3c460fd23",
   "metadata": {},
   "outputs": [],
   "source": [
    "#Add a new column that contains the number of vehicles involved in a collision by counting non-NaN values in the vehicle type columns for each collision \n",
    "df['Number of Vehicles Involved'] = df[['VEHICLE TYPE CODE 1', 'VEHICLE TYPE CODE 2', 'VEHICLE TYPE CODE 3', 'VEHICLE TYPE CODE 4', 'VEHICLE TYPE CODE 5']].count(axis=1)\n",
    "print(df[['VEHICLE TYPE CODE 1', 'VEHICLE TYPE CODE 2', 'VEHICLE TYPE CODE 3', 'VEHICLE TYPE CODE 4', 'VEHICLE TYPE CODE 5', 'Number of Vehicles Involved']])"
   ]
  },
  {
   "cell_type": "markdown",
   "id": "397c9e63",
   "metadata": {},
   "source": [
    "## Exploratory Data Analysis (EDA)"
   ]
  },
  {
   "cell_type": "code",
   "execution_count": null,
   "id": "2e429acf",
   "metadata": {},
   "outputs": [],
   "source": [
    "df = pd.read_csv('Motor_Vehicle_Collisions_cpy2.csv')"
   ]
  },
  {
   "cell_type": "code",
   "execution_count": null,
   "id": "c2ba17dd",
   "metadata": {},
   "outputs": [],
   "source": [
    "df.head()"
   ]
  },
  {
   "cell_type": "code",
   "execution_count": null,
   "id": "f9fda236",
   "metadata": {},
   "outputs": [],
   "source": [
    "df.columns"
   ]
  },
  {
   "cell_type": "code",
   "execution_count": null,
   "id": "ef1958d0",
   "metadata": {},
   "outputs": [],
   "source": [
    "df['CONTRIBUTING FACTOR VEHICLE 1'].value_counts()"
   ]
  },
  {
   "cell_type": "markdown",
   "id": "cdd62749",
   "metadata": {},
   "source": [
    "### Folium Maps"
   ]
  },
  {
   "cell_type": "markdown",
   "id": "305317cd",
   "metadata": {},
   "source": [
    "import folium\n",
    "from folium.plugins import MarkerCluster\n",
    "\n",
    "\n",
    "# Remove rows with NaN values in LATITUDE or LONGITUDE\n",
    "df = df.dropna(subset=['LATITUDE', 'LONGITUDE'])\n",
    "\n",
    "# Define the date range for filtering\n",
    "start_date = '2018-01-01'\n",
    "end_date = '2018-01-31'\n",
    "\n",
    "# Filter DataFrame based on date range\n",
    "mask = (df['CRASH DATE'] >= start_date) & (df['CRASH DATE'] <= end_date)\n",
    "filtered_df = df.loc[mask]\n",
    "\n",
    "# Check if there are still NaNs after filtering\n",
    "assert filtered_df[['LATITUDE', 'LONGITUDE']].notna().all().all(), \"There are still NaN values in LATITUDE or LONGITUDE.\"\n",
    "\n",
    "# Create a base map\n",
    "center_lat = filtered_df['LATITUDE'].mean()\n",
    "center_lon = filtered_df['LONGITUDE'].mean()\n",
    "m = folium.Map(location=[center_lat, center_lon], zoom_start=12)\n",
    "\n",
    "# Add MarkerCluster to the map\n",
    "marker_cluster = MarkerCluster().add_to(m)\n",
    "\n",
    "# Add accident markers to the map\n",
    "# May be worth modifying later to distinguish between vehicle type, fatality and or pedestrian hit\n",
    "for index, row in filtered_df.iterrows():\n",
    "    folium.Marker(\n",
    "        location=(row['LATITUDE'], row['LONGITUDE']),\n",
    "        popup=folium.Popup(f\"Date: {row['CRASH DATE'].strftime('%Y-%m-%d')}\", parse_html=True)\n",
    "    ).add_to(marker_cluster)\n",
    "\n",
    "# uncomment to save the map to an HTML file\n",
    "# m.save('2012_accident_map.html')\n",
    "m\n"
   ]
  },
  {
   "cell_type": "markdown",
   "id": "3fe6d201",
   "metadata": {},
   "source": [
    "## Modeling"
   ]
  },
  {
   "cell_type": "code",
   "execution_count": null,
   "id": "3258f517-541f-46eb-8a56-f1bc943264fe",
   "metadata": {},
   "outputs": [],
   "source": [
    "import matplotlib.pyplot as plt\n",
    "\n",
    "# Histogram for a numerical column\n",
    "df['LATITUDE'].hist(bins=30, edgecolor='black')\n",
    "plt.title('Distribution of LATITUDE')\n",
    "plt.xlabel('Latitude')\n",
    "plt.ylabel('Frequency')\n",
    "plt.show()\n",
    "\n",
    "# Boxplot for a numerical column\n",
    "df.boxplot(column='LATITUDE')\n",
    "plt.title('Boxplot of LATITUDE')\n",
    "plt.show()"
   ]
  },
  {
   "cell_type": "markdown",
   "id": "73304ce4",
   "metadata": {},
   "source": [
    "## Results"
   ]
  },
  {
   "cell_type": "markdown",
   "id": "7ea7fd2c",
   "metadata": {},
   "source": [
    "In Progress!"
   ]
  },
  {
   "cell_type": "markdown",
   "id": "a0526bfe",
   "metadata": {},
   "source": [
    "In Progress!"
   ]
  },
  {
   "cell_type": "markdown",
   "id": "86f066f9",
   "metadata": {},
   "source": [
    "## Conclusion"
   ]
  },
  {
   "cell_type": "markdown",
   "id": "c5c777d6",
   "metadata": {},
   "source": [
    "In Progress!"
   ]
  },
  {
   "cell_type": "markdown",
   "id": "cc3936bb",
   "metadata": {},
   "source": [
    "## References"
   ]
  },
  {
   "cell_type": "markdown",
   "id": "1e768550",
   "metadata": {},
   "source": [
    "In Progress!"
   ]
  }
 ],
 "metadata": {
  "kernelspec": {
   "display_name": "Python 3 (ipykernel)",
   "language": "python",
   "name": "python3"
  },
  "language_info": {
   "codemirror_mode": {
    "name": "ipython",
    "version": 3
   },
   "file_extension": ".py",
   "mimetype": "text/x-python",
   "name": "python",
   "nbconvert_exporter": "python",
   "pygments_lexer": "ipython3",
   "version": "3.9.6"
  }
 },
 "nbformat": 4,
 "nbformat_minor": 5
}
