{
 "cells": [
  {
   "cell_type": "markdown",
   "metadata": {},
   "source": [
    "#### Motor Vehicle Collsions - Vehicle"
   ]
  },
  {
   "cell_type": "markdown",
   "metadata": {},
   "source": [
    "This dataset, and the corresponding metadata is made publicly available at NYC Open Data (https://data.cityofnewyork.us/Public-Safety/Motor-Vehicle-Collisions-Vehicles/bm4k-52h4/about_data)"
   ]
  },
  {
   "cell_type": "code",
   "execution_count": null,
   "metadata": {},
   "outputs": [
    {
     "name": "stderr",
     "output_type": "stream",
     "text": [
      "C:\\Users\\dougl\\AppData\\Local\\Temp\\ipykernel_15444\\3580106072.py:1: DtypeWarning: Columns (8) have mixed types. Specify dtype option on import or set low_memory=False.\n",
      "  vdf = pd.read_csv('Motor_Vehicle_Collisions_-_Vehicles.csv')\n"
     ]
    },
    {
     "name": "stdout",
     "output_type": "stream",
     "text": [
      "<class 'pandas.core.frame.DataFrame'>\n",
      "RangeIndex: 4226229 entries, 0 to 4226228\n",
      "Data columns (total 25 columns):\n",
      " #   Column                       Dtype  \n",
      "---  ------                       -----  \n",
      " 0   UNIQUE_ID                    int64  \n",
      " 1   COLLISION_ID                 int64  \n",
      " 2   CRASH_DATE                   object \n",
      " 3   CRASH_TIME                   object \n",
      " 4   VEHICLE_ID                   object \n",
      " 5   STATE_REGISTRATION           object \n",
      " 6   VEHICLE_TYPE                 object \n",
      " 7   VEHICLE_MAKE                 object \n",
      " 8   VEHICLE_MODEL                object \n",
      " 9   VEHICLE_YEAR                 float64\n",
      " 10  TRAVEL_DIRECTION             object \n",
      " 11  VEHICLE_OCCUPANTS            float64\n",
      " 12  DRIVER_SEX                   object \n",
      " 13  DRIVER_LICENSE_STATUS        object \n",
      " 14  DRIVER_LICENSE_JURISDICTION  object \n",
      " 15  PRE_CRASH                    object \n",
      " 16  POINT_OF_IMPACT              object \n",
      " 17  VEHICLE_DAMAGE               object \n",
      " 18  VEHICLE_DAMAGE_1             object \n",
      " 19  VEHICLE_DAMAGE_2             object \n",
      " 20  VEHICLE_DAMAGE_3             object \n",
      " 21  PUBLIC_PROPERTY_DAMAGE       object \n",
      " 22  PUBLIC_PROPERTY_DAMAGE_TYPE  object \n",
      " 23  CONTRIBUTING_FACTOR_1        object \n",
      " 24  CONTRIBUTING_FACTOR_2        object \n",
      "dtypes: float64(2), int64(2), object(21)\n",
      "memory usage: 806.1+ MB\n"
     ]
    }
   ],
   "source": [
    "vdf = pd.read_csv('Motor_Vehicle_Collisions_-_Vehicles.csv')\n",
    "vdf.info()"
   ]
  }
 ],
 "metadata": {
  "language_info": {
   "name": "python"
  }
 },
 "nbformat": 4,
 "nbformat_minor": 2
}
