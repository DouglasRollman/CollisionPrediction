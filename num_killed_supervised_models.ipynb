{
 "cells": [
  {
   "cell_type": "code",
   "execution_count": 95,
   "id": "b985d644-1313-4cbb-ac88-555e67babba7",
   "metadata": {},
   "outputs": [
    {
     "name": "stdout",
     "output_type": "stream",
     "text": [
      "<class 'pandas.core.frame.DataFrame'>\n",
      "RangeIndex: 1264959 entries, 0 to 1264958\n",
      "Data columns (total 17 columns):\n",
      " #   Column                     Non-Null Count    Dtype  \n",
      "---  ------                     --------------    -----  \n",
      " 0   CRASH DATE                 1264959 non-null  object \n",
      " 1   CRASH TIME                 1264959 non-null  object \n",
      " 2   CRASH DAY                  1264959 non-null  object \n",
      " 3   LATITUDE                   1264959 non-null  float64\n",
      " 4   LONGITUDE                  1264959 non-null  float64\n",
      " 5   holiday_name               32052 non-null    object \n",
      " 6   is_holiday                 1264959 non-null  bool   \n",
      " 7   NUMBER OF PERSONS INJURED  1264959 non-null  float64\n",
      " 8   NUMBER OF PERSONS KILLED   1264959 non-null  float64\n",
      " 9   num_vehicles_involved      1264959 non-null  int64  \n",
      " 10  avg_temp                   1264959 non-null  float64\n",
      " 11  snow_depth                 1264709 non-null  float64\n",
      " 12  precip                     1264959 non-null  float64\n",
      " 13  max_wind_spd               1264959 non-null  float64\n",
      " 14  percent_licensed           1233534 non-null  float64\n",
      " 15  percent_unlicensed         1233534 non-null  float64\n",
      " 16  percent_permit             1233534 non-null  float64\n",
      "dtypes: bool(1), float64(11), int64(1), object(4)\n",
      "memory usage: 155.6+ MB\n"
     ]
    }
   ],
   "source": [
    "import pandas as pd\n",
    "df = pd.read_csv('Supervised_Learning_Dataset_2.csv')\n",
    "df.info()"
   ]
  },
  {
   "cell_type": "code",
   "execution_count": 96,
   "id": "9566485e-b33b-453f-88f4-fc93a6dd1325",
   "metadata": {},
   "outputs": [
    {
     "name": "stdout",
     "output_type": "stream",
     "text": [
      "<class 'pandas.core.frame.DataFrame'>\n",
      "RangeIndex: 1264959 entries, 0 to 1264958\n",
      "Data columns (total 15 columns):\n",
      " #   Column                    Non-Null Count    Dtype  \n",
      "---  ------                    --------------    -----  \n",
      " 0   CRASH DATE                1264959 non-null  object \n",
      " 1   CRASH TIME                1264959 non-null  object \n",
      " 2   CRASH DAY                 1264959 non-null  object \n",
      " 3   LATITUDE                  1264959 non-null  float64\n",
      " 4   LONGITUDE                 1264959 non-null  float64\n",
      " 5   holiday_name              32052 non-null    object \n",
      " 6   is_holiday                1264959 non-null  bool   \n",
      " 7   NUMBER OF PERSONS KILLED  1264959 non-null  float64\n",
      " 8   avg_temp                  1264959 non-null  float64\n",
      " 9   snow_depth                1264709 non-null  float64\n",
      " 10  precip                    1264959 non-null  float64\n",
      " 11  max_wind_spd              1264959 non-null  float64\n",
      " 12  percent_licensed          1233534 non-null  float64\n",
      " 13  percent_unlicensed        1233534 non-null  float64\n",
      " 14  percent_permit            1233534 non-null  float64\n",
      "dtypes: bool(1), float64(10), object(4)\n",
      "memory usage: 136.3+ MB\n"
     ]
    }
   ],
   "source": [
    "df.drop(columns=['NUMBER OF PERSONS INJURED', 'num_vehicles_involved'], inplace=True)\n",
    "df.info()"
   ]
  },
  {
   "cell_type": "code",
   "execution_count": 97,
   "id": "b1303643-7c23-4109-a418-9f89fbe90977",
   "metadata": {},
   "outputs": [
    {
     "name": "stdout",
     "output_type": "stream",
     "text": [
      "<class 'pandas.core.frame.DataFrame'>\n",
      "Index: 1264709 entries, 0 to 1264958\n",
      "Data columns (total 31 columns):\n",
      " #   Column                                                        Non-Null Count    Dtype  \n",
      "---  ------                                                        --------------    -----  \n",
      " 0   CRASH DAY                                                     1264709 non-null  int64  \n",
      " 1   LATITUDE                                                      1264709 non-null  float64\n",
      " 2   LONGITUDE                                                     1264709 non-null  float64\n",
      " 3   is_holiday                                                    1264709 non-null  int64  \n",
      " 4   NUMBER OF PERSONS KILLED                                      1264709 non-null  float64\n",
      " 5   avg_temp                                                      1264709 non-null  float64\n",
      " 6   snow_depth                                                    1264709 non-null  float64\n",
      " 7   precip                                                        1264709 non-null  float64\n",
      " 8   max_wind_spd                                                  1264709 non-null  float64\n",
      " 9   percent_licensed                                              1264709 non-null  float64\n",
      " 10  percent_unlicensed                                            1264709 non-null  float64\n",
      " 11  percent_permit                                                1264709 non-null  float64\n",
      " 12  day_of_year                                                   1264709 non-null  int32  \n",
      " 13  time_of_day                                                   1264709 non-null  int64  \n",
      " 14  holiday_name_Christmas Day                                    1264709 non-null  int64  \n",
      " 15  holiday_name_Christmas Day (observed)                         1264709 non-null  int64  \n",
      " 16  holiday_name_Columbus Day                                     1264709 non-null  int64  \n",
      " 17  holiday_name_Independence Day                                 1264709 non-null  int64  \n",
      " 18  holiday_name_Independence Day (observed)                      1264709 non-null  int64  \n",
      " 19  holiday_name_Juneteenth National Independence Day             1264709 non-null  int64  \n",
      " 20  holiday_name_Juneteenth National Independence Day (observed)  1264709 non-null  int64  \n",
      " 21  holiday_name_Labor Day                                        1264709 non-null  int64  \n",
      " 22  holiday_name_Martin Luther King Jr. Day                       1264709 non-null  int64  \n",
      " 23  holiday_name_Memorial Day                                     1264709 non-null  int64  \n",
      " 24  holiday_name_New Year's Day                                   1264709 non-null  int64  \n",
      " 25  holiday_name_New Year's Day (observed)                        1264709 non-null  int64  \n",
      " 26  holiday_name_Thanksgiving                                     1264709 non-null  int64  \n",
      " 27  holiday_name_Veterans Day                                     1264709 non-null  int64  \n",
      " 28  holiday_name_Veterans Day (observed)                          1264709 non-null  int64  \n",
      " 29  holiday_name_Washington's Birthday                            1264709 non-null  int64  \n",
      " 30  percent_unknown                                               1264709 non-null  int64  \n",
      "dtypes: float64(10), int32(1), int64(20)\n",
      "memory usage: 303.9 MB\n"
     ]
    }
   ],
   "source": [
    "df['is_holiday'] = df[\"is_holiday\"].astype(int)\n",
    "df['CRASH DATE'] = pd.to_datetime(df['CRASH DATE'], format='%Y-%m-%d')\n",
    "df['CRASH TIME'] = pd.to_datetime(df['CRASH TIME'], format='%H:%M').dt.time\n",
    "df['day_of_year'] = df['CRASH DATE'].dt.dayofyear\n",
    "df['time_of_day'] = df['CRASH TIME'].apply(lambda time: time.hour * 60 + time.minute)\n",
    "df.drop(columns=['CRASH DATE', 'CRASH TIME'], inplace=True)\n",
    "day_num = {\n",
    "    'Sunday': 0,\n",
    "    'Monday': 1,\n",
    "    'Tuesday': 2,\n",
    "    'Wednesday': 3,\n",
    "    'Thursday': 4,\n",
    "    'Friday': 5,\n",
    "    'Saturday': 6\n",
    "}\n",
    "df['CRASH DAY'] = df['CRASH DAY'].map(day_num)\n",
    "df = pd.get_dummies(df, columns = ['holiday_name'])\n",
    "df.iloc[:, 14:31] = df.iloc[:, 14:31].astype(int)\n",
    "df['percent_unknown'] = 0\n",
    "df['percent_unknown'] = df[['percent_licensed', 'percent_unlicensed', 'percent_permit']].isnull().all(axis=1) * 100\n",
    "df[['percent_licensed', 'percent_unlicensed', 'percent_permit']] = df[['percent_licensed', 'percent_unlicensed', 'percent_permit']].fillna(0)\n",
    "df.dropna(subset=['snow_depth'], inplace=True)\n",
    "df.info()"
   ]
  },
  {
   "cell_type": "code",
   "execution_count": 98,
   "id": "0e39a724-4619-4714-b5d9-e6f9e110412f",
   "metadata": {},
   "outputs": [],
   "source": [
    "from sklearn.model_selection import train_test_split\n",
    "from sklearn.preprocessing import StandardScaler\n",
    "from sklearn.linear_model import LinearRegression\n",
    "from sklearn.neighbors import KNeighborsRegressor\n",
    "from sklearn.tree import DecisionTreeRegressor\n",
    "from sklearn.ensemble import RandomForestRegressor\n",
    "from sklearn.metrics import mean_squared_error\n",
    "import numpy as np\n",
    "\n",
    "#scale numeric data such that features with larger scales do not disproportionately impact models\n",
    "X = df.drop(columns=['NUMBER OF PERSONS KILLED'])\n",
    "y = df['NUMBER OF PERSONS KILLED']\n",
    "\n",
    "scaler = StandardScaler()\n",
    "X_scaled = scaler.fit_transform(X)\n",
    "X_scaled = pd.DataFrame(X_scaled, columns=X.columns)\n",
    "\n",
    "#split data into training and testing sets\n",
    "X_train, X_test, y_train, y_test = train_test_split(X_scaled, y, test_size=0.2, random_state=42)"
   ]
  },
  {
   "cell_type": "code",
   "execution_count": 99,
   "id": "2cf1927d-c749-408f-b674-e960c2246fa7",
   "metadata": {},
   "outputs": [
    {
     "name": "stdout",
     "output_type": "stream",
     "text": [
      "Decision Tree Regression MSE: 0.002137167150928095\n",
      "Decision Tree Regression RMSE: 0.046229505198823996\n"
     ]
    }
   ],
   "source": [
    "\"\"\"\n",
    "#decision tree with 1 level for baseline oneR\n",
    "reg = DecisionTreeRegressor(random_state=42, max_depth=1)\n",
    "reg.fit(X_train, y_train)\n",
    "y_pred = reg.predict(X_test)\n",
    "\n",
    "mse = mean_squared_error(y_test, y_pred)\n",
    "rmse = np.sqrt(mse)\n",
    "print(\"Decision Tree Regression MSE:\", mse)\n",
    "print(\"Decision Tree Regression RMSE:\", rmse)\n",
    "\"\"\""
   ]
  },
  {
   "cell_type": "code",
   "execution_count": 100,
   "id": "84aba769-94f4-4e81-a886-03d58cf8076a",
   "metadata": {},
   "outputs": [
    {
     "data": {
      "text/plain": [
       "'\\n#linear regression\\nreg = LinearRegression()\\nreg.fit(X_train, y_train)\\ny_pred = reg.predict(X_test)\\n\\nmse = mean_squared_error(y_test, y_pred)\\nrmse = np.sqrt(mse)\\nprint(\"Linear Regression MSE:\", mse)\\nprint(\"Linear Regression RMSE:\", rmse)\\n'"
      ]
     },
     "execution_count": 100,
     "metadata": {},
     "output_type": "execute_result"
    }
   ],
   "source": [
    "\"\"\"\n",
    "#linear regression\n",
    "reg = LinearRegression()\n",
    "reg.fit(X_train, y_train)\n",
    "y_pred = reg.predict(X_test)\n",
    "\n",
    "mse = mean_squared_error(y_test, y_pred)\n",
    "rmse = np.sqrt(mse)\n",
    "print(\"Linear Regression MSE:\", mse)\n",
    "print(\"Linear Regression RMSE:\", rmse)\n",
    "\"\"\""
   ]
  },
  {
   "cell_type": "code",
   "execution_count": 101,
   "id": "d438c515-6269-48e1-bdab-4ed277c167a7",
   "metadata": {},
   "outputs": [
    {
     "data": {
      "text/plain": [
       "'\\n#knn\\nreg = KNeighborsRegressor(n_neighbors=5)\\nreg.fit(X_train, y_train)\\ny_pred = reg.predict(X_test)\\n\\nmse = mean_squared_error(y_test, y_pred)\\nrmse = np.sqrt(mse)\\nprint(\"K-Nearest Neighbors Regression MSE:\", mse)\\nprint(\"K-Nearest Neighbors Regression RMSE:\", rmse)\\n'"
      ]
     },
     "execution_count": 101,
     "metadata": {},
     "output_type": "execute_result"
    }
   ],
   "source": [
    "\"\"\"\n",
    "#knn\n",
    "reg = KNeighborsRegressor(n_neighbors=5)\n",
    "reg.fit(X_train, y_train)\n",
    "y_pred = reg.predict(X_test)\n",
    "\n",
    "mse = mean_squared_error(y_test, y_pred)\n",
    "rmse = np.sqrt(mse)\n",
    "print(\"K-Nearest Neighbors Regression MSE:\", mse)\n",
    "print(\"K-Nearest Neighbors Regression RMSE:\", rmse)\n",
    "\"\"\""
   ]
  },
  {
   "cell_type": "code",
   "execution_count": 102,
   "id": "996fd3b0-71c6-429c-abd9-40ef847b062f",
   "metadata": {},
   "outputs": [
    {
     "data": {
      "text/plain": [
       "'\\n#decision tree\\nreg = DecisionTreeRegressor(random_state=42)\\nreg.fit(X_train, y_train)\\ny_pred = reg.predict(X_test)\\n\\nmse = mean_squared_error(y_test, y_pred)\\nrmse = np.sqrt(mse)\\nprint(\"Decision Tree Regression MSE:\", mse)\\nprint(\"Decision Tree Regression RMSE:\", rmse)\\n'"
      ]
     },
     "execution_count": 102,
     "metadata": {},
     "output_type": "execute_result"
    }
   ],
   "source": [
    "\"\"\"\n",
    "#decision tree\n",
    "reg = DecisionTreeRegressor(random_state=42)\n",
    "reg.fit(X_train, y_train)\n",
    "y_pred = reg.predict(X_test)\n",
    "\n",
    "mse = mean_squared_error(y_test, y_pred)\n",
    "rmse = np.sqrt(mse)\n",
    "print(\"Decision Tree Regression MSE:\", mse)\n",
    "print(\"Decision Tree Regression RMSE:\", rmse)\n",
    "\"\"\""
   ]
  },
  {
   "cell_type": "code",
   "execution_count": 103,
   "id": "ad197a67-4b9b-4f7a-9c24-1060e8d70f84",
   "metadata": {},
   "outputs": [
    {
     "data": {
      "text/plain": [
       "'\\n#random forest\\nreg = RandomForestRegressor(n_estimators=100, random_state=42)\\nreg.fit(X_train, y_train)\\ny_pred = reg.predict(X_test)\\n\\nmse = mean_squared_error(y_test, y_pred)\\nrmse = np.sqrt(mse)\\nprint(\"Random Forest Regression MSE:\", mse)\\nprint(\"Random Forest Regression RMSE:\", rmse)\\n'"
      ]
     },
     "execution_count": 103,
     "metadata": {},
     "output_type": "execute_result"
    }
   ],
   "source": [
    "\"\"\"\n",
    "#random forest\n",
    "reg = RandomForestRegressor(n_estimators=100, random_state=42)\n",
    "reg.fit(X_train, y_train)\n",
    "y_pred = reg.predict(X_test)\n",
    "\n",
    "mse = mean_squared_error(y_test, y_pred)\n",
    "rmse = np.sqrt(mse)\n",
    "print(\"Random Forest Regression MSE:\", mse)\n",
    "print(\"Random Forest Regression RMSE:\", rmse)\n",
    "\"\"\""
   ]
  },
  {
   "cell_type": "code",
   "execution_count": 104,
   "id": "0797c206-2538-4729-87e9-eef912305af1",
   "metadata": {},
   "outputs": [],
   "source": [
    "from sklearn.linear_model import LogisticRegression\n",
    "from sklearn.tree import DecisionTreeClassifier\n",
    "from sklearn.ensemble import RandomForestClassifier\n",
    "from sklearn.metrics import accuracy_score\n",
    "from sklearn.metrics import confusion_matrix\n",
    "\n",
    "#treat target as if it were categorical ints rather than continuous float\n",
    "#this becomes a problem of classification rather than regression\n",
    "#use models that allow for using class weights to counteract the imbalance that arises when most collisions have 0 people killed\n",
    "\n",
    "df['NUMBER OF PERSONS KILLED'] = df[\"NUMBER OF PERSONS KILLED\"].astype(int)\n",
    "\n",
    "X = df.drop(columns=['NUMBER OF PERSONS KILLED'])\n",
    "y = df['NUMBER OF PERSONS KILLED']\n",
    "\n",
    "scaler = StandardScaler()\n",
    "X_scaled = scaler.fit_transform(X)\n",
    "X_scaled = pd.DataFrame(X_scaled, columns=X.columns)\n",
    "\n",
    "X_train, X_test, y_train, y_test = train_test_split(X_scaled, y, test_size=0.2, random_state=42)"
   ]
  },
  {
   "cell_type": "code",
   "execution_count": 105,
   "id": "0e268f3e-e152-4ed6-8b4e-92ec7c9c9504",
   "metadata": {},
   "outputs": [
    {
     "name": "stdout",
     "output_type": "stream",
     "text": [
      "Accuracy: 5.139518150406022e-05\n",
      "Confusion Matrix:\n",
      "[[     0      0 252003      0    561      0]\n",
      " [     0      0    356      0      2      0]\n",
      " [     0      0     13      0      0      0]\n",
      " [     0      0      4      0      0      0]\n",
      " [     0      0      2      0      0      0]\n",
      " [     0      0      1      0      0      0]]\n"
     ]
    }
   ],
   "source": [
    "#decision tree with 1 level for baseline oneR\n",
    "classifier = DecisionTreeClassifier(class_weight='balanced', random_state=42, max_depth=1)\n",
    "classifier.fit(X_train, y_train)\n",
    "y_pred = classifier.predict(X_test)\n",
    "\n",
    "accuracy = accuracy_score(y_test, y_pred)\n",
    "print(f\"Accuracy: {accuracy}\")\n",
    "\n",
    "cm = confusion_matrix(y_test, y_pred)\n",
    "print(f\"Confusion Matrix:\\n{cm}\")"
   ]
  },
  {
   "cell_type": "code",
   "execution_count": 106,
   "id": "5836c285-ea45-45e9-9cad-47b9c08ebaea",
   "metadata": {},
   "outputs": [
    {
     "name": "stdout",
     "output_type": "stream",
     "text": [
      "Accuracy: 0.5516007622300765\n",
      "Confusion Matrix:\n",
      "[[139414  45327  57041  10770     12      0]\n",
      " [   150    103     81     23      1      0]\n",
      " [     5      1      6      1      0      0]\n",
      " [     0      3      1      0      0      0]\n",
      " [     1      1      0      0      0      0]\n",
      " [     1      0      0      0      0      0]]\n"
     ]
    }
   ],
   "source": [
    "#logistic regression\n",
    "reg = LogisticRegression(class_weight='balanced', max_iter=1000)\n",
    "reg.fit(X_train, y_train)\n",
    "y_pred = reg.predict(X_test)\n",
    "\n",
    "accuracy = accuracy_score(y_test, y_pred)\n",
    "print(f\"Accuracy: {accuracy}\")\n",
    "\n",
    "cm = confusion_matrix(y_test, y_pred)\n",
    "print(f\"Confusion Matrix:\\n{cm}\")"
   ]
  },
  {
   "cell_type": "code",
   "execution_count": 107,
   "id": "7f5758ad-2c50-45b7-8d56-4b7066cc97d6",
   "metadata": {},
   "outputs": [
    {
     "name": "stdout",
     "output_type": "stream",
     "text": [
      "Accuracy: 0.997050707276767\n",
      "Confusion Matrix:\n",
      "[[252193    360      8      3      0      0]\n",
      " [   355      3      0      0      0      0]\n",
      " [    13      0      0      0      0      0]\n",
      " [     4      0      0      0      0      0]\n",
      " [     2      0      0      0      0      0]\n",
      " [     1      0      0      0      0      0]]\n"
     ]
    }
   ],
   "source": [
    "#decision tree\n",
    "classifier = DecisionTreeClassifier(class_weight='balanced', random_state=42)\n",
    "classifier.fit(X_train, y_train)\n",
    "y_pred = classifier.predict(X_test)\n",
    "\n",
    "accuracy = accuracy_score(y_test, y_pred)\n",
    "print(f\"Accuracy: {accuracy}\")\n",
    "\n",
    "cm = confusion_matrix(y_test, y_pred)\n",
    "print(f\"Confusion Matrix:\\n{cm}\")"
   ]
  },
  {
   "cell_type": "code",
   "execution_count": 108,
   "id": "220002da-a44d-43c4-b0c1-2d13771db1ed",
   "metadata": {},
   "outputs": [
    {
     "name": "stdout",
     "output_type": "stream",
     "text": [
      "Accuracy: 0.9984976793098813\n",
      "Confusion Matrix:\n",
      "[[252562      2      0      0      0      0]\n",
      " [   358      0      0      0      0      0]\n",
      " [    13      0      0      0      0      0]\n",
      " [     4      0      0      0      0      0]\n",
      " [     2      0      0      0      0      0]\n",
      " [     1      0      0      0      0      0]]\n"
     ]
    }
   ],
   "source": [
    "#random forest\n",
    "classifier = RandomForestClassifier(class_weight='balanced', n_estimators=100, random_state=42)\n",
    "classifier.fit(X_train, y_train)\n",
    "y_pred = classifier.predict(X_test)\n",
    "\n",
    "accuracy = accuracy_score(y_test, y_pred)\n",
    "print(f\"Accuracy: {accuracy}\")\n",
    "\n",
    "cm = confusion_matrix(y_test, y_pred)\n",
    "print(f\"Confusion Matrix:\\n{cm}\")"
   ]
  },
  {
   "cell_type": "code",
   "execution_count": 109,
   "id": "4e417c63-112d-4869-9a00-898ee0a7c9e2",
   "metadata": {},
   "outputs": [
    {
     "name": "stdout",
     "output_type": "stream",
     "text": [
      "NUMBER OF PERSONS KILLED\n",
      "0    1262772\n",
      "1       1877\n",
      "2         47\n",
      "3          9\n",
      "4          3\n",
      "8          1\n",
      "Name: count, dtype: int64\n"
     ]
    }
   ],
   "source": [
    "unique_death_counts = df['NUMBER OF PERSONS KILLED'].value_counts()\n",
    "print(unique_death_counts)"
   ]
  },
  {
   "cell_type": "code",
   "execution_count": null,
   "id": "edefa3f9-01d3-4d42-abe6-826e916bad24",
   "metadata": {},
   "outputs": [],
   "source": []
  }
 ],
 "metadata": {
  "kernelspec": {
   "display_name": "Python 3 (ipykernel)",
   "language": "python",
   "name": "python3"
  },
  "language_info": {
   "codemirror_mode": {
    "name": "ipython",
    "version": 3
   },
   "file_extension": ".py",
   "mimetype": "text/x-python",
   "name": "python",
   "nbconvert_exporter": "python",
   "pygments_lexer": "ipython3",
   "version": "3.9.6"
  }
 },
 "nbformat": 4,
 "nbformat_minor": 5
}
