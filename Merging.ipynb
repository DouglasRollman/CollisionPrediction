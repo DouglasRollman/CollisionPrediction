{
 "cells": [
  {
   "cell_type": "markdown",
   "id": "291391a4-2231-4364-9099-c9b1922e096a",
   "metadata": {},
   "source": [
    "# Merging Tables\n",
    "## Datasets\n",
    "### Collisions\n",
    "The main dataset. The goal is to add additional information on vehicles involved in each collision as well as weather information. This is done by joining the collisions dataset with the vehicles and weather datasets."
   ]
  },
  {
   "cell_type": "code",
   "execution_count": 125,
   "id": "35902819-cb85-468b-9730-f1b7b1a6af55",
   "metadata": {},
   "outputs": [],
   "source": [
    "import pandas as pd"
   ]
  },
  {
   "cell_type": "code",
   "execution_count": 126,
   "id": "68dc45a2-a4ef-44e5-8c5e-7f8575d963b4",
   "metadata": {},
   "outputs": [
    {
     "name": "stderr",
     "output_type": "stream",
     "text": [
      "/var/folders/c0/_kktl72s23n7b2y70d5d7ldc0000gn/T/ipykernel_22824/2786592164.py:1: DtypeWarning: Columns (4,40) have mixed types. Specify dtype option on import or set low_memory=False.\n",
      "  collisions = pd.read_csv('Motor_Vehicle_Collisions_cpy2.csv')\n"
     ]
    },
    {
     "name": "stdout",
     "output_type": "stream",
     "text": [
      "<class 'pandas.core.frame.DataFrame'>\n",
      "RangeIndex: 2055607 entries, 0 to 2055606\n",
      "Data columns (total 41 columns):\n",
      " #   Column                         Dtype  \n",
      "---  ------                         -----  \n",
      " 0   Unnamed: 0                     int64  \n",
      " 1   CRASH DATE                     object \n",
      " 2   CRASH TIME                     object \n",
      " 3   BOROUGH                        object \n",
      " 4   ZIP CODE                       object \n",
      " 5   LATITUDE                       float64\n",
      " 6   LONGITUDE                      float64\n",
      " 7   LOCATION                       object \n",
      " 8   ON STREET NAME                 object \n",
      " 9   CROSS STREET NAME              object \n",
      " 10  OFF STREET NAME                object \n",
      " 11  NUMBER OF PERSONS INJURED      float64\n",
      " 12  NUMBER OF PERSONS KILLED       float64\n",
      " 13  NUMBER OF PEDESTRIANS INJURED  int64  \n",
      " 14  NUMBER OF PEDESTRIANS KILLED   int64  \n",
      " 15  NUMBER OF CYCLIST INJURED      int64  \n",
      " 16  NUMBER OF CYCLIST KILLED       int64  \n",
      " 17  NUMBER OF MOTORIST INJURED     int64  \n",
      " 18  NUMBER OF MOTORIST KILLED      int64  \n",
      " 19  CONTRIBUTING FACTOR VEHICLE 1  object \n",
      " 20  CONTRIBUTING FACTOR VEHICLE 2  object \n",
      " 21  CONTRIBUTING FACTOR VEHICLE 3  object \n",
      " 22  CONTRIBUTING FACTOR VEHICLE 4  object \n",
      " 23  CONTRIBUTING FACTOR VEHICLE 5  object \n",
      " 24  COLLISION_ID                   int64  \n",
      " 25  VEHICLE TYPE CODE 1            object \n",
      " 26  VEHICLE TYPE CODE 2            object \n",
      " 27  VEHICLE TYPE CODE 3            object \n",
      " 28  VEHICLE TYPE CODE 4            object \n",
      " 29  VEHICLE TYPE CODE 5            object \n",
      " 30  FULL ADDRESS                   object \n",
      " 31  HOUSE NUMBER                   object \n",
      " 32  ROAD                           object \n",
      " 33  NEIGHBOURHOOD                  object \n",
      " 34  SUBURB                         object \n",
      " 35  POSTCODE                       object \n",
      " 36  day_of_week                    object \n",
      " 37  is_weekend                     bool   \n",
      " 38  CRASH HOUR                     int64  \n",
      " 39  is_holiday                     bool   \n",
      " 40  holiday_name                   object \n",
      "dtypes: bool(2), float64(4), int64(9), object(26)\n",
      "memory usage: 615.6+ MB\n"
     ]
    }
   ],
   "source": [
    "collisions = pd.read_csv('Motor_Vehicle_Collisions_cpy2.csv')\n",
    "collisions.info()"
   ]
  },
  {
   "cell_type": "markdown",
   "id": "329bdba3-7517-4e93-b3ea-519dee567f6e",
   "metadata": {},
   "source": [
    "### Vehicles"
   ]
  },
  {
   "cell_type": "code",
   "execution_count": 127,
   "id": "0022044d-afe7-45ec-83e2-1a4c9083a109",
   "metadata": {},
   "outputs": [
    {
     "name": "stdout",
     "output_type": "stream",
     "text": [
      "<class 'pandas.core.frame.DataFrame'>\n",
      "RangeIndex: 4227359 entries, 0 to 4227358\n",
      "Data columns (total 18 columns):\n",
      " #   Column                       Dtype \n",
      "---  ------                       ----- \n",
      " 0   UNIQUE_ID                    int64 \n",
      " 1   COLLISION_ID                 int64 \n",
      " 2   CRASH_DATE                   object\n",
      " 3   VEHICLE_ID                   object\n",
      " 4   STATE_REGISTRATION           object\n",
      " 5   VEHICLE_MAKE                 object\n",
      " 6   VEHICLE_YEAR                 object\n",
      " 7   TRAVEL_DIRECTION             object\n",
      " 8   DRIVER_SEX                   object\n",
      " 9   DRIVER_LICENSE_STATUS        object\n",
      " 10  PRE_CRASH                    object\n",
      " 11  POINT_OF_IMPACT              object\n",
      " 12  VEHICLE_DAMAGE               object\n",
      " 13  VEHICLE_DAMAGE_1             object\n",
      " 14  VEHICLE_DAMAGE_2             object\n",
      " 15  VEHICLE_DAMAGE_3             object\n",
      " 16  PUBLIC_PROPERTY_DAMAGE       object\n",
      " 17  PUBLIC_PROPERTY_DAMAGE_TYPE  object\n",
      "dtypes: int64(2), object(16)\n",
      "memory usage: 580.5+ MB\n"
     ]
    }
   ],
   "source": [
    "vehicles = pd.read_csv('Vehicles_Involved_Cleaned.csv')\n",
    "vehicles.info()"
   ]
  },
  {
   "cell_type": "markdown",
   "id": "24eee5f8-07e2-4a09-86aa-7d6436262f39",
   "metadata": {},
   "source": [
    "Currently the vehicle table is organized such that each row is info on a vehicle involved in a collision. Ideally, we would pivot it to a table such that each row is info on an overall collision with details on every vehicle involved residing on the same row. This would make it easy to merge with the collision table and add additional vehicle info to it. However, it is too memory intensive to pivot the table such that each row is a collision where all the info for each individual vehicle is added as a column. In the case of a rare collision with say 50 vehicles involved, the table would grow to have 50 VEHICLE_MAKE columns and 50 VEHICLE_YEAR columns and so on. Eventually, the table would grow to have hundreds/thousands of columns with millions of rows since there are millions of collisions accounted for. Restricting the table such that it only contains data about collisions with 5 or fewer vehicles can help restrain the size of the pivoted table while also accounting for the vast majority of collisions.\n"
   ]
  },
  {
   "cell_type": "code",
   "execution_count": 128,
   "id": "ed1fb199-5645-4cac-a90e-906536111c16",
   "metadata": {},
   "outputs": [
    {
     "name": "stdout",
     "output_type": "stream",
     "text": [
      "Total number of collisions accounted for: 2104161\n",
      "Number of collisions involving 5 or fewer vehicles: 2100774\n",
      "Number of collisions involving more than 5 vehicles: 3387\n"
     ]
    }
   ],
   "source": [
    "\"\"\"\n",
    "Group rows by COLLISION_ID so vehicles in the same collision are together\n",
    "Create a column that is the number of rows a particular COLLISION_ID has (i.e. number of vehicles involved in each collision)\n",
    "Get info on collision numbers\n",
    "\"\"\"\n",
    "vehicles['GROUP_SIZE'] = vehicles.groupby('COLLISION_ID')['COLLISION_ID'].transform('size')\n",
    "total_collisions = vehicles['COLLISION_ID'].nunique()\n",
    "five_or_less = vehicles[vehicles['GROUP_SIZE'] <= 5]['COLLISION_ID'].nunique()\n",
    "more_than_five = vehicles[vehicles['GROUP_SIZE'] > 5]['COLLISION_ID'].nunique()\n",
    "print(f'Total number of collisions accounted for: {total_collisions}')\n",
    "print(f'Number of collisions involving 5 or fewer vehicles: {five_or_less}')\n",
    "print(f'Number of collisions involving more than 5 vehicles: {more_than_five}')"
   ]
  },
  {
   "cell_type": "code",
   "execution_count": 129,
   "id": "8e7bb298-02fe-463c-a901-3c7ecf807c45",
   "metadata": {},
   "outputs": [
    {
     "name": "stdout",
     "output_type": "stream",
     "text": [
      "<class 'pandas.core.frame.DataFrame'>\n",
      "RangeIndex: 4204448 entries, 0 to 4204447\n",
      "Data columns (total 18 columns):\n",
      " #   Column                       Dtype \n",
      "---  ------                       ----- \n",
      " 0   UNIQUE_ID                    int64 \n",
      " 1   COLLISION_ID                 int64 \n",
      " 2   CRASH_DATE                   object\n",
      " 3   VEHICLE_ID                   object\n",
      " 4   STATE_REGISTRATION           object\n",
      " 5   VEHICLE_MAKE                 object\n",
      " 6   VEHICLE_YEAR                 object\n",
      " 7   TRAVEL_DIRECTION             object\n",
      " 8   DRIVER_SEX                   object\n",
      " 9   DRIVER_LICENSE_STATUS        object\n",
      " 10  PRE_CRASH                    object\n",
      " 11  POINT_OF_IMPACT              object\n",
      " 12  VEHICLE_DAMAGE               object\n",
      " 13  VEHICLE_DAMAGE_1             object\n",
      " 14  VEHICLE_DAMAGE_2             object\n",
      " 15  VEHICLE_DAMAGE_3             object\n",
      " 16  PUBLIC_PROPERTY_DAMAGE       object\n",
      " 17  PUBLIC_PROPERTY_DAMAGE_TYPE  object\n",
      "dtypes: int64(2), object(16)\n",
      "memory usage: 577.4+ MB\n"
     ]
    }
   ],
   "source": [
    "\"\"\"\n",
    "Drop the rows where there are more than 5 vehicles involved\n",
    "Reset the index of the table\n",
    "\"\"\"\n",
    "vehicles = vehicles[vehicles['GROUP_SIZE'] <= 5].drop(columns=['GROUP_SIZE'])\n",
    "vehicles.reset_index(drop=True, inplace=True)\n",
    "vehicles.info()"
   ]
  },
  {
   "cell_type": "code",
   "execution_count": 130,
   "id": "2bcfed90-027a-441d-90e3-6e1ada7513b4",
   "metadata": {},
   "outputs": [
    {
     "name": "stdout",
     "output_type": "stream",
     "text": [
      "UNIQUE_ID: 0 NaN values\n",
      "COLLISION_ID: 0 NaN values\n",
      "CRASH_DATE: 0 NaN values\n",
      "VEHICLE_ID: 0 NaN values\n",
      "STATE_REGISTRATION: 324336 NaN values\n",
      "VEHICLE_MAKE: 0 NaN values\n",
      "VEHICLE_YEAR: 0 NaN values\n",
      "TRAVEL_DIRECTION: 0 NaN values\n",
      "DRIVER_SEX: 0 NaN values\n",
      "DRIVER_LICENSE_STATUS: 0 NaN values\n",
      "PRE_CRASH: 0 NaN values\n",
      "POINT_OF_IMPACT: 0 NaN values\n",
      "VEHICLE_DAMAGE: 0 NaN values\n",
      "VEHICLE_DAMAGE_1: 0 NaN values\n",
      "VEHICLE_DAMAGE_2: 0 NaN values\n",
      "VEHICLE_DAMAGE_3: 0 NaN values\n",
      "PUBLIC_PROPERTY_DAMAGE: 0 NaN values\n",
      "PUBLIC_PROPERTY_DAMAGE_TYPE: 0 NaN values\n"
     ]
    }
   ],
   "source": [
    "for column in vehicles.columns:\n",
    "    nan_count = vehicles[column].isna().sum()\n",
    "    print(f'{column}: {nan_count} NaN values')"
   ]
  },
  {
   "cell_type": "markdown",
   "id": "56b910d3-018f-4756-95d5-b84b8f874df3",
   "metadata": {},
   "source": [
    "22,911 rows of vehicle info were removed after restricting the table to only contain info on vehicles involved in collisions with 5 or fewer vehicles. These rows amount to 3387 collisions being lost, which is small compared to the total of 2104161 collisions."
   ]
  },
  {
   "cell_type": "code",
   "execution_count": 131,
   "id": "1d3c8f74-a949-43cd-af91-40064ce38a5c",
   "metadata": {},
   "outputs": [
    {
     "name": "stdout",
     "output_type": "stream",
     "text": [
      "<class 'pandas.core.frame.DataFrame'>\n",
      "RangeIndex: 2100774 entries, 0 to 2100773\n",
      "Data columns (total 76 columns):\n",
      " #   Column                         Dtype \n",
      "---  ------                         ----- \n",
      " 0   COLLISION_ID                   int64 \n",
      " 1   DRIVER_LICENSE_STATUS_1        object\n",
      " 2   DRIVER_LICENSE_STATUS_2        object\n",
      " 3   DRIVER_LICENSE_STATUS_3        object\n",
      " 4   DRIVER_LICENSE_STATUS_4        object\n",
      " 5   DRIVER_LICENSE_STATUS_5        object\n",
      " 6   DRIVER_SEX_1                   object\n",
      " 7   DRIVER_SEX_2                   object\n",
      " 8   DRIVER_SEX_3                   object\n",
      " 9   DRIVER_SEX_4                   object\n",
      " 10  DRIVER_SEX_5                   object\n",
      " 11  POINT_OF_IMPACT_1              object\n",
      " 12  POINT_OF_IMPACT_2              object\n",
      " 13  POINT_OF_IMPACT_3              object\n",
      " 14  POINT_OF_IMPACT_4              object\n",
      " 15  POINT_OF_IMPACT_5              object\n",
      " 16  PRE_CRASH_1                    object\n",
      " 17  PRE_CRASH_2                    object\n",
      " 18  PRE_CRASH_3                    object\n",
      " 19  PRE_CRASH_4                    object\n",
      " 20  PRE_CRASH_5                    object\n",
      " 21  PUBLIC_PROPERTY_DAMAGE_1       object\n",
      " 22  PUBLIC_PROPERTY_DAMAGE_2       object\n",
      " 23  PUBLIC_PROPERTY_DAMAGE_3       object\n",
      " 24  PUBLIC_PROPERTY_DAMAGE_4       object\n",
      " 25  PUBLIC_PROPERTY_DAMAGE_5       object\n",
      " 26  PUBLIC_PROPERTY_DAMAGE_TYPE_1  object\n",
      " 27  PUBLIC_PROPERTY_DAMAGE_TYPE_2  object\n",
      " 28  PUBLIC_PROPERTY_DAMAGE_TYPE_3  object\n",
      " 29  PUBLIC_PROPERTY_DAMAGE_TYPE_4  object\n",
      " 30  PUBLIC_PROPERTY_DAMAGE_TYPE_5  object\n",
      " 31  STATE_REGISTRATION_1           object\n",
      " 32  STATE_REGISTRATION_2           object\n",
      " 33  STATE_REGISTRATION_3           object\n",
      " 34  STATE_REGISTRATION_4           object\n",
      " 35  STATE_REGISTRATION_5           object\n",
      " 36  TRAVEL_DIRECTION_1             object\n",
      " 37  TRAVEL_DIRECTION_2             object\n",
      " 38  TRAVEL_DIRECTION_3             object\n",
      " 39  TRAVEL_DIRECTION_4             object\n",
      " 40  TRAVEL_DIRECTION_5             object\n",
      " 41  VEHICLE_DAMAGE_1               object\n",
      " 42  VEHICLE_DAMAGE_2               object\n",
      " 43  VEHICLE_DAMAGE_3               object\n",
      " 44  VEHICLE_DAMAGE_4               object\n",
      " 45  VEHICLE_DAMAGE_5               object\n",
      " 46  VEHICLE_DAMAGE_1_1             object\n",
      " 47  VEHICLE_DAMAGE_1_2             object\n",
      " 48  VEHICLE_DAMAGE_1_3             object\n",
      " 49  VEHICLE_DAMAGE_1_4             object\n",
      " 50  VEHICLE_DAMAGE_1_5             object\n",
      " 51  VEHICLE_DAMAGE_2_1             object\n",
      " 52  VEHICLE_DAMAGE_2_2             object\n",
      " 53  VEHICLE_DAMAGE_2_3             object\n",
      " 54  VEHICLE_DAMAGE_2_4             object\n",
      " 55  VEHICLE_DAMAGE_2_5             object\n",
      " 56  VEHICLE_DAMAGE_3_1             object\n",
      " 57  VEHICLE_DAMAGE_3_2             object\n",
      " 58  VEHICLE_DAMAGE_3_3             object\n",
      " 59  VEHICLE_DAMAGE_3_4             object\n",
      " 60  VEHICLE_DAMAGE_3_5             object\n",
      " 61  VEHICLE_ID_1                   object\n",
      " 62  VEHICLE_ID_2                   object\n",
      " 63  VEHICLE_ID_3                   object\n",
      " 64  VEHICLE_ID_4                   object\n",
      " 65  VEHICLE_ID_5                   object\n",
      " 66  VEHICLE_MAKE_1                 object\n",
      " 67  VEHICLE_MAKE_2                 object\n",
      " 68  VEHICLE_MAKE_3                 object\n",
      " 69  VEHICLE_MAKE_4                 object\n",
      " 70  VEHICLE_MAKE_5                 object\n",
      " 71  VEHICLE_YEAR_1                 object\n",
      " 72  VEHICLE_YEAR_2                 object\n",
      " 73  VEHICLE_YEAR_3                 object\n",
      " 74  VEHICLE_YEAR_4                 object\n",
      " 75  VEHICLE_YEAR_5                 object\n",
      "dtypes: int64(1), object(75)\n",
      "memory usage: 1.2+ GB\n"
     ]
    }
   ],
   "source": [
    "\"\"\"\n",
    "Pivot the table\n",
    "Get a vehicle_number column for indexing variations of the same column (i.e. VEHCILE_MAKE will have 5 columns of the same name with indices 1-5 for each vehicle)\n",
    "The pivot is done such that each row is based on a COLLISION_ID\n",
    "Flatten the columns such that instead of 5 indices of one column you have 5 columns with the index appended to the end (i.e. VEHICLE_MAKE_1, VEHICLE_MAKE_2, etc)\n",
    "Reset index\n",
    "\"\"\"\n",
    "vehicles['vehicle_number'] = vehicles.groupby('COLLISION_ID').cumcount() + 1\n",
    "vehicles = vehicles.pivot_table(index='COLLISION_ID',\n",
    "                                columns='vehicle_number',\n",
    "                                values=['VEHICLE_ID', 'STATE_REGISTRATION', 'VEHICLE_MAKE', 'VEHICLE_YEAR', 'TRAVEL_DIRECTION',\n",
    "                                        'DRIVER_SEX', 'DRIVER_LICENSE_STATUS', 'PRE_CRASH', 'POINT_OF_IMPACT', 'VEHICLE_DAMAGE',\n",
    "                                        'VEHICLE_DAMAGE_1', 'VEHICLE_DAMAGE_2', 'VEHICLE_DAMAGE_3', 'PUBLIC_PROPERTY_DAMAGE',\n",
    "                                        'PUBLIC_PROPERTY_DAMAGE_TYPE'],\n",
    "                                aggfunc='first')\n",
    "flattened_columns = []\n",
    "for col in vehicles.columns:\n",
    "    flat_col = '_'.join(map(str, col))\n",
    "    flattened_columns.append(flat_col)\n",
    "\n",
    "vehicles.columns = flattened_columns\n",
    "vehicles.reset_index(inplace=True)\n",
    "vehicles.info()"
   ]
  },
  {
   "cell_type": "code",
   "execution_count": 132,
   "id": "b1942df7-4f17-41a1-97c9-d6490f908894",
   "metadata": {},
   "outputs": [
    {
     "name": "stdout",
     "output_type": "stream",
     "text": [
      "COLLISION_ID: 0 NaN values\n",
      "DRIVER_LICENSE_STATUS_1: 0 NaN values\n",
      "DRIVER_LICENSE_STATUS_2: 199589 NaN values\n",
      "DRIVER_LICENSE_STATUS_3: 1939640 NaN values\n",
      "DRIVER_LICENSE_STATUS_4: 2066435 NaN values\n",
      "DRIVER_LICENSE_STATUS_5: 2093758 NaN values\n",
      "DRIVER_SEX_1: 0 NaN values\n",
      "DRIVER_SEX_2: 199589 NaN values\n",
      "DRIVER_SEX_3: 1939640 NaN values\n",
      "DRIVER_SEX_4: 2066435 NaN values\n",
      "DRIVER_SEX_5: 2093758 NaN values\n",
      "POINT_OF_IMPACT_1: 0 NaN values\n",
      "POINT_OF_IMPACT_2: 199589 NaN values\n",
      "POINT_OF_IMPACT_3: 1939640 NaN values\n",
      "POINT_OF_IMPACT_4: 2066435 NaN values\n",
      "POINT_OF_IMPACT_5: 2093758 NaN values\n",
      "PRE_CRASH_1: 0 NaN values\n",
      "PRE_CRASH_2: 199589 NaN values\n",
      "PRE_CRASH_3: 1939640 NaN values\n",
      "PRE_CRASH_4: 2066435 NaN values\n",
      "PRE_CRASH_5: 2093758 NaN values\n",
      "PUBLIC_PROPERTY_DAMAGE_1: 0 NaN values\n",
      "PUBLIC_PROPERTY_DAMAGE_2: 199589 NaN values\n",
      "PUBLIC_PROPERTY_DAMAGE_3: 1939640 NaN values\n",
      "PUBLIC_PROPERTY_DAMAGE_4: 2066435 NaN values\n",
      "PUBLIC_PROPERTY_DAMAGE_5: 2093758 NaN values\n",
      "PUBLIC_PROPERTY_DAMAGE_TYPE_1: 0 NaN values\n",
      "PUBLIC_PROPERTY_DAMAGE_TYPE_2: 199589 NaN values\n",
      "PUBLIC_PROPERTY_DAMAGE_TYPE_3: 1939640 NaN values\n",
      "PUBLIC_PROPERTY_DAMAGE_TYPE_4: 2066435 NaN values\n",
      "PUBLIC_PROPERTY_DAMAGE_TYPE_5: 2093758 NaN values\n",
      "STATE_REGISTRATION_1: 166125 NaN values\n",
      "STATE_REGISTRATION_2: 345752 NaN values\n",
      "STATE_REGISTRATION_3: 1949434 NaN values\n",
      "STATE_REGISTRATION_4: 2068295 NaN values\n",
      "STATE_REGISTRATION_5: 2094152 NaN values\n",
      "TRAVEL_DIRECTION_1: 0 NaN values\n",
      "TRAVEL_DIRECTION_2: 199589 NaN values\n",
      "TRAVEL_DIRECTION_3: 1939640 NaN values\n",
      "TRAVEL_DIRECTION_4: 2066435 NaN values\n",
      "TRAVEL_DIRECTION_5: 2093758 NaN values\n",
      "VEHICLE_DAMAGE_1: 0 NaN values\n",
      "VEHICLE_DAMAGE_2: 199589 NaN values\n",
      "VEHICLE_DAMAGE_3: 1939640 NaN values\n",
      "VEHICLE_DAMAGE_4: 2066435 NaN values\n",
      "VEHICLE_DAMAGE_5: 2093758 NaN values\n",
      "VEHICLE_DAMAGE_1_1: 0 NaN values\n",
      "VEHICLE_DAMAGE_1_2: 199589 NaN values\n",
      "VEHICLE_DAMAGE_1_3: 1939640 NaN values\n",
      "VEHICLE_DAMAGE_1_4: 2066435 NaN values\n",
      "VEHICLE_DAMAGE_1_5: 2093758 NaN values\n",
      "VEHICLE_DAMAGE_2_1: 0 NaN values\n",
      "VEHICLE_DAMAGE_2_2: 199589 NaN values\n",
      "VEHICLE_DAMAGE_2_3: 1939640 NaN values\n",
      "VEHICLE_DAMAGE_2_4: 2066435 NaN values\n",
      "VEHICLE_DAMAGE_2_5: 2093758 NaN values\n",
      "VEHICLE_DAMAGE_3_1: 0 NaN values\n",
      "VEHICLE_DAMAGE_3_2: 199589 NaN values\n",
      "VEHICLE_DAMAGE_3_3: 1939640 NaN values\n",
      "VEHICLE_DAMAGE_3_4: 2066435 NaN values\n",
      "VEHICLE_DAMAGE_3_5: 2093758 NaN values\n",
      "VEHICLE_ID_1: 0 NaN values\n",
      "VEHICLE_ID_2: 199589 NaN values\n",
      "VEHICLE_ID_3: 1939640 NaN values\n",
      "VEHICLE_ID_4: 2066435 NaN values\n",
      "VEHICLE_ID_5: 2093758 NaN values\n",
      "VEHICLE_MAKE_1: 0 NaN values\n",
      "VEHICLE_MAKE_2: 199589 NaN values\n",
      "VEHICLE_MAKE_3: 1939640 NaN values\n",
      "VEHICLE_MAKE_4: 2066435 NaN values\n",
      "VEHICLE_MAKE_5: 2093758 NaN values\n",
      "VEHICLE_YEAR_1: 0 NaN values\n",
      "VEHICLE_YEAR_2: 199589 NaN values\n",
      "VEHICLE_YEAR_3: 1939640 NaN values\n",
      "VEHICLE_YEAR_4: 2066435 NaN values\n",
      "VEHICLE_YEAR_5: 2093758 NaN values\n"
     ]
    }
   ],
   "source": [
    "for column in vehicles.columns:\n",
    "    nan_count = vehicles[column].isna().sum()\n",
    "    print(f'{column}: {nan_count} NaN values')"
   ]
  },
  {
   "cell_type": "markdown",
   "id": "6d26d494-44ab-4d27-ab93-3cf0f2dee2b2",
   "metadata": {},
   "source": [
    "## Merge"
   ]
  },
  {
   "cell_type": "markdown",
   "id": "3b908fee-fd60-4a70-bcb3-22dc04f64ab4",
   "metadata": {},
   "source": [
    "### Collisions with Vehicles\n",
    "We use a left join, with any matching rows vehicles has with collisions having their columns added to the collisions dataset. If any collision rows have no matching vehicles row, then its added columns will just have NaN values."
   ]
  },
  {
   "cell_type": "code",
   "execution_count": 133,
   "id": "62a535a5-2708-4a3f-a6e9-52d99bd16bc3",
   "metadata": {},
   "outputs": [
    {
     "name": "stdout",
     "output_type": "stream",
     "text": [
      "<class 'pandas.core.frame.DataFrame'>\n",
      "RangeIndex: 2055607 entries, 0 to 2055606\n",
      "Columns: 116 entries, Unnamed: 0 to VEHICLE_YEAR_5\n",
      "dtypes: bool(2), float64(4), int64(9), object(101)\n",
      "memory usage: 1.7+ GB\n"
     ]
    }
   ],
   "source": [
    "collisions_vehicles_merged = collisions.merge(vehicles, on='COLLISION_ID', how='left')\n",
    "collisions_vehicles_merged.info()"
   ]
  },
  {
   "cell_type": "code",
   "execution_count": 134,
   "id": "8fec9c80-d60c-4a9f-9779-4c152058caea",
   "metadata": {},
   "outputs": [
    {
     "name": "stdout",
     "output_type": "stream",
     "text": [
      "Unnamed: 0: 0 NaN values\n",
      "CRASH DATE: 0 NaN values\n",
      "CRASH TIME: 0 NaN values\n",
      "BOROUGH: 605690 NaN values\n",
      "ZIP CODE: 605949 NaN values\n",
      "LATITUDE: 139087 NaN values\n",
      "LONGITUDE: 139087 NaN values\n",
      "LOCATION: 193855 NaN values\n",
      "ON STREET NAME: 419028 NaN values\n",
      "CROSS STREET NAME: 751466 NaN values\n",
      "OFF STREET NAME: 1698966 NaN values\n",
      "NUMBER OF PERSONS INJURED: 0 NaN values\n",
      "NUMBER OF PERSONS KILLED: 0 NaN values\n",
      "NUMBER OF PEDESTRIANS INJURED: 0 NaN values\n",
      "NUMBER OF PEDESTRIANS KILLED: 0 NaN values\n",
      "NUMBER OF CYCLIST INJURED: 0 NaN values\n",
      "NUMBER OF CYCLIST KILLED: 0 NaN values\n",
      "NUMBER OF MOTORIST INJURED: 0 NaN values\n",
      "NUMBER OF MOTORIST KILLED: 0 NaN values\n",
      "CONTRIBUTING FACTOR VEHICLE 1: 6899 NaN values\n",
      "CONTRIBUTING FACTOR VEHICLE 2: 323898 NaN values\n",
      "CONTRIBUTING FACTOR VEHICLE 3: 1911284 NaN values\n",
      "CONTRIBUTING FACTOR VEHICLE 4: 2022871 NaN values\n",
      "CONTRIBUTING FACTOR VEHICLE 5: 2046664 NaN values\n",
      "COLLISION_ID: 0 NaN values\n",
      "VEHICLE TYPE CODE 1: 14071 NaN values\n",
      "VEHICLE TYPE CODE 2: 401142 NaN values\n",
      "VEHICLE TYPE CODE 3: 1916670 NaN values\n",
      "VEHICLE TYPE CODE 4: 2024026 NaN values\n",
      "VEHICLE TYPE CODE 5: 2046933 NaN values\n",
      "FULL ADDRESS: 139107 NaN values\n",
      "HOUSE NUMBER: 693877 NaN values\n",
      "ROAD: 147214 NaN values\n",
      "NEIGHBOURHOOD: 799434 NaN values\n",
      "SUBURB: 153107 NaN values\n",
      "POSTCODE: 144077 NaN values\n",
      "day_of_week: 0 NaN values\n",
      "is_weekend: 0 NaN values\n",
      "CRASH HOUR: 0 NaN values\n",
      "is_holiday: 0 NaN values\n",
      "holiday_name: 2006414 NaN values\n",
      "DRIVER_LICENSE_STATUS_1: 5185 NaN values\n",
      "DRIVER_LICENSE_STATUS_2: 201173 NaN values\n",
      "DRIVER_LICENSE_STATUS_3: 1901288 NaN values\n",
      "DRIVER_LICENSE_STATUS_4: 2022705 NaN values\n",
      "DRIVER_LICENSE_STATUS_5: 2048848 NaN values\n",
      "DRIVER_SEX_1: 5185 NaN values\n",
      "DRIVER_SEX_2: 201173 NaN values\n",
      "DRIVER_SEX_3: 1901288 NaN values\n",
      "DRIVER_SEX_4: 2022705 NaN values\n",
      "DRIVER_SEX_5: 2048848 NaN values\n",
      "POINT_OF_IMPACT_1: 5185 NaN values\n",
      "POINT_OF_IMPACT_2: 201173 NaN values\n",
      "POINT_OF_IMPACT_3: 1901288 NaN values\n",
      "POINT_OF_IMPACT_4: 2022705 NaN values\n",
      "POINT_OF_IMPACT_5: 2048848 NaN values\n",
      "PRE_CRASH_1: 5185 NaN values\n",
      "PRE_CRASH_2: 201173 NaN values\n",
      "PRE_CRASH_3: 1901288 NaN values\n",
      "PRE_CRASH_4: 2022705 NaN values\n",
      "PRE_CRASH_5: 2048848 NaN values\n",
      "PUBLIC_PROPERTY_DAMAGE_1: 5185 NaN values\n",
      "PUBLIC_PROPERTY_DAMAGE_2: 201173 NaN values\n",
      "PUBLIC_PROPERTY_DAMAGE_3: 1901288 NaN values\n",
      "PUBLIC_PROPERTY_DAMAGE_4: 2022705 NaN values\n",
      "PUBLIC_PROPERTY_DAMAGE_5: 2048848 NaN values\n",
      "PUBLIC_PROPERTY_DAMAGE_TYPE_1: 5185 NaN values\n",
      "PUBLIC_PROPERTY_DAMAGE_TYPE_2: 201173 NaN values\n",
      "PUBLIC_PROPERTY_DAMAGE_TYPE_3: 1901288 NaN values\n",
      "PUBLIC_PROPERTY_DAMAGE_TYPE_4: 2022705 NaN values\n",
      "PUBLIC_PROPERTY_DAMAGE_TYPE_5: 2048848 NaN values\n",
      "STATE_REGISTRATION_1: 169859 NaN values\n",
      "STATE_REGISTRATION_2: 346052 NaN values\n",
      "STATE_REGISTRATION_3: 1910895 NaN values\n",
      "STATE_REGISTRATION_4: 2024531 NaN values\n",
      "STATE_REGISTRATION_5: 2049237 NaN values\n",
      "TRAVEL_DIRECTION_1: 5185 NaN values\n",
      "TRAVEL_DIRECTION_2: 201173 NaN values\n",
      "TRAVEL_DIRECTION_3: 1901288 NaN values\n",
      "TRAVEL_DIRECTION_4: 2022705 NaN values\n",
      "TRAVEL_DIRECTION_5: 2048848 NaN values\n",
      "VEHICLE_DAMAGE_1: 5185 NaN values\n",
      "VEHICLE_DAMAGE_2: 201173 NaN values\n",
      "VEHICLE_DAMAGE_3: 1901288 NaN values\n",
      "VEHICLE_DAMAGE_4: 2022705 NaN values\n",
      "VEHICLE_DAMAGE_5: 2048848 NaN values\n",
      "VEHICLE_DAMAGE_1_1: 5185 NaN values\n",
      "VEHICLE_DAMAGE_1_2: 201173 NaN values\n",
      "VEHICLE_DAMAGE_1_3: 1901288 NaN values\n",
      "VEHICLE_DAMAGE_1_4: 2022705 NaN values\n",
      "VEHICLE_DAMAGE_1_5: 2048848 NaN values\n",
      "VEHICLE_DAMAGE_2_1: 5185 NaN values\n",
      "VEHICLE_DAMAGE_2_2: 201173 NaN values\n",
      "VEHICLE_DAMAGE_2_3: 1901288 NaN values\n",
      "VEHICLE_DAMAGE_2_4: 2022705 NaN values\n",
      "VEHICLE_DAMAGE_2_5: 2048848 NaN values\n",
      "VEHICLE_DAMAGE_3_1: 5185 NaN values\n",
      "VEHICLE_DAMAGE_3_2: 201173 NaN values\n",
      "VEHICLE_DAMAGE_3_3: 1901288 NaN values\n",
      "VEHICLE_DAMAGE_3_4: 2022705 NaN values\n",
      "VEHICLE_DAMAGE_3_5: 2048848 NaN values\n",
      "VEHICLE_ID_1: 5185 NaN values\n",
      "VEHICLE_ID_2: 201173 NaN values\n",
      "VEHICLE_ID_3: 1901288 NaN values\n",
      "VEHICLE_ID_4: 2022705 NaN values\n",
      "VEHICLE_ID_5: 2048848 NaN values\n",
      "VEHICLE_MAKE_1: 5185 NaN values\n",
      "VEHICLE_MAKE_2: 201173 NaN values\n",
      "VEHICLE_MAKE_3: 1901288 NaN values\n",
      "VEHICLE_MAKE_4: 2022705 NaN values\n",
      "VEHICLE_MAKE_5: 2048848 NaN values\n",
      "VEHICLE_YEAR_1: 5185 NaN values\n",
      "VEHICLE_YEAR_2: 201173 NaN values\n",
      "VEHICLE_YEAR_3: 1901288 NaN values\n",
      "VEHICLE_YEAR_4: 2022705 NaN values\n",
      "VEHICLE_YEAR_5: 2048848 NaN values\n"
     ]
    }
   ],
   "source": [
    "for column in collisions_vehicles_merged.columns:\n",
    "    nan_count = collisions_vehicles_merged[column].isna().sum()\n",
    "    print(f'{column}: {nan_count} NaN values')"
   ]
  },
  {
   "cell_type": "code",
   "execution_count": 135,
   "id": "fc50dc11-579f-42db-a080-c3b120b235bb",
   "metadata": {},
   "outputs": [],
   "source": [
    "collisions_vehicles_merged.to_csv('Collisions_Vehicles_Merged.csv', index=False)"
   ]
  },
  {
   "cell_type": "markdown",
   "id": "20393be4-1379-452f-b9ba-e77f972988b8",
   "metadata": {},
   "source": [
    "### Collisions with Vehicles with Weather\n",
    "Given a collision dataset with weather added on to it by Caleb, we can create a comprehensive table of collisions with additional info on the vehicles involved as well as the weather during the time the collision took place."
   ]
  },
  {
   "cell_type": "code",
   "execution_count": 1,
   "id": "3f0b11bd-1dfb-4297-9e92-bd94aac31c5e",
   "metadata": {},
   "outputs": [
    {
     "ename": "NameError",
     "evalue": "name 'pd' is not defined",
     "output_type": "error",
     "traceback": [
      "\u001b[0;31m---------------------------------------------------------------------------\u001b[0m",
      "\u001b[0;31mNameError\u001b[0m                                 Traceback (most recent call last)",
      "Cell \u001b[0;32mIn[1], line 1\u001b[0m\n\u001b[0;32m----> 1\u001b[0m collisions_weather_merged \u001b[38;5;241m=\u001b[39m \u001b[43mpd\u001b[49m\u001b[38;5;241m.\u001b[39mread_csv(\u001b[38;5;124m'\u001b[39m\u001b[38;5;124mcol_and_weather.csv\u001b[39m\u001b[38;5;124m'\u001b[39m)\n\u001b[1;32m      2\u001b[0m \u001b[38;5;28;01mfor\u001b[39;00m column \u001b[38;5;129;01min\u001b[39;00m collisions_weather_merged\u001b[38;5;241m.\u001b[39mcolumns:\n\u001b[1;32m      3\u001b[0m     \u001b[38;5;28mprint\u001b[39m(column)\n",
      "\u001b[0;31mNameError\u001b[0m: name 'pd' is not defined"
     ]
    }
   ],
   "source": [
    "import pandas as pd\n",
    "collisions_weather_merged = pd.read_csv('col_and_weather.csv')\n",
    "for column in collisions_weather_merged.columns:\n",
    "    print(column)"
   ]
  },
  {
   "cell_type": "code",
   "execution_count": null,
   "id": "39f2cabc-0763-429d-8420-3d1497de83ef",
   "metadata": {},
   "outputs": [],
   "source": []
  }
 ],
 "metadata": {
  "kernelspec": {
   "display_name": "Python 3 (ipykernel)",
   "language": "python",
   "name": "python3"
  },
  "language_info": {
   "codemirror_mode": {
    "name": "ipython",
    "version": 3
   },
   "file_extension": ".py",
   "mimetype": "text/x-python",
   "name": "python",
   "nbconvert_exporter": "python",
   "pygments_lexer": "ipython3",
   "version": "3.9.6"
  }
 },
 "nbformat": 4,
 "nbformat_minor": 5
}
