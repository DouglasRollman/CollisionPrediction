{
 "cells": [
  {
   "cell_type": "markdown",
   "id": "ca88d944",
   "metadata": {},
   "source": [
    "# Getting Weather Information\n",
    "\n",
    "Below is the code we run in order to be able to fetch the weather data from our choice of API. The code was run over the span of several days (due to API call limits) while changing the 'start date' and 'end date' sections of the params object. We just had to first create the table, add the headers the first time we add to it, then use mode='a' and headers=False in order to continue adding just the values to the already existing table\n"
   ]
  },
  {
   "cell_type": "code",
   "execution_count": null,
   "id": "1fe38ac6",
   "metadata": {},
   "outputs": [],
   "source": [
    "import requests\n",
    "import pandas as pd\n",
    "from datetime import datetime\n",
    "\n",
    "# Define API key and endpoint\n",
    "api_key =   '987c01dc862a43b18e6a7d7b5a4ea00b' #Doug's API Key\n",
    "#api_key = 'dc0f01534f3145e19addf16d07ba2707'#Caleb's API key\n",
    "endpoint = 'https://api.weatherbit.io/v2.0/history/daily'\n",
    "\n",
    "# Define parameters\n",
    "params = {\n",
    "    'city': 'New York',\n",
    "    'start_date': '2024-04-22',  # Start date in YYYY-MM-DD format\n",
    "    'end_date': '2024-08-01',    # End date in YYYY-MM-DD format\n",
    "    'key': api_key\n",
    "}\n",
    "\n",
    "# Send GET request\n",
    "response = requests.get(endpoint, params=params)\n",
    "\n",
    "# Check response status and content\n",
    "if response.status_code == 200:\n",
    "    data = response.json()\n",
    "    print(f\"Response keys: {data.keys()}\")  # Print keys to understand the structure\n",
    "\n",
    "    # Check if 'data' key is in response\n",
    "    if 'data' in data:\n",
    "        weather_data = data['data']\n",
    "        df = pd.DataFrame(weather_data)\n",
    "\n",
    "        # Display DataFrame and date range\n",
    "        print(df.head())\n",
    "        print(f\"Date range: {df['datetime'].min()}, {df['datetime'].max()}\")\n",
    "    else:\n",
    "        print(\"Key 'data' not found in the response.\")\n",
    "else:\n",
    "    print(f\"Failed to retrieve data: {response.status_code}\")\n",
    "    print(response.json())  # Print detailed error message for debugging\n",
    "\n",
    "df.to_csv('weather.csv', mode = 'a', header=False, index=False)"
   ]
  },
  {
   "cell_type": "markdown",
   "id": "486a3e88",
   "metadata": {},
   "source": [
    "# Adding Weather data to the rest of our data\n",
    "\n",
    "Below is the code we used in order to to merge our tables with the information about the crashes and the weather data. This was done by loading both tables in as dataframes, converting the date columns on both dataframes to datetime, then conducting a rightjoin using the dates. We then dropped on of the data columns since it isn't helpful to have two of the same column. "
   ]
  },
  {
   "cell_type": "code",
   "execution_count": null,
   "id": "ccc63d84",
   "metadata": {},
   "outputs": [],
   "source": [
    "import requests\n",
    "import pandas as pd\n",
    "from datetime import datetime\n",
    "\n",
    "import pandas as pd\n",
    "\n",
    "# Read the CSV files into DataFrames\n",
    "df = pd.read_csv(\"Crashes.csv\")\n",
    "weather = pd.read_csv(\"weather.csv\")\n",
    "\n",
    "# Convert date columns to datetime format\n",
    "# Ensure to replace 'CRASH DATE' and 'datetime' with the actual column names\n",
    "df['CRASH DATE'] = pd.to_datetime(df['CRASH DATE'])\n",
    "weather['datetime'] = pd.to_datetime(weather['datetime'])\n",
    "\n",
    "# Merge the DataFrames on the different date column names\n",
    "df_combined = pd.merge(df, weather, left_on='CRASH DATE', right_on='datetime')\n",
    "\n",
    "# Drop the redundant date column from the weather DataFrame\n",
    "df_combined = df_combined.drop(columns=['datetime'])\n",
    "\n",
    "# Print column headers of the combined DataFrame\n",
    "print(\"Column headers of the combined DataFrame:\")\n",
    "print(df_combined.columns.tolist())\n"
   ]
  }
 ],
 "metadata": {
  "kernelspec": {
   "display_name": "Python 3 (ipykernel)",
   "language": "python",
   "name": "python3"
  },
  "language_info": {
   "codemirror_mode": {
    "name": "ipython",
    "version": 3
   },
   "file_extension": ".py",
   "mimetype": "text/x-python",
   "name": "python",
   "nbconvert_exporter": "python",
   "pygments_lexer": "ipython3",
   "version": "3.12.4"
  }
 },
 "nbformat": 4,
 "nbformat_minor": 5
}
